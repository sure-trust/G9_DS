{
  "nbformat": 4,
  "nbformat_minor": 0,
  "metadata": {
    "colab": {
      "provenance": []
    },
    "kernelspec": {
      "name": "python3",
      "display_name": "Python 3"
    },
    "language_info": {
      "name": "python"
    }
  },
  "cells": [
    {
      "cell_type": "code",
      "execution_count": 3,
      "metadata": {
        "colab": {
          "base_uri": "https://localhost:8080/"
        },
        "id": "3tLvG5f9XOzg",
        "outputId": "60f34620-1780-40e5-b8e8-fff7b2da8a84"
      },
      "outputs": [
        {
          "name": "stdout",
          "output_type": "stream",
          "text": [
            "1. Add transaction\n",
            "2. View transactions\n",
            "3. Save and exit\n",
            "Enter your choice: 2\n",
            "Enter category (leave blank to view all): \n",
            "Description: Shopping , Amount: 5000.0, Category: T-Shirt\n",
            "Description: Shopping, Amount: 3000.0, Category: Jeans\n",
            "1. Add transaction\n",
            "2. View transactions\n",
            "3. Save and exit\n",
            "Enter your choice: 3\n"
          ]
        }
      ],
      "source": [
        "class Transaction:\n",
        "    def __init__(self, description, amount, category):\n",
        "        self.description = description\n",
        "        self.amount = amount\n",
        "        self.category = category\n",
        "\n",
        "class FinanceTracker:\n",
        "    def __init__(self):\n",
        "        self.transactions = []\n",
        "\n",
        "    def add_transaction(self, description, amount, category):\n",
        "        transaction = Transaction(description, amount, category)\n",
        "        self.transactions.append(transaction)\n",
        "\n",
        "    def view_transactions(self, category=None):\n",
        "        for transaction in self.transactions:\n",
        "            if category:\n",
        "                if transaction.category == category:\n",
        "                    print(f'Description: {transaction.description}, Amount: {transaction.amount}, Category: {transaction.category}')\n",
        "            else:\n",
        "                print(f'Description: {transaction.description}, Amount: {transaction.amount}, Category: {transaction.category}')\n",
        "\n",
        "    def save_transactions(self):\n",
        "        with open('transactions.txt', 'w') as f:\n",
        "            for transaction in self.transactions:\n",
        "                f.write(f'{transaction.description},{transaction.amount},{transaction.category}\\n')\n",
        "\n",
        "    def load_transactions(self):\n",
        "        try:\n",
        "            with open('transactions.txt', 'r') as f:\n",
        "                lines = f.readlines()\n",
        "                for line in lines:\n",
        "                    description, amount, category = line.strip().split(',')\n",
        "                    self.add_transaction(description, float(amount), category)\n",
        "        except FileNotFoundError:\n",
        "            pass\n",
        "\n",
        "if __name__ == \"__main__\":\n",
        "    tracker = FinanceTracker()\n",
        "    tracker.load_transactions()\n",
        "    while True:\n",
        "        print(\"1. Add transaction\")\n",
        "        print(\"2. View transactions\")\n",
        "        print(\"3. Save and exit\")\n",
        "        choice = input(\"Enter your choice: \")\n",
        "        if choice == '1':\n",
        "            description = input(\"Enter description: \")\n",
        "            amount = float(input(\"Enter amount: \"))\n",
        "            category = input(\"Enter category: \")\n",
        "            tracker.add_transaction(description, amount, category)\n",
        "        elif choice == '2':\n",
        "            category = input(\"Enter category (leave blank to view all): \")\n",
        "            tracker.view_transactions(category)\n",
        "        elif choice == '3':\n",
        "            tracker.save_transactions()\n",
        "            break\n"
      ]
    }
  ]
}