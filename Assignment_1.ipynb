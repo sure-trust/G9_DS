{
  "nbformat": 4,
  "nbformat_minor": 0,
  "metadata": {
    "colab": {
      "provenance": [],
      "authorship_tag": "ABX9TyPi+eX/R2dwVLRQEEaa6ThT",
      "include_colab_link": true
    },
    "kernelspec": {
      "name": "python3",
      "display_name": "Python 3"
    },
    "language_info": {
      "name": "python"
    }
  },
  "cells": [
    {
      "cell_type": "markdown",
      "metadata": {
        "id": "view-in-github",
        "colab_type": "text"
      },
      "source": [
        "<a href=\"https://colab.research.google.com/github/Praveen767599/G9_DS/blob/main/Assignment_1.ipynb\" target=\"_parent\"><img src=\"https://colab.research.google.com/assets/colab-badge.svg\" alt=\"Open In Colab\"/></a>"
      ]
    },
    {
      "cell_type": "markdown",
      "source": [
        "Interactive Fiction Game (Hangman)"
      ],
      "metadata": {
        "id": "OwBtPgXlqHkv"
      }
    },
    {
      "cell_type": "code",
      "execution_count": null,
      "metadata": {
        "colab": {
          "base_uri": "https://localhost:8080/"
        },
        "id": "ytF5mPG-oYAc",
        "outputId": "f5b54b0f-b015-41af-dd10-8d89afaf1091"
      },
      "outputs": [
        {
          "output_type": "stream",
          "name": "stdout",
          "text": [
            "Welcome to Hangman!\n",
            "Try to guess the word before you run out of attempts.\n",
            "\n",
            "Word: ____\n",
            "Enter a letter: g\n",
            "Incorrect guess! Attempts left: 5\n",
            "\n",
            "Word: ____\n",
            "Enter a letter: o\n",
            "Incorrect guess! Attempts left: 4\n",
            "\n",
            "Word: ____\n",
            "Enter a letter: r\n",
            "Incorrect guess! Attempts left: 3\n",
            "\n",
            "Word: ____\n",
            "Enter a letter: a\n",
            "Incorrect guess! Attempts left: 2\n",
            "\n",
            "Word: ____\n",
            "Enter a letter: g\n",
            "You've already guessed that letter.\n",
            "\n",
            "Word: ____\n",
            "Enter a letter: e\n",
            "Incorrect guess! Attempts left: 1\n",
            "\n",
            "Word: ____\n",
            "Enter a letter: n\n",
            "Incorrect guess! Attempts left: 0\n",
            "Game over! The word was: kiwi\n"
          ]
        }
      ],
      "source": [
        "\n",
        "import random\n",
        "\n",
        "def choose_word():\n",
        "    words = [\"apple\", \"banana\", \"orange\", \"grape\", \"kiwi\"]\n",
        "    return random.choice(words)\n",
        "\n",
        "def display_word(word, guessed_letters):\n",
        "    display = \"\"\n",
        "    for letter in word:\n",
        "        if letter in guessed_letters:\n",
        "            display += letter\n",
        "        else:\n",
        "            display += \"_\"\n",
        "    return display\n",
        "\n",
        "def hangman_game():\n",
        "    word = choose_word()\n",
        "    guessed_letters = []\n",
        "    attempts_left = 6\n",
        "\n",
        "    print(\"Welcome to Hangman!\")\n",
        "    print(\"Try to guess the word before you run out of attempts.\")\n",
        "\n",
        "    while attempts_left > 0:\n",
        "        print(\"\\nWord:\", display_word(word, guessed_letters))\n",
        "        guess = input(\"Enter a letter: \").lower()\n",
        "\n",
        "        if len(guess) != 1 or not guess.isalpha():\n",
        "            print(\"Please enter a single letter.\")\n",
        "            continue\n",
        "\n",
        "        if guess in guessed_letters:\n",
        "            print(\"You've already guessed that letter.\")\n",
        "            continue\n",
        "\n",
        "        guessed_letters.append(guess)\n",
        "\n",
        "        if guess not in word:\n",
        "            attempts_left -= 1\n",
        "            print(\"Incorrect guess! Attempts left:\", attempts_left)\n",
        "            if attempts_left == 0:\n",
        "                print(\"Game over! The word was:\", word)\n",
        "                break\n",
        "        else:\n",
        "            print(\"Correct guess!\")\n",
        "\n",
        "        if all(letter in guessed_letters for letter in word):\n",
        "            print(\"Congratulations! You guessed the word:\", word)\n",
        "            break\n",
        "\n",
        "hangman_game()"
      ]
    },
    {
      "cell_type": "markdown",
      "source": [
        "Grocery Budget Tracker"
      ],
      "metadata": {
        "id": "XNJ9tbmXqYy8"
      }
    },
    {
      "cell_type": "code",
      "source": [
        "\n",
        "def grocery_budget_tracker():\n",
        "    total_budget = float(input(\"Enter your total budget: \"))\n",
        "    total_spent = 0\n",
        "\n",
        "    while True:\n",
        "        expense = float(input(\"Enter expense amount (0 to stop): \"))\n",
        "        if expense == 0:\n",
        "            break\n",
        "        total_spent += expense\n",
        "        print(\"Total spent so far:\", total_spent)\n",
        "        if total_spent > total_budget:\n",
        "            print(\"You have exceeded your budget!\")\n",
        "            break\n",
        "        elif total_spent == total_budget:\n",
        "            print(\"You have reached your budget limit.\")\n",
        "\n",
        "grocery_budget_tracker()"
      ],
      "metadata": {
        "colab": {
          "base_uri": "https://localhost:8080/"
        },
        "id": "mypzbCktqrEW",
        "outputId": "b9736616-9fb3-4203-bf7a-a934d246c30a"
      },
      "execution_count": null,
      "outputs": [
        {
          "output_type": "stream",
          "name": "stdout",
          "text": [
            "Enter your total budget: 3000\n",
            "Enter expense amount (0 to stop): 2000\n",
            "Total spent so far: 2000.0\n",
            "Enter expense amount (0 to stop): 1000\n",
            "Total spent so far: 3000.0\n",
            "You have reached your budget limit.\n",
            "Enter expense amount (0 to stop): 500\n",
            "Total spent so far: 3500.0\n",
            "You have exceeded your budget!\n"
          ]
        }
      ]
    },
    {
      "cell_type": "markdown",
      "source": [
        "Password Strength Checker"
      ],
      "metadata": {
        "id": "YVrcjKXTrWZp"
      }
    },
    {
      "cell_type": "code",
      "source": [
        "\n",
        "def password_strength_checker(password):\n",
        "    strength = 0\n",
        "    if len(password) >= 8:\n",
        "        strength += 1\n",
        "    if any(char.isupper() for char in password):\n",
        "        strength += 1\n",
        "    if any(char.isdigit() for char in password):\n",
        "        strength += 1\n",
        "    if any(char in \"!@#$%^&*()-_+=~`[]{}|;:,.<>?/\" for char in password):\n",
        "        strength += 1\n",
        "    return strength\n",
        "\n",
        "def suggest_improvements(strength):\n",
        "    if strength < 3:\n",
        "        return \"Your password is weak. Consider using a longer password with a mix of uppercase letters, numbers, and special characters.\"\n",
        "    elif strength == 3:\n",
        "        return \"Your password is moderately strong, but there is room for improvement.\"\n",
        "    else:\n",
        "        return \"Your password is strong. Keep up the good work!\"\n",
        "\n",
        "password = input(\"Enter your password: \")\n",
        "password_strength = password_strength_checker(password)\n",
        "print(\"Password strength:\", password_strength)\n",
        "print(suggest_improvements(password_strength))"
      ],
      "metadata": {
        "colab": {
          "base_uri": "https://localhost:8080/"
        },
        "id": "l-k1oMlarlpT",
        "outputId": "c50bcd6c-f71e-40f5-afcf-cfe93606a0b7"
      },
      "execution_count": null,
      "outputs": [
        {
          "output_type": "stream",
          "name": "stdout",
          "text": [
            "Enter your password: Mypassword\n",
            "Password strength: 2\n",
            "Your password is weak. Consider using a longer password with a mix of uppercase letters, numbers, and special characters.\n"
          ]
        }
      ]
    },
    {
      "cell_type": "markdown",
      "source": [
        "Personal Budgeting App"
      ],
      "metadata": {
        "id": "SgouvXoGsGi-"
      }
    },
    {
      "cell_type": "code",
      "source": [
        "\n",
        "def personal_budgeting_app():\n",
        "    total_income = float(input(\"Enter your total income: \"))\n",
        "    total_expenses = 0\n",
        "\n",
        "    while True:\n",
        "        expense = float(input(\"Enter expense amount (0 to stop): \"))\n",
        "        if expense == 0:\n",
        "            break\n",
        "        total_expenses += expense\n",
        "\n",
        "    savings = total_income - total_expenses\n",
        "    print(\"Total expenses:\", total_expenses)\n",
        "    print(\"Savings:\", savings)\n",
        "\n",
        "personal_budgeting_app()"
      ],
      "metadata": {
        "colab": {
          "base_uri": "https://localhost:8080/"
        },
        "id": "XypJrQgjsXRG",
        "outputId": "c0fd277b-2435-4a6f-df91-b0be32990e7a"
      },
      "execution_count": null,
      "outputs": [
        {
          "output_type": "stream",
          "name": "stdout",
          "text": [
            "Enter your total income: 20000\n",
            "Enter expense amount (0 to stop): 3000\n",
            "Enter expense amount (0 to stop): 2000\n",
            "Enter expense amount (0 to stop): 4100\n",
            "Enter expense amount (0 to stop): 1100\n",
            "Enter expense amount (0 to stop): 2000\n",
            "Enter expense amount (0 to stop): 2\n",
            "Enter expense amount (0 to stop): 0\n",
            "Total expenses: 12202.0\n",
            "Savings: 7798.0\n"
          ]
        }
      ]
    },
    {
      "cell_type": "markdown",
      "source": [
        "Interactive Quiz with Feedback"
      ],
      "metadata": {
        "id": "8lIwP8G2t7Vw"
      }
    },
    {
      "cell_type": "code",
      "source": [
        "\n",
        "def interactive_quiz_with_feedback():\n",
        "    questions = {\n",
        "        \"What is the capital of France?\": \"Paris\",\n",
        "        \"Who wrote 'Romeo and Juliet'?\": \"William Shakespeare\",\n",
        "        \"What is the symbol for the chemical element oxygen?\": \"O\"\n",
        "         }\n",
        "\n",
        "    correct_answers = 0\n",
        "    total_questions = len(questions)\n",
        "\n",
        "    for question, answer in questions.items():\n",
        "        user_answer = input(question + \" \")\n",
        "        if user_answer.lower() == answer.lower():\n",
        "            print(\"Correct!\")\n",
        "            correct_answers += 1\n",
        "        else:\n",
        "            print(\"Incorrect. The correct answer is:\", answer)\n",
        "\n",
        "    score = (correct_answers / total_questions) * 100\n",
        "    print(\"You scored:\", score)\n",
        "\n",
        "interactive_quiz_with_feedback()"
      ],
      "metadata": {
        "colab": {
          "base_uri": "https://localhost:8080/"
        },
        "id": "4XPyXK7xuGNQ",
        "outputId": "2ef344da-fbd0-4836-887e-863619f64504"
      },
      "execution_count": null,
      "outputs": [
        {
          "output_type": "stream",
          "name": "stdout",
          "text": [
            "What is the capital of France? Italy \n",
            "Incorrect. The correct answer is: Paris\n",
            "Who wrote 'Romeo and Juliet'? Shakespeare \n",
            "Incorrect. The correct answer is: William Shakespeare\n",
            "What is the symbol for the chemical element oxygen? O\n",
            "Correct!\n",
            "You scored: 33.33333333333333\n"
          ]
        }
      ]
    },
    {
      "cell_type": "markdown",
      "source": [
        "Simple Currency Converter"
      ],
      "metadata": {
        "id": "XpDsXW1Dw-BK"
      }
    },
    {
      "cell_type": "code",
      "source": [
        "\n",
        "def currency_converter():\n",
        "    exchange_rates = {\n",
        "        \"USD\": 1.0,\n",
        "        \"EUR\": 0.85,\n",
        "        \"GBP\": 0.73,\n",
        "        \"JPY\": 109.24\n",
        "    }\n",
        "\n",
        "    amount = float(input(\"Enter amount: \"))\n",
        "    from_currency = input(\"Enter currency to convert from (e.g., USD): \").upper()\n",
        "    to_currency = input(\"Enter currency to convert to (e.g., EUR): \").upper()\n",
        "\n",
        "    if from_currency not in exchange_rates or to_currency not in exchange_rates:\n",
        "        print(\"Invalid currency.\")\n",
        "        return\n",
        "\n",
        "    converted_amount = amount * (exchange_rates[from_currency] / exchange_rates[to_currency])\n",
        "    print(\"Converted amount:\", converted_amount, to_currency)\n",
        "\n",
        "currency_converter()"
      ],
      "metadata": {
        "colab": {
          "base_uri": "https://localhost:8080/"
        },
        "id": "IVeeNOAZxP2P",
        "outputId": "89314eb2-8982-4406-e5a8-51bffbcd7d0f"
      },
      "execution_count": null,
      "outputs": [
        {
          "output_type": "stream",
          "name": "stdout",
          "text": [
            "Enter amount: 4500\n",
            "Enter currency to convert from (e.g., USD): USD\n",
            "Enter currency to convert to (e.g., EUR): EUR\n",
            "Converted amount: 5294.117647058823 EUR\n"
          ]
        }
      ]
    }
  ]
}