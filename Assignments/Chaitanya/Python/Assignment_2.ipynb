{
  "nbformat": 4,
  "nbformat_minor": 0,
  "metadata": {
    "colab": {
      "provenance": []
    },
    "kernelspec": {
      "name": "python3",
      "display_name": "Python 3"
    },
    "language_info": {
      "name": "python"
    }
  },
  "cells": [
    {
      "cell_type": "markdown",
      "source": [
        "Que 1."
      ],
      "metadata": {
        "id": "9EGqnAbqY7zg"
      }
    },
    {
      "cell_type": "code",
      "execution_count": 1,
      "metadata": {
        "colab": {
          "base_uri": "https://localhost:8080/"
        },
        "id": "OzB55zLlYj7S",
        "outputId": "c85d8939-a26a-4aaf-bb30-591f68dbf377"
      },
      "outputs": [
        {
          "output_type": "stream",
          "name": "stdout",
          "text": [
            "HelloWorld\n"
          ]
        }
      ],
      "source": [
        "x = \"Hello\"\n",
        "y = \"World\"\n",
        "z = x + y\n",
        "print(z)"
      ]
    },
    {
      "cell_type": "markdown",
      "source": [
        "Que 2. a) x = y = z = \"Orange\"\n",
        "       b) x, y, z = \"Orange\"\n",
        "       c) x, y, z = \"Orange\", \"Banana\", \"Cherry\"\n",
        "       d) None of the above"
      ],
      "metadata": {
        "id": "e60TAtj_ZANv"
      }
    },
    {
      "cell_type": "code",
      "source": [
        "x = y = z = \"Orange\""
      ],
      "metadata": {
        "id": "GHvc2bgaZByW"
      },
      "execution_count": 2,
      "outputs": []
    },
    {
      "cell_type": "code",
      "source": [
        "x, y, z = \"Orange\""
      ],
      "metadata": {
        "colab": {
          "base_uri": "https://localhost:8080/",
          "height": 146
        },
        "id": "SYPhkGv3ZlZt",
        "outputId": "2f6f428e-905b-4d38-91b0-53603defe2f3"
      },
      "execution_count": 4,
      "outputs": [
        {
          "output_type": "error",
          "ename": "ValueError",
          "evalue": "too many values to unpack (expected 3)",
          "traceback": [
            "\u001b[0;31m---------------------------------------------------------------------------\u001b[0m",
            "\u001b[0;31mValueError\u001b[0m                                Traceback (most recent call last)",
            "\u001b[0;32m<ipython-input-4-23b35c60021a>\u001b[0m in \u001b[0;36m<cell line: 1>\u001b[0;34m()\u001b[0m\n\u001b[0;32m----> 1\u001b[0;31m \u001b[0mx\u001b[0m\u001b[0;34m,\u001b[0m \u001b[0my\u001b[0m\u001b[0;34m,\u001b[0m \u001b[0mz\u001b[0m \u001b[0;34m=\u001b[0m \u001b[0;34m\"Orange\"\u001b[0m\u001b[0;34m\u001b[0m\u001b[0;34m\u001b[0m\u001b[0m\n\u001b[0m",
            "\u001b[0;31mValueError\u001b[0m: too many values to unpack (expected 3)"
          ]
        }
      ]
    },
    {
      "cell_type": "code",
      "source": [
        "x, y, z = \"Orange\", \"Banana\", \"Cherry\""
      ],
      "metadata": {
        "id": "Q2EmhCYQZt7c"
      },
      "execution_count": 5,
      "outputs": []
    },
    {
      "cell_type": "markdown",
      "source": [
        "b option shows error"
      ],
      "metadata": {
        "id": "klg9oJkwZzrc"
      }
    },
    {
      "cell_type": "markdown",
      "source": [
        "Que 3."
      ],
      "metadata": {
        "id": "VnGoOVGQZ-2s"
      }
    },
    {
      "cell_type": "code",
      "source": [
        "x = True\n",
        "y = False\n",
        "Z = False\n",
        "if not x or y:\n",
        "  print(1)\n",
        "elif not x or not y and z:\n",
        "  print(2)\n",
        "elif not x or y or not y and x:\n",
        "  print(3)\n",
        "else:\n",
        "  print(4)"
      ],
      "metadata": {
        "colab": {
          "base_uri": "https://localhost:8080/"
        },
        "id": "zKsNqDbfaADt",
        "outputId": "125ff5df-689f-497f-9bf3-c4b3b9f36676"
      },
      "execution_count": 7,
      "outputs": [
        {
          "output_type": "stream",
          "name": "stdout",
          "text": [
            "2\n"
          ]
        }
      ]
    },
    {
      "cell_type": "markdown",
      "source": [
        "Que 4."
      ],
      "metadata": {
        "id": "IVFJfx71aHmT"
      }
    },
    {
      "cell_type": "code",
      "source": [
        "x = [1, 2, 3]\n",
        "y = x\n",
        "y.append(4)\n",
        "print(x)"
      ],
      "metadata": {
        "colab": {
          "base_uri": "https://localhost:8080/"
        },
        "id": "f_dg1mQcaRIb",
        "outputId": "9fa7fcad-db54-4b43-b192-cb6ad94947ef"
      },
      "execution_count": 8,
      "outputs": [
        {
          "output_type": "stream",
          "name": "stdout",
          "text": [
            "[1, 2, 3, 4]\n"
          ]
        }
      ]
    },
    {
      "cell_type": "markdown",
      "source": [
        "Que 5."
      ],
      "metadata": {
        "id": "G78CVMRbaTOr"
      }
    },
    {
      "cell_type": "code",
      "source": [
        "x = (1, 2, 3)\n",
        "print(type(x))"
      ],
      "metadata": {
        "colab": {
          "base_uri": "https://localhost:8080/"
        },
        "id": "SchBa8F6ae2L",
        "outputId": "5c7f9d8d-3a2d-4e66-aab7-847e98f1ba15"
      },
      "execution_count": 9,
      "outputs": [
        {
          "output_type": "stream",
          "name": "stdout",
          "text": [
            "<class 'tuple'>\n"
          ]
        }
      ]
    },
    {
      "cell_type": "markdown",
      "source": [
        "Que 6."
      ],
      "metadata": {
        "id": "4LBpuZfNagAz"
      }
    },
    {
      "cell_type": "code",
      "source": [
        "x = {1: \"one\", 2: \"two\"}\n",
        "print(x[1])"
      ],
      "metadata": {
        "colab": {
          "base_uri": "https://localhost:8080/"
        },
        "id": "bgMxZbQAahKD",
        "outputId": "b68d83fd-90ab-49c8-99b4-3a32b1281472"
      },
      "execution_count": 10,
      "outputs": [
        {
          "output_type": "stream",
          "name": "stdout",
          "text": [
            "one\n"
          ]
        }
      ]
    },
    {
      "cell_type": "markdown",
      "source": [
        "Que 7."
      ],
      "metadata": {
        "id": "gchaYfI_amID"
      }
    },
    {
      "cell_type": "code",
      "source": [
        "x = True + False\n",
        "print(x)"
      ],
      "metadata": {
        "colab": {
          "base_uri": "https://localhost:8080/"
        },
        "id": "9ndrzC9-anqL",
        "outputId": "225e9240-d378-4d6d-abff-4cdb26ec965a"
      },
      "execution_count": 11,
      "outputs": [
        {
          "output_type": "stream",
          "name": "stdout",
          "text": [
            "1\n"
          ]
        }
      ]
    },
    {
      "cell_type": "markdown",
      "source": [
        "Que 8."
      ],
      "metadata": {
        "id": "SOrOGN4LaxYb"
      }
    },
    {
      "cell_type": "code",
      "source": [
        "x = \"123\"\n",
        "print(int(x) + 1)"
      ],
      "metadata": {
        "colab": {
          "base_uri": "https://localhost:8080/"
        },
        "id": "IWmPlf3Mayki",
        "outputId": "6add05b0-6d77-4148-96b4-3d8b9f74d573"
      },
      "execution_count": 12,
      "outputs": [
        {
          "output_type": "stream",
          "name": "stdout",
          "text": [
            "124\n"
          ]
        }
      ]
    },
    {
      "cell_type": "markdown",
      "source": [
        "Que 9."
      ],
      "metadata": {
        "id": "1pXdY2sva4Bq"
      }
    },
    {
      "cell_type": "code",
      "source": [
        "x = \"Hello\"\n",
        "print(list(x))"
      ],
      "metadata": {
        "colab": {
          "base_uri": "https://localhost:8080/"
        },
        "id": "LOIiOvD6a5eq",
        "outputId": "db7696e4-1675-4e43-9a18-4dfe0391e59a"
      },
      "execution_count": 13,
      "outputs": [
        {
          "output_type": "stream",
          "name": "stdout",
          "text": [
            "['H', 'e', 'l', 'l', 'o']\n"
          ]
        }
      ]
    },
    {
      "cell_type": "markdown",
      "source": [
        "Que 10."
      ],
      "metadata": {
        "id": "_c8MnOk1a-6R"
      }
    },
    {
      "cell_type": "code",
      "source": [
        "x = 123\n",
        "print(bool(x))"
      ],
      "metadata": {
        "colab": {
          "base_uri": "https://localhost:8080/"
        },
        "id": "hMM5SPhobAPB",
        "outputId": "aabe5126-f025-41fa-9853-dbd18bdd1e09"
      },
      "execution_count": 14,
      "outputs": [
        {
          "output_type": "stream",
          "name": "stdout",
          "text": [
            "True\n"
          ]
        }
      ]
    },
    {
      "cell_type": "markdown",
      "source": [
        "Que 11."
      ],
      "metadata": {
        "id": "KEpUFwX9bFFj"
      }
    },
    {
      "cell_type": "code",
      "source": [
        "x = \"123\"\n",
        "y = \"456\"\n",
        "print(int(x + y))"
      ],
      "metadata": {
        "colab": {
          "base_uri": "https://localhost:8080/"
        },
        "id": "v5rRmv7nbNrq",
        "outputId": "a0bf5ba5-e96d-4ac7-8905-ff3df38f28f5"
      },
      "execution_count": 15,
      "outputs": [
        {
          "output_type": "stream",
          "name": "stdout",
          "text": [
            "123456\n"
          ]
        }
      ]
    },
    {
      "cell_type": "markdown",
      "source": [
        "Que 12."
      ],
      "metadata": {
        "id": "XJcH5wngbOxR"
      }
    },
    {
      "cell_type": "code",
      "source": [
        "x = 10\n",
        "y = 20\n",
        "print(x == y)"
      ],
      "metadata": {
        "colab": {
          "base_uri": "https://localhost:8080/"
        },
        "id": "Dr_UUI-1bPq7",
        "outputId": "56e17176-c62d-4826-84d1-7f7ce3480d0b"
      },
      "execution_count": 16,
      "outputs": [
        {
          "output_type": "stream",
          "name": "stdout",
          "text": [
            "False\n"
          ]
        }
      ]
    },
    {
      "cell_type": "markdown",
      "source": [
        "Que 13."
      ],
      "metadata": {
        "id": "ZsyeZLsjbUx5"
      }
    },
    {
      "cell_type": "code",
      "source": [
        "x = True\n",
        "y = False\n",
        "print(x and y)"
      ],
      "metadata": {
        "colab": {
          "base_uri": "https://localhost:8080/"
        },
        "id": "CIQctYmubdYY",
        "outputId": "0c84547e-7870-4876-817a-988c5e5a718f"
      },
      "execution_count": 17,
      "outputs": [
        {
          "output_type": "stream",
          "name": "stdout",
          "text": [
            "False\n"
          ]
        }
      ]
    },
    {
      "cell_type": "markdown",
      "source": [
        "Que 14."
      ],
      "metadata": {
        "id": "Y-FFWWrIbfLh"
      }
    },
    {
      "cell_type": "code",
      "source": [
        "x = 10\n",
        "while x > 5:\n",
        "  x -= 1\n",
        "print(x)"
      ],
      "metadata": {
        "colab": {
          "base_uri": "https://localhost:8080/"
        },
        "id": "auPJrubebgN5",
        "outputId": "e1f7f97a-7d91-41ef-aefe-1b77461acb42"
      },
      "execution_count": 19,
      "outputs": [
        {
          "output_type": "stream",
          "name": "stdout",
          "text": [
            "5\n"
          ]
        }
      ]
    },
    {
      "cell_type": "markdown",
      "source": [
        "Que 15."
      ],
      "metadata": {
        "id": "I7QN-3f3br5x"
      }
    },
    {
      "cell_type": "code",
      "source": [
        "x = [1, 2, 3, 4, 5]\n",
        "for i in x:\n",
        "  if i == 3:\n",
        "    break\n",
        "  print(i, end=\" \")"
      ],
      "metadata": {
        "colab": {
          "base_uri": "https://localhost:8080/"
        },
        "id": "yLJYqyTobs-y",
        "outputId": "bacb14a4-5474-4c05-c917-23f415d95e62"
      },
      "execution_count": 20,
      "outputs": [
        {
          "output_type": "stream",
          "name": "stdout",
          "text": [
            "1 2 "
          ]
        }
      ]
    },
    {
      "cell_type": "markdown",
      "source": [
        "Que 16."
      ],
      "metadata": {
        "id": "Zr6AuEQVb0w5"
      }
    },
    {
      "cell_type": "code",
      "source": [
        "x = [1, 2, 3, 4, 5]\n",
        "for i in x:\n",
        "  if i == 3:\n",
        "    continue\n",
        "  print(i, end=\" \")"
      ],
      "metadata": {
        "colab": {
          "base_uri": "https://localhost:8080/"
        },
        "id": "rtTTuomhb4wA",
        "outputId": "2a7826d4-28aa-4e87-ed99-09b8a84f7182"
      },
      "execution_count": 21,
      "outputs": [
        {
          "output_type": "stream",
          "name": "stdout",
          "text": [
            "1 2 4 5 "
          ]
        }
      ]
    },
    {
      "cell_type": "markdown",
      "source": [
        "Que 17."
      ],
      "metadata": {
        "id": "nnMgNmzacDLo"
      }
    },
    {
      "cell_type": "code",
      "source": [
        "x = [1, 2, \"3\", \"4\", \"5\"]\n",
        "for i in x:\n",
        "  if type(i) == int:\n",
        "    continue\n",
        "  print(i, end=\" \")"
      ],
      "metadata": {
        "colab": {
          "base_uri": "https://localhost:8080/"
        },
        "id": "tgGl89RTcEcZ",
        "outputId": "30b0ae95-43bb-43b1-fd53-7cc79f384315"
      },
      "execution_count": 22,
      "outputs": [
        {
          "output_type": "stream",
          "name": "stdout",
          "text": [
            "3 4 5 "
          ]
        }
      ]
    },
    {
      "cell_type": "markdown",
      "source": [
        "Que 18."
      ],
      "metadata": {
        "id": "4kKWx-zqcPxg"
      }
    },
    {
      "cell_type": "code",
      "source": [
        "x = [1,2,3]\n",
        "y= [i**2 for i in x]\n",
        "print(y)"
      ],
      "metadata": {
        "colab": {
          "base_uri": "https://localhost:8080/"
        },
        "id": "BLSiRZRMcRKn",
        "outputId": "b5403ba3-6cb3-46a8-cc3f-f216c95fec53"
      },
      "execution_count": 24,
      "outputs": [
        {
          "output_type": "stream",
          "name": "stdout",
          "text": [
            "[1, 4, 9]\n"
          ]
        }
      ]
    },
    {
      "cell_type": "markdown",
      "source": [
        "Que 19."
      ],
      "metadata": {
        "id": "6du8DDLXcfDn"
      }
    },
    {
      "cell_type": "code",
      "source": [
        "x = [i for i in range(10)]\n",
        "y = [i for i in x if i%2==0]\n",
        "print(y)"
      ],
      "metadata": {
        "colab": {
          "base_uri": "https://localhost:8080/"
        },
        "id": "xVIqlNHvcgFW",
        "outputId": "08af38a2-a09d-4081-c0db-72d270fe1c7e"
      },
      "execution_count": 25,
      "outputs": [
        {
          "output_type": "stream",
          "name": "stdout",
          "text": [
            "[0, 2, 4, 6, 8]\n"
          ]
        }
      ]
    },
    {
      "cell_type": "markdown",
      "source": [
        "Que 20."
      ],
      "metadata": {
        "id": "RB6OD201cwem"
      }
    },
    {
      "cell_type": "code",
      "source": [
        "x = \" Hello \"\n",
        "print(x.strip())"
      ],
      "metadata": {
        "colab": {
          "base_uri": "https://localhost:8080/"
        },
        "id": "Jyq1oDvMcyFl",
        "outputId": "bf2c4e49-8975-4650-a16f-7dd0f9521724"
      },
      "execution_count": 26,
      "outputs": [
        {
          "output_type": "stream",
          "name": "stdout",
          "text": [
            "Hello\n"
          ]
        }
      ]
    },
    {
      "cell_type": "markdown",
      "source": [
        "Que 21."
      ],
      "metadata": {
        "id": "JXBn3NESc5-4"
      }
    },
    {
      "cell_type": "code",
      "source": [
        "x = \"Hello\"\n",
        "print(x[-1])"
      ],
      "metadata": {
        "colab": {
          "base_uri": "https://localhost:8080/"
        },
        "id": "mNhl4EMwdBrw",
        "outputId": "300f703e-c832-400a-95d5-9abd3697c2f7"
      },
      "execution_count": 27,
      "outputs": [
        {
          "output_type": "stream",
          "name": "stdout",
          "text": [
            "o\n"
          ]
        }
      ]
    },
    {
      "cell_type": "markdown",
      "source": [
        "Que 22."
      ],
      "metadata": {
        "id": "qgKI-6BWdDDY"
      }
    },
    {
      "cell_type": "code",
      "source": [
        "x = {1: \"one\", 2: \"two\", 3:\n",
        "\"three\"}\n",
        "print(len(x))"
      ],
      "metadata": {
        "colab": {
          "base_uri": "https://localhost:8080/"
        },
        "id": "ikaYX65vdET3",
        "outputId": "00090a47-a2b3-4aba-dfe1-c01fc72ddd69"
      },
      "execution_count": 28,
      "outputs": [
        {
          "output_type": "stream",
          "name": "stdout",
          "text": [
            "3\n"
          ]
        }
      ]
    },
    {
      "cell_type": "markdown",
      "source": [
        "Que 23."
      ],
      "metadata": {
        "id": "pmmRkCT0dK4f"
      }
    },
    {
      "cell_type": "code",
      "source": [
        "x = [1, 2, 3]\n",
        "y = x.pop()\n",
        "print(y)"
      ],
      "metadata": {
        "colab": {
          "base_uri": "https://localhost:8080/"
        },
        "id": "273UZs5_dLtf",
        "outputId": "4c5262d0-7384-4177-e750-80a0c4bdde41"
      },
      "execution_count": 29,
      "outputs": [
        {
          "output_type": "stream",
          "name": "stdout",
          "text": [
            "3\n"
          ]
        }
      ]
    },
    {
      "cell_type": "markdown",
      "source": [
        "Que 24."
      ],
      "metadata": {
        "id": "Btjux_3hdQ93"
      }
    },
    {
      "cell_type": "code",
      "source": [
        "x = {1,2,3}\n",
        "y = list(x)\n",
        "print(y)"
      ],
      "metadata": {
        "colab": {
          "base_uri": "https://localhost:8080/"
        },
        "id": "wCVeZ69qdWGH",
        "outputId": "27ec0593-b159-445e-f287-df7a53c8356c"
      },
      "execution_count": 30,
      "outputs": [
        {
          "output_type": "stream",
          "name": "stdout",
          "text": [
            "[1, 2, 3]\n"
          ]
        }
      ]
    },
    {
      "cell_type": "markdown",
      "source": [
        "Que 25."
      ],
      "metadata": {
        "id": "oXedviWfdXGO"
      }
    },
    {
      "cell_type": "code",
      "source": [
        "def greet(name):\n",
        "  return \"Hello, \" + name\n",
        "print(greet(\"World\"))"
      ],
      "metadata": {
        "colab": {
          "base_uri": "https://localhost:8080/"
        },
        "id": "qNIJTBHldYOP",
        "outputId": "6fac9e38-1c15-4169-9bc0-26604878c3cd"
      },
      "execution_count": 31,
      "outputs": [
        {
          "output_type": "stream",
          "name": "stdout",
          "text": [
            "Hello, World\n"
          ]
        }
      ]
    },
    {
      "cell_type": "markdown",
      "source": [
        "Que 26."
      ],
      "metadata": {
        "id": "P9OtsSLEdgde"
      }
    },
    {
      "cell_type": "code",
      "source": [
        "def add(x, y=2):\n",
        "  return x + y\n",
        "print(add(1, 3))"
      ],
      "metadata": {
        "colab": {
          "base_uri": "https://localhost:8080/"
        },
        "id": "Imqzb599dl4G",
        "outputId": "0b476f2e-5dfe-4c42-da4f-c6200f1ef674"
      },
      "execution_count": 32,
      "outputs": [
        {
          "output_type": "stream",
          "name": "stdout",
          "text": [
            "4\n"
          ]
        }
      ]
    },
    {
      "cell_type": "markdown",
      "source": [
        "Que 27."
      ],
      "metadata": {
        "id": "ogic-ZY2dnfe"
      }
    },
    {
      "cell_type": "code",
      "source": [
        "def add(x, y=2):\n",
        "  return x + y\n",
        "print(add(1))"
      ],
      "metadata": {
        "colab": {
          "base_uri": "https://localhost:8080/"
        },
        "id": "xhDZ5_ecdzZ2",
        "outputId": "c451ff8e-a78a-4af9-cc0b-c2802c84dbc8"
      },
      "execution_count": 34,
      "outputs": [
        {
          "output_type": "stream",
          "name": "stdout",
          "text": [
            "3\n"
          ]
        }
      ]
    },
    {
      "cell_type": "markdown",
      "source": [
        "Que 28."
      ],
      "metadata": {
        "id": "Jxt4RNXGd_Ml"
      }
    },
    {
      "cell_type": "code",
      "source": [
        "x = lambda a : a + 10\n",
        "print(x(5))"
      ],
      "metadata": {
        "colab": {
          "base_uri": "https://localhost:8080/"
        },
        "id": "aEX7ZPpUeAXG",
        "outputId": "b4ad8946-ddba-4fc4-a026-503957d497da"
      },
      "execution_count": 35,
      "outputs": [
        {
          "output_type": "stream",
          "name": "stdout",
          "text": [
            "15\n"
          ]
        }
      ]
    },
    {
      "cell_type": "markdown",
      "source": [
        "Que 29."
      ],
      "metadata": {
        "id": "lLJMg7IWeFbG"
      }
    },
    {
      "cell_type": "code",
      "source": [
        "fun = lambda x: x*fun(x-1) if x>1 else 1\n",
        "fun(4)"
      ],
      "metadata": {
        "colab": {
          "base_uri": "https://localhost:8080/"
        },
        "id": "t1U5jn1xeGft",
        "outputId": "a744a5d1-bb38-44b7-847e-9f559a29ece7"
      },
      "execution_count": 38,
      "outputs": [
        {
          "output_type": "execute_result",
          "data": {
            "text/plain": [
              "24"
            ]
          },
          "metadata": {},
          "execution_count": 38
        }
      ]
    },
    {
      "cell_type": "markdown",
      "source": [
        "Que 30."
      ],
      "metadata": {
        "id": "YMMkrZWpesxF"
      }
    },
    {
      "cell_type": "code",
      "source": [
        "anagram = lambda x,y: sorted(x) == sorted(y)\n",
        "anagram(help, phel)"
      ],
      "metadata": {
        "colab": {
          "base_uri": "https://localhost:8080/",
          "height": 164
        },
        "id": "kuA1sLkAe6DM",
        "outputId": "ecdd6044-9412-4b2a-b8d7-1ae72ee933ab"
      },
      "execution_count": 43,
      "outputs": [
        {
          "output_type": "error",
          "ename": "NameError",
          "evalue": "name 'phel' is not defined",
          "traceback": [
            "\u001b[0;31m---------------------------------------------------------------------------\u001b[0m",
            "\u001b[0;31mNameError\u001b[0m                                 Traceback (most recent call last)",
            "\u001b[0;32m<ipython-input-43-ca086ca7cd06>\u001b[0m in \u001b[0;36m<cell line: 2>\u001b[0;34m()\u001b[0m\n\u001b[1;32m      1\u001b[0m \u001b[0managram\u001b[0m \u001b[0;34m=\u001b[0m \u001b[0;32mlambda\u001b[0m \u001b[0mx\u001b[0m\u001b[0;34m,\u001b[0m\u001b[0my\u001b[0m\u001b[0;34m:\u001b[0m \u001b[0msorted\u001b[0m\u001b[0;34m(\u001b[0m\u001b[0mx\u001b[0m\u001b[0;34m)\u001b[0m \u001b[0;34m==\u001b[0m \u001b[0msorted\u001b[0m\u001b[0;34m(\u001b[0m\u001b[0my\u001b[0m\u001b[0;34m)\u001b[0m\u001b[0;34m\u001b[0m\u001b[0;34m\u001b[0m\u001b[0m\n\u001b[0;32m----> 2\u001b[0;31m \u001b[0managram\u001b[0m\u001b[0;34m(\u001b[0m\u001b[0mhelp\u001b[0m\u001b[0;34m,\u001b[0m \u001b[0mphel\u001b[0m\u001b[0;34m)\u001b[0m\u001b[0;34m\u001b[0m\u001b[0;34m\u001b[0m\u001b[0m\n\u001b[0m",
            "\u001b[0;31mNameError\u001b[0m: name 'phel' is not defined"
          ]
        }
      ]
    },
    {
      "cell_type": "markdown",
      "source": [
        "error"
      ],
      "metadata": {
        "id": "Iq6YenK5ff6K"
      }
    },
    {
      "cell_type": "markdown",
      "source": [
        "Que 31."
      ],
      "metadata": {
        "id": "1wdOCXy1fmEq"
      }
    },
    {
      "cell_type": "code",
      "source": [
        "anagram = lambda x,y: sorted(x) == sorted(y)\n",
        "print(anagram('help', 'phel'))"
      ],
      "metadata": {
        "colab": {
          "base_uri": "https://localhost:8080/"
        },
        "id": "uaXwEr_Ufmxy",
        "outputId": "585f7855-88e4-4d95-a50d-df57be648510"
      },
      "execution_count": 45,
      "outputs": [
        {
          "output_type": "stream",
          "name": "stdout",
          "text": [
            "True\n"
          ]
        }
      ]
    },
    {
      "cell_type": "markdown",
      "source": [
        "Que 32."
      ],
      "metadata": {
        "id": "qhkkN6aif8EK"
      }
    },
    {
      "cell_type": "code",
      "source": [
        "class Test:\n",
        "    def __init__(self):\n",
        "      self.x = 1\n",
        "t1 = Test()\n",
        "t2 = Test()\n",
        "t1.x = 2\n",
        "print(t2.x)"
      ],
      "metadata": {
        "colab": {
          "base_uri": "https://localhost:8080/"
        },
        "id": "aeotVvDsf9Pi",
        "outputId": "88c3c7cb-0b69-4894-8db6-eba3b34bf0c5"
      },
      "execution_count": 46,
      "outputs": [
        {
          "output_type": "stream",
          "name": "stdout",
          "text": [
            "1\n"
          ]
        }
      ]
    },
    {
      "cell_type": "markdown",
      "source": [
        "Que 33."
      ],
      "metadata": {
        "id": "9PPU--EYgF6h"
      }
    },
    {
      "cell_type": "code",
      "source": [
        "class Test:\n",
        "  def __init__(self, x):\n",
        "    self._x = x\n",
        "t = Test(10)\n",
        "print(t._x)"
      ],
      "metadata": {
        "colab": {
          "base_uri": "https://localhost:8080/"
        },
        "id": "wkx5RcmogG8g",
        "outputId": "e4520491-0ca6-482d-efd6-44efe5f67fbc"
      },
      "execution_count": 47,
      "outputs": [
        {
          "output_type": "stream",
          "name": "stdout",
          "text": [
            "10\n"
          ]
        }
      ]
    },
    {
      "cell_type": "markdown",
      "source": [
        "Que 34. error"
      ],
      "metadata": {
        "id": "vDqz1rOmgSuf"
      }
    },
    {
      "cell_type": "code",
      "source": [
        "class Parent:\n",
        "  def func(self):\n",
        "    print(\"This is parent\n",
        "function\")\n",
        "class Child(Parent):\n",
        "  pass\n",
        "\n",
        "c = Child()\n",
        "c.func()"
      ],
      "metadata": {
        "colab": {
          "base_uri": "https://localhost:8080/",
          "height": 110
        },
        "id": "kY1pOMWGgT7g",
        "outputId": "9406a1b3-64fd-435c-8ca7-db6e74468543"
      },
      "execution_count": 51,
      "outputs": [
        {
          "output_type": "error",
          "ename": "SyntaxError",
          "evalue": "unterminated string literal (detected at line 3) (<ipython-input-51-469f142cfc0e>, line 3)",
          "traceback": [
            "\u001b[0;36m  File \u001b[0;32m\"<ipython-input-51-469f142cfc0e>\"\u001b[0;36m, line \u001b[0;32m3\u001b[0m\n\u001b[0;31m    print(\"This is parent\u001b[0m\n\u001b[0m          ^\u001b[0m\n\u001b[0;31mSyntaxError\u001b[0m\u001b[0;31m:\u001b[0m unterminated string literal (detected at line 3)\n"
          ]
        }
      ]
    },
    {
      "cell_type": "markdown",
      "source": [
        "Que 35."
      ],
      "metadata": {
        "id": "8jI0l6thg4_E"
      }
    },
    {
      "cell_type": "code",
      "source": [
        "class Parent:\n",
        "  def func(self):\n",
        "     print(\"This is parent\n",
        "function\")\n",
        "\n",
        "class Child(Parent):\n",
        "  def func(self):\n",
        "     super().func()\n",
        "     print(\"This is child\n",
        "function\")\n",
        "c = Child()\n",
        "c.func()"
      ],
      "metadata": {
        "colab": {
          "base_uri": "https://localhost:8080/",
          "height": 110
        },
        "id": "wMUEhkorhQ6A",
        "outputId": "27f7db95-7b25-414c-f47d-5426827dd82f"
      },
      "execution_count": 52,
      "outputs": [
        {
          "output_type": "error",
          "ename": "SyntaxError",
          "evalue": "unterminated string literal (detected at line 3) (<ipython-input-52-08e98cb1105e>, line 3)",
          "traceback": [
            "\u001b[0;36m  File \u001b[0;32m\"<ipython-input-52-08e98cb1105e>\"\u001b[0;36m, line \u001b[0;32m3\u001b[0m\n\u001b[0;31m    print(\"This is parent\u001b[0m\n\u001b[0m          ^\u001b[0m\n\u001b[0;31mSyntaxError\u001b[0m\u001b[0;31m:\u001b[0m unterminated string literal (detected at line 3)\n"
          ]
        }
      ]
    },
    {
      "cell_type": "markdown",
      "source": [
        "Que 36."
      ],
      "metadata": {
        "id": "6n6EnaVihf3O"
      }
    },
    {
      "cell_type": "code",
      "source": [
        "class Parent:\n",
        "  def func(self):\n",
        "    print(\"This is parent function\")\n",
        "\n",
        "class Child(Parent):\n",
        "   def func(self):\n",
        "     print(\"This is child\n",
        "function\")\n",
        "c = Child()\n",
        "c.func()"
      ],
      "metadata": {
        "colab": {
          "base_uri": "https://localhost:8080/",
          "height": 110
        },
        "id": "I9zPYclZhqvG",
        "outputId": "4e36a547-b72d-4805-baca-a9eaeeedeaeb"
      },
      "execution_count": 53,
      "outputs": [
        {
          "output_type": "error",
          "ename": "SyntaxError",
          "evalue": "unterminated string literal (detected at line 7) (<ipython-input-53-d9287048fde7>, line 7)",
          "traceback": [
            "\u001b[0;36m  File \u001b[0;32m\"<ipython-input-53-d9287048fde7>\"\u001b[0;36m, line \u001b[0;32m7\u001b[0m\n\u001b[0;31m    print(\"This is child\u001b[0m\n\u001b[0m          ^\u001b[0m\n\u001b[0;31mSyntaxError\u001b[0m\u001b[0;31m:\u001b[0m unterminated string literal (detected at line 7)\n"
          ]
        }
      ]
    },
    {
      "cell_type": "markdown",
      "source": [
        "Que 37.What function is used to open a file in Python?\n",
        "a) open"
      ],
      "metadata": {
        "id": "mP7a92Vwh11m"
      }
    },
    {
      "cell_type": "markdown",
      "source": [
        "Que 38. How do you create a new directory in Python?\n",
        "\n",
        "c) os.mkdir()\n"
      ],
      "metadata": {
        "id": "TQDJ1gjEiT1b"
      }
    },
    {
      "cell_type": "markdown",
      "source": [
        "Que 39."
      ],
      "metadata": {
        "id": "I8ZbdBGVi3Mr"
      }
    },
    {
      "cell_type": "code",
      "source": [
        "try:\n",
        "  x = 1 / 0\n",
        "except ZeroDivisionError:\n",
        "  x = 0\n",
        "finally:\n",
        "  x = 1\n",
        "print(x)"
      ],
      "metadata": {
        "colab": {
          "base_uri": "https://localhost:8080/"
        },
        "id": "lRwoQQ65i4dK",
        "outputId": "ba797af3-f482-4d1f-bec1-717eed748ab6"
      },
      "execution_count": 54,
      "outputs": [
        {
          "output_type": "stream",
          "name": "stdout",
          "text": [
            "1\n"
          ]
        }
      ]
    },
    {
      "cell_type": "markdown",
      "source": [
        "Que 40."
      ],
      "metadata": {
        "id": "mqsCtz0Yi830"
      }
    },
    {
      "cell_type": "code",
      "source": [
        "try:\n",
        "  x = 1 / 0\n",
        "except ValueError:\n",
        "  x = 0\n",
        "print(x)"
      ],
      "metadata": {
        "colab": {
          "base_uri": "https://localhost:8080/",
          "height": 219
        },
        "id": "MUInQIAti98L",
        "outputId": "5c26389f-ed7d-4af4-d11c-c1020a0b4534"
      },
      "execution_count": 55,
      "outputs": [
        {
          "output_type": "error",
          "ename": "ZeroDivisionError",
          "evalue": "division by zero",
          "traceback": [
            "\u001b[0;31m---------------------------------------------------------------------------\u001b[0m",
            "\u001b[0;31mZeroDivisionError\u001b[0m                         Traceback (most recent call last)",
            "\u001b[0;32m<ipython-input-55-a17d5c24f144>\u001b[0m in \u001b[0;36m<cell line: 1>\u001b[0;34m()\u001b[0m\n\u001b[1;32m      1\u001b[0m \u001b[0;32mtry\u001b[0m\u001b[0;34m:\u001b[0m\u001b[0;34m\u001b[0m\u001b[0;34m\u001b[0m\u001b[0m\n\u001b[0;32m----> 2\u001b[0;31m   \u001b[0mx\u001b[0m \u001b[0;34m=\u001b[0m \u001b[0;36m1\u001b[0m \u001b[0;34m/\u001b[0m \u001b[0;36m0\u001b[0m\u001b[0;34m\u001b[0m\u001b[0;34m\u001b[0m\u001b[0m\n\u001b[0m\u001b[1;32m      3\u001b[0m \u001b[0;32mexcept\u001b[0m \u001b[0mValueError\u001b[0m\u001b[0;34m:\u001b[0m\u001b[0;34m\u001b[0m\u001b[0;34m\u001b[0m\u001b[0m\n\u001b[1;32m      4\u001b[0m   \u001b[0mx\u001b[0m \u001b[0;34m=\u001b[0m \u001b[0;36m0\u001b[0m\u001b[0;34m\u001b[0m\u001b[0;34m\u001b[0m\u001b[0m\n\u001b[1;32m      5\u001b[0m \u001b[0mprint\u001b[0m\u001b[0;34m(\u001b[0m\u001b[0mx\u001b[0m\u001b[0;34m)\u001b[0m\u001b[0;34m\u001b[0m\u001b[0;34m\u001b[0m\u001b[0m\n",
            "\u001b[0;31mZeroDivisionError\u001b[0m: division by zero"
          ]
        }
      ]
    },
    {
      "cell_type": "markdown",
      "source": [
        "Que 41 ."
      ],
      "metadata": {
        "id": "7jNrreWejJt5"
      }
    },
    {
      "cell_type": "code",
      "source": [
        "try:\n",
        "  x = 1 / 0\n",
        "except ZeroDivisionError:\n",
        "  x = 0\n",
        "print(x)"
      ],
      "metadata": {
        "colab": {
          "base_uri": "https://localhost:8080/"
        },
        "id": "BnYhqUi0jQkQ",
        "outputId": "49e24717-9681-4f4c-84b2-5fe09a9aa73e"
      },
      "execution_count": 56,
      "outputs": [
        {
          "output_type": "stream",
          "name": "stdout",
          "text": [
            "0\n"
          ]
        }
      ]
    },
    {
      "cell_type": "markdown",
      "source": [
        "Que 42. What keyword is used to raise exceptions in Python?\n",
        "\n",
        "b) raise\n",
        "\n"
      ],
      "metadata": {
        "id": "FPfo4j5DjVdg"
      }
    },
    {
      "cell_type": "markdown",
      "source": [
        "Que 43. What keyword is used to handle exceptions in Python?\n",
        "a) except\n"
      ],
      "metadata": {
        "id": "Lw_g13wGjqwj"
      }
    },
    {
      "cell_type": "markdown",
      "source": [
        "Que 44. What mode is used to open a file for reading in Python?\n",
        "a) r\n"
      ],
      "metadata": {
        "id": "EAXCYrDUjvjC"
      }
    },
    {
      "cell_type": "markdown",
      "source": [
        "Que 45."
      ],
      "metadata": {
        "id": "qyiX45Ulj3nY"
      }
    },
    {
      "cell_type": "code",
      "source": [
        "x = \"Hello\"\n",
        "print(x[1:4])"
      ],
      "metadata": {
        "colab": {
          "base_uri": "https://localhost:8080/"
        },
        "id": "LuHCbJAVj5wY",
        "outputId": "a614711a-523f-490f-9db4-2df68ca572ee"
      },
      "execution_count": 57,
      "outputs": [
        {
          "output_type": "stream",
          "name": "stdout",
          "text": [
            "ell\n"
          ]
        }
      ]
    }
  ]
}