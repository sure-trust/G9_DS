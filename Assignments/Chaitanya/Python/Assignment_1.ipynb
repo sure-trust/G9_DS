{
  "nbformat": 4,
  "nbformat_minor": 0,
  "metadata": {
    "colab": {
      "provenance": []
    },
    "kernelspec": {
      "name": "python3",
      "display_name": "Python 3"
    },
    "language_info": {
      "name": "python"
    }
  },
  "cells": [
    {
      "cell_type": "markdown",
      "source": [
        "\n",
        "1. Interactive Fiction Game(Hangman): Unravel the mystery word letter by letter in this classic word game. Use your deductive skills, guess wisely, and avoid the hangman's noose! (Topics: User input, strings, conditionals, loops)\n"
      ],
      "metadata": {
        "id": "79F5m_dov770"
      }
    },
    {
      "cell_type": "code",
      "execution_count": 2,
      "metadata": {
        "colab": {
          "base_uri": "https://localhost:8080/"
        },
        "id": "6Y1j6pCorYn2",
        "outputId": "008760a7-b1a4-43bb-c027-9c9039753ea8"
      },
      "outputs": [
        {
          "output_type": "stream",
          "name": "stdout",
          "text": [
            "_ _ _ _ _ _\n",
            "Guess a letter: e\n",
            "_ _ _ _ e _\n",
            "Guess a letter: n\n",
            "_ _ n _ e _\n",
            "Guess a letter: m\n",
            "m _ n _ e _\n",
            "Guess a letter: o\n",
            "m o n _ e _\n",
            "Guess a letter: k\n",
            "m o n k e _\n",
            "Guess a letter: y\n",
            "Congratulations! You guessed the word: monkey\n"
          ]
        }
      ],
      "source": [
        "import random\n",
        "def rword():\n",
        "  words = ['cat', 'dog', 'lion', 'tiger', 'elephant', 'monkey', 'giraffe']\n",
        "  return random.choice(words)\n",
        "\n",
        "def hangman():\n",
        "    word =rword()\n",
        "    guessed_word = ['_'] * len(word)\n",
        "    tries = 0\n",
        "    while True:\n",
        "        print(' '.join(guessed_word))\n",
        "        letter = input('Guess a letter: ')\n",
        "        if letter in word:\n",
        "            for i in range(len(word)):\n",
        "                if word[i]==letter:\n",
        "                    guessed_word[i]=letter\n",
        "        else:\n",
        "            print('Incorrect guess!')\n",
        "        if '_' not in guessed_word:\n",
        "            print(f'Congratulations! You guessed the word: {word}')\n",
        "            break\n",
        "        tries+=1\n",
        "        if tries>=6:\n",
        "            print(f'Sorry, you did not guess the word: {word}')\n",
        "            break\n",
        "hangman()"
      ]
    },
    {
      "cell_type": "markdown",
      "source": [
        "\n",
        "2. Grocery Budget Tracker: Ditch the overspending! This handy tool tracks your grocery expenses, helps you stay within budget, and highlights areas for saving. (Topics: User input, variables, operators, conditionals, loops)"
      ],
      "metadata": {
        "id": "xUildN_qwArm"
      }
    },
    {
      "cell_type": "code",
      "source": [
        "budget=float(input(\"Enter your grocery budget for the month: \"))\n",
        "expenses=0\n",
        "while True:\n",
        "    item=input(\"Enter the name of the grocery item (or type 'done' to finish): \")\n",
        "    if item=='done':\n",
        "        break\n",
        "    price=float(input(\"Enter the price of the item: \"))\n",
        "    expenses+=price\n",
        "    if expenses>budget:\n",
        "        print(\"You have exceeded your budget!\")\n",
        "        break\n",
        "remaining_budget=budget-expenses\n",
        "print(f\"Total expenses for the month:{expenses}\")\n",
        "print(f\"Remaining budget:{remaining_budget}\")"
      ],
      "metadata": {
        "colab": {
          "base_uri": "https://localhost:8080/"
        },
        "id": "cIIoLarGtAzx",
        "outputId": "576e8d87-9e35-49e2-d60d-76b35adf83c9"
      },
      "execution_count": 3,
      "outputs": [
        {
          "output_type": "stream",
          "name": "stdout",
          "text": [
            "Enter your grocery budget for the month: 5000\n",
            "Enter the name of the grocery item (or type 'done' to finish): Aata\n",
            "Enter the price of the item: 1500\n",
            "Enter the name of the grocery item (or type 'done' to finish): Oil\n",
            "Enter the price of the item: 1850\n",
            "Enter the name of the grocery item (or type 'done' to finish): done\n",
            "Total expenses for the month:3350.0\n",
            "Remaining budget:1650.0\n"
          ]
        }
      ]
    },
    {
      "cell_type": "markdown",
      "source": [
        "3. Password Strength Checker: Craft an impenetrable shield against cyber threats! This checker analyzes your password's strength based on complexity criteria and suggests improvements for maximum security. (Topics: User input, strings, conditionals)\n"
      ],
      "metadata": {
        "id": "p4awhHzGwEHM"
      }
    },
    {
      "cell_type": "code",
      "source": [
        "def check_password(password):\n",
        "    if len(password)<8:\n",
        "        return \"Weak password. Password should be at least 8 characters long.\"\n",
        "    elif len(password)<12:\n",
        "        return \"Moderate password. Consider adding special characters and numbers.\"\n",
        "    else:\n",
        "        return \"Strong password. Good job!\"\n",
        "password=input(\"Enter your password:\")\n",
        "strength=check_password(password)\n",
        "print(strength)"
      ],
      "metadata": {
        "colab": {
          "base_uri": "https://localhost:8080/"
        },
        "id": "dHyvg7nvtg8d",
        "outputId": "f039edf8-84e0-4510-fce3-63b3994afffc"
      },
      "execution_count": 5,
      "outputs": [
        {
          "output_type": "stream",
          "name": "stdout",
          "text": [
            "Enter your password:Cd!2#4!2\n",
            "Moderate password. Consider adding special characters and numbers.\n"
          ]
        }
      ]
    },
    {
      "cell_type": "markdown",
      "source": [
        "4. Personal Budgeting App: Take control of your finances! This app tracks your income, expenses, and spending habits, empowering you to make informed decisions and achieve your financial goals. (Topics: User input, variables, operators, conditionals, loops)\n"
      ],
      "metadata": {
        "id": "pv6FIyDcwHpk"
      }
    },
    {
      "cell_type": "code",
      "source": [
        "total_income=float(input(\"Enter your total income:\"))\n",
        "total_expenses=0\n",
        "while True:\n",
        "    expense=float(input(\"Enter your expense amount (or type '1' to finish): \"))\n",
        "    if expense==0:\n",
        "        print(\"Expense amount cannot be zero. Please enter a valid amount.\")\n",
        "    elif expense<0:\n",
        "        print(\"Expense amount cannot be negative. Please enter a valid amount.\")\n",
        "    elif expense==1:\n",
        "        break\n",
        "    total_expenses+=expense\n",
        "savings=total_income-total_expenses\n",
        "print(f\"Total income:{total_income}\")\n",
        "print(f\"Total expenses:{total_expenses}\")\n",
        "print(f\"Savings:{savings}\")"
      ],
      "metadata": {
        "colab": {
          "base_uri": "https://localhost:8080/"
        },
        "id": "dU585Nsnt6gS",
        "outputId": "ee8750ba-37e9-4b14-e706-ca5349e04a6c"
      },
      "execution_count": 6,
      "outputs": [
        {
          "output_type": "stream",
          "name": "stdout",
          "text": [
            "Enter your total income:25000\n",
            "Enter your expense amount (or type '1' to finish): 10000\n",
            "Enter your expense amount (or type '1' to finish): 1\n",
            "Total income:25000.0\n",
            "Total expenses:10000.0\n",
            "Savings:15000.0\n"
          ]
        }
      ]
    },
    {
      "cell_type": "markdown",
      "source": [
        "\n",
        "5. Interactive Quiz with Feedback: Test your knowledge and get insightful feedback! This quiz adapts to your responses, providing personalized feedback and learning opportunities. (Topics: User input, conditionals, strings, loops)"
      ],
      "metadata": {
        "id": "8NkzkAE8wMSk"
      }
    },
    {
      "cell_type": "code",
      "source": [
        "questions = {\n",
        "    \"Which game is often considered the 'king' of esports?\": \"League of Legends\",\n",
        "    \"What is the name of the biggest annual tournament in Dota 2?\": \"The International\",\n",
        "    \"Which popular first-person shooter game has a battle royale mode called Warzone?\": \"Call of Duty\",\n",
        "    \"In which country did the esports organization 'OG' originate?\": \"Denmark\",\n",
        "    \"What is the name of the most prestigious CS:GO tournament hosted by Valve?\": \"Counter-Strike: Global Offensive\"\n",
        "}\n",
        "\n",
        "score = 0\n",
        "\n",
        "for question, answer in questions.items():\n",
        "    user_answer = input(question + \"\\n\")\n",
        "    if user_answer.lower() == answer.lower():\n",
        "        print(\"Correct!\")\n",
        "        score += 1\n",
        "    else:\n",
        "        print(f\"Wrong! The correct answer is {answer}\")\n",
        "\n",
        "print(f\"Your final score is: {score}/{len(questions)}\")\n"
      ],
      "metadata": {
        "colab": {
          "base_uri": "https://localhost:8080/"
        },
        "id": "Duy6YoV6ucfi",
        "outputId": "02531cb8-7d57-4349-d92a-93624c39e454"
      },
      "execution_count": 7,
      "outputs": [
        {
          "output_type": "stream",
          "name": "stdout",
          "text": [
            "Which game is often considered the 'king' of esports?\n",
            "League of Legends\n",
            "Correct!\n",
            "What is the name of the biggest annual tournament in Dota 2?\n",
            "The International\n",
            "Correct!\n",
            "Which popular first-person shooter game has a battle royale mode called Warzone?\n",
            "Call of Duty\n",
            "Correct!\n",
            "In which country did the esports organization 'OG' originate?\n",
            "USA\n",
            "Wrong! The correct answer is Denmark\n",
            "What is the name of the most prestigious CS:GO tournament hosted by Valve?\n",
            "Counter-Strike Global offensive\n",
            "Wrong! The correct answer is Counter-Strike: Global Offensive\n",
            "Your final score is: 3/5\n"
          ]
        }
      ]
    },
    {
      "cell_type": "markdown",
      "source": [
        "\n",
        "6. Simple Currency Converter: Travel the world with ease! This converter instantly translates between currencies, ensuring you know exactly how much you're spending wherever you go. (Topics: User input, variables, operators, strings)\n"
      ],
      "metadata": {
        "id": "PIkXX4BqwRgv"
      }
    },
    {
      "cell_type": "code",
      "source": [
        "conversion_rates ={\n",
        "    'USD':1.07,\n",
        "    'EUR':0.92,\n",
        "    'GBP':1.26,\n",
        "    'CHF':1.13\n",
        "}\n",
        "amount=float(input(\"Enter amount to convert:\"))\n",
        "from_currency=input(\"Enter original currency (USD, EUR, GBP, CHF):\")\n",
        "to_currency=input(\"Enter target currency (USD, EUR, GBP, CHF):\")\n",
        "converted_amount=amount*(conversion_rates[to_currency]/conversion_rates[from_currency])\n",
        "print(f\"{amount} {from_currency} is equal to {converted_amount} {to_currency}\")\n",
        ""
      ],
      "metadata": {
        "colab": {
          "base_uri": "https://localhost:8080/"
        },
        "id": "v25SATCtvMkz",
        "outputId": "346c6213-2868-46cd-8a81-30fe446323c1"
      },
      "execution_count": 8,
      "outputs": [
        {
          "output_type": "stream",
          "name": "stdout",
          "text": [
            "Enter amount to convert:2000\n",
            "Enter original currency (USD, EUR, GBP, CHF):CHF\n",
            "Enter target currency (USD, EUR, GBP, CHF):EUR\n",
            "2000.0 CHF is equal to 1628.3185840707968 EUR\n"
          ]
        }
      ]
    }
  ]
}