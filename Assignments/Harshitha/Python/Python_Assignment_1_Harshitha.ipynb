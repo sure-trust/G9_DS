{
  "cells": [
    {
      "cell_type": "markdown",
      "metadata": {
        "id": "view-in-github",
        "colab_type": "text"
      },
      "source": [
        "<a href=\"https://colab.research.google.com/github/Henvitha26/G9_DS/blob/main/Assignments/Harshitha/Python/Python_Assignment_1_Harshitha.ipynb\" target=\"_parent\"><img src=\"https://colab.research.google.com/assets/colab-badge.svg\" alt=\"Open In Colab\"/></a>"
      ]
    },
    {
      "cell_type": "markdown",
      "source": [
        "# Assignment-1"
      ],
      "metadata": {
        "id": "gM2lr4Or-5gF"
      }
    },
    {
      "cell_type": "markdown",
      "source": [
        "### 1. Interactive Fiction Game(Hangman)"
      ],
      "metadata": {
        "id": "LhzEiBPpI_Xv"
      }
    },
    {
      "cell_type": "markdown",
      "source": [
        " **Unravel the mystery word letter by letter in this classic word game. Use your deductive skills, guess wisely, and avoid the hangman's noose! (Topics: User input, strings, conditionals, loops)**"
      ],
      "metadata": {
        "id": "ZmEigqc_EMDy"
      }
    },
    {
      "cell_type": "code",
      "source": [
        "import random\n",
        "def rword():\n",
        "    words = ['karnataka', 'ap', 'gujarat', 'mp', 'punjab']\n",
        "    return random.choice(words)\n",
        "def hangman():\n",
        "    word =rword()\n",
        "    guessed_word = ['_'] * len(word)\n",
        "    tries = 0\n",
        "    while True:\n",
        "        print(' '.join(guessed_word))\n",
        "        letter = input('Guess a letter: ')\n",
        "        if letter in word:\n",
        "            for i in range(len(word)):\n",
        "                if word[i]==letter:\n",
        "                    guessed_word[i]=letter\n",
        "        else:\n",
        "            print('wrong guess!')\n",
        "        if '_' not in guessed_word:\n",
        "            print(f'Congratulations! You guessed the word: {word}')\n",
        "            break\n",
        "        tries+=1\n",
        "        if tries>=6:\n",
        "            print(f'Sorry, you did not guess the word: {word}')\n",
        "            break\n",
        "hangman()"
      ],
      "metadata": {
        "colab": {
          "base_uri": "https://localhost:8080/"
        },
        "id": "D_y9KBA2FLyY",
        "outputId": "5fe09a1c-89db-4de0-ece2-0ac537a67a6c"
      },
      "execution_count": null,
      "outputs": [
        {
          "output_type": "stream",
          "name": "stdout",
          "text": [
            "_ _\n",
            "Guess a letter: k\n",
            "wrong guess!\n",
            "_ _\n",
            "Guess a letter: a\n",
            "wrong guess!\n",
            "_ _\n",
            "Guess a letter: p\n",
            "_ p\n",
            "Guess a letter: m\n",
            "Congratulations! You guessed the word: mp\n"
          ]
        }
      ]
    },
    {
      "cell_type": "markdown",
      "source": [
        "## 2. Grocery Budget Tracker"
      ],
      "metadata": {
        "id": "eE4yJgPkJJ1D"
      }
    },
    {
      "cell_type": "markdown",
      "source": [
        "**Ditch the overspending! This handy tool tracks your grocery expenses, helps you stay within budget, and highlights areas for saving. (Topics: User input, variables, operators, conditionals, loops)**"
      ],
      "metadata": {
        "id": "g5Fh-xjMETYB"
      }
    },
    {
      "cell_type": "code",
      "source": [
        "budget = float(input(\"Enter your grocery budget for the month: $\"))\n",
        "\n",
        "total_expenses = 0\n",
        "while True:\n",
        "    item_names = input(\"Enter the name of the item (or type 'done' to finish): \")\n",
        "    if item_names == 'done':\n",
        "        break\n",
        "    item_price = float(input(\"Enter price of the item: \"))\n",
        "\n",
        "    if item_price >= budget:\n",
        "        print(\"You don't have enough budget for this item. Please remove or reduce it.\")\n",
        "        total_expenses += item_price\n",
        "        break\n",
        "\n",
        "remaining_amount = budget - total_expenses\n",
        "if remaining_amount >= 0:\n",
        "    print(\"You have saved more money.\")\n",
        "else:\n",
        "    print(\"Your savings are less.\")\n"
      ],
      "metadata": {
        "colab": {
          "base_uri": "https://localhost:8080/"
        },
        "id": "w4BxxRsIFlXF",
        "outputId": "6bdbd735-8f71-49c6-adb2-fb428e48ec32"
      },
      "execution_count": null,
      "outputs": [
        {
          "output_type": "stream",
          "name": "stdout",
          "text": [
            "Enter your grocery budget for the month: $100\n",
            "Enter the name of the item (or type 'done' to finish): Chocolate\n",
            "Enter price of the item: 5\n",
            "Enter the name of the item (or type 'done' to finish): Rice\n",
            "Enter price of the item: 20\n",
            "Enter the name of the item (or type 'done' to finish): Fruits\n",
            "Enter price of the item: 15\n",
            "Enter the name of the item (or type 'done' to finish): done\n",
            "You have saved more money.\n"
          ]
        }
      ]
    },
    {
      "cell_type": "markdown",
      "source": [
        "### 3. Password Strength Checker"
      ],
      "metadata": {
        "id": "nt0zjV70JRDt"
      }
    },
    {
      "cell_type": "markdown",
      "source": [
        "**Craft an impenetrable shield against cyber threats! This checker analyzes your password's strength based on complexity criteria and suggests improvements for maximum security. (Topics: User input, strings, conditionals)**"
      ],
      "metadata": {
        "id": "pgGt4lJ3EmuP"
      }
    },
    {
      "cell_type": "code",
      "source": [
        "password=input(\"Enter your password:\")\n",
        "if len(password) >=8:\n",
        "    print(\"entered password is valid\")\n",
        "else:\n",
        "    print(\"enter minimum 8 digits or chaacters of password\")\n",
        "uppercase_password=False\n",
        "lowercase_password=False\n",
        "special_character_password=False\n",
        "length_password=False\n",
        "if len(password)>=8:\n",
        "    length_password=True\n",
        "\n",
        "\n",
        "for char in password:\n",
        "    if char.isupper():\n",
        "        uppercase_password=True\n",
        "    elif char.islower():\n",
        "        lowercase_password=True\n",
        "    else:\n",
        "        special_character_password=True\n",
        "if uppercase_password and lowercase_password and special_character_password and length_password:\n",
        "    print(\"entered password is strong\")\n",
        "else:\n",
        "    if not length_password:\n",
        "        print(\"atleast 8 characters of password\")\n",
        "    if not uppercase_password:\n",
        "        print(\"enter  at least one uppercase  letter\")\n",
        "    if not lowercase_password:\n",
        "        print(\"enter  at least one lowercase letter\")\n",
        "    if not special_character_password:\n",
        "        print(\"enter at least one upper or lower caase letters\")"
      ],
      "metadata": {
        "colab": {
          "base_uri": "https://localhost:8080/"
        },
        "id": "oqm9-CLUGPIa",
        "outputId": "b3cf6070-1172-4870-af14-491e17e84eeb"
      },
      "execution_count": null,
      "outputs": [
        {
          "output_type": "stream",
          "name": "stdout",
          "text": [
            "Enter your password:Honey@123\n",
            "entered password is valid\n",
            "entered password is strong\n"
          ]
        }
      ]
    },
    {
      "cell_type": "markdown",
      "source": [
        "### 4. Personal Budgeting App:"
      ],
      "metadata": {
        "id": "EKwUo8gVJrEN"
      }
    },
    {
      "cell_type": "markdown",
      "source": [
        "**Take control of your finances! This app tracks your income, expenses, and spending habits, empowering you to make informed decisions and achieve your financial goals. (Topics: User input, variables, operators, conditionals, loops)**"
      ],
      "metadata": {
        "id": "ZMT8-KW_EsDc"
      }
    },
    {
      "cell_type": "code",
      "source": [
        "total_income = 0\n",
        "total_expenses = 0\n",
        "total=[]\n",
        "while True:\n",
        "    print(\"1. Add Income\")\n",
        "    print(\"2. Add Expense\")\n",
        "    print(\"3. View Summary\")\n",
        "    print(\"4. Exit\")\n",
        "\n",
        "    choice = input(\"Enter your choice: \")\n",
        "    if choice == \"1\":\n",
        "        income = float(input(\"Enter the amount of income: \"))\n",
        "        total_income += income\n",
        "\n",
        "        print(\"Income added successfully!\",total_income)\n",
        "    elif choice == \"2\":\n",
        "        expense = float(input(\"Enter the amount of expense: \"))\n",
        "        total_expenses += expense\n",
        "        total.append(expense)\n",
        "        print(\"Expense added successfully!\",total)\n",
        "    elif choice == \"3\":\n",
        "        print(\"Total Income: \", total_income)\n",
        "        print(\"Total Expenses: \", total_expenses)\n",
        "        print(\"Net Income: \", total_income - total_expenses)\n",
        "\n",
        "    elif choice == \"4\":\n",
        "        print(\"Exiting the app. Goodbye!\")\n",
        "        break\n",
        "    else:\n",
        "        print(\"Invalid choice. Please enter a valid option.\")"
      ],
      "metadata": {
        "colab": {
          "base_uri": "https://localhost:8080/"
        },
        "id": "Dmg3NTFxG8iH",
        "outputId": "6c350686-7620-4012-8604-31186a8801ed"
      },
      "execution_count": null,
      "outputs": [
        {
          "output_type": "stream",
          "name": "stdout",
          "text": [
            "1. Add Income\n",
            "2. Add Expense\n",
            "3. View Summary\n",
            "4. Exit\n",
            "Enter your choice: 1\n",
            "Enter the amount of income: 100\n",
            "Income added successfully! 100.0\n",
            "1. Add Income\n",
            "2. Add Expense\n",
            "3. View Summary\n",
            "4. Exit\n",
            "Enter your choice: 2\n",
            "Enter the amount of expense: 50\n",
            "Expense added successfully! [50.0]\n",
            "1. Add Income\n",
            "2. Add Expense\n",
            "3. View Summary\n",
            "4. Exit\n",
            "Enter your choice: 3\n",
            "Total Income:  100.0\n",
            "Total Expenses:  50.0\n",
            "Net Income:  50.0\n",
            "1. Add Income\n",
            "2. Add Expense\n",
            "3. View Summary\n",
            "4. Exit\n",
            "Enter your choice: 3\n",
            "Total Income:  100.0\n",
            "Total Expenses:  50.0\n",
            "Net Income:  50.0\n",
            "1. Add Income\n",
            "2. Add Expense\n",
            "3. View Summary\n",
            "4. Exit\n",
            "Enter your choice: 2\n",
            "Enter the amount of expense: 50\n",
            "Expense added successfully! [50.0, 50.0]\n",
            "1. Add Income\n",
            "2. Add Expense\n",
            "3. View Summary\n",
            "4. Exit\n",
            "Enter your choice: 3\n",
            "Total Income:  100.0\n",
            "Total Expenses:  100.0\n",
            "Net Income:  0.0\n",
            "1. Add Income\n",
            "2. Add Expense\n",
            "3. View Summary\n",
            "4. Exit\n",
            "Enter your choice: 4\n",
            "Exiting the app. Goodbye!\n"
          ]
        }
      ]
    },
    {
      "cell_type": "markdown",
      "source": [
        "### 5. Interactive Quiz with Feedback"
      ],
      "metadata": {
        "id": "2zkGbThYJ3AI"
      }
    },
    {
      "cell_type": "markdown",
      "source": [
        "**Test your knowledge and get insightful feedback! This quiz adapts to your responses, providing personalized feedback and learning opportunities. (Topics: User input, conditionals, strings, loops)**"
      ],
      "metadata": {
        "id": "LinEIjunE5Tt"
      }
    },
    {
      "cell_type": "code",
      "source": [
        "quize_questions={\"which city is known as pink city\":\"jaipur\",\n",
        "                 \"which city  is known as blue city\":\"jodhapur\",\n",
        "                 \"which city isknown as silicon valley\":\"bengulore\"}\n",
        "score=0\n",
        "for questions,answers in quize_questions.items():\n",
        "    print(questions)\n",
        "    user_answer = input(\"Your answer: \")\n",
        "    if user_answer == answers:\n",
        "        print(\"correct answer\")\n",
        "        score+=1\n",
        "    else:\n",
        "        print(\"wrong answer\")\n",
        "print(f\"Your final score is:{score}/{len(quize_questions)}\")"
      ],
      "metadata": {
        "colab": {
          "base_uri": "https://localhost:8080/"
        },
        "id": "rJrmjrRFIrAf",
        "outputId": "f9759999-0218-4d69-805a-d54ca908c8f6"
      },
      "execution_count": null,
      "outputs": [
        {
          "output_type": "stream",
          "name": "stdout",
          "text": [
            "which city is known as pink city\n",
            "Your answer: jaipur\n",
            "correct answer\n",
            "which city  is known as blue city\n",
            "Your answer: jodhapur\n",
            "correct answer\n",
            "which city isknown as silicon valley\n",
            "Your answer: bengulore\n",
            "correct answer\n",
            "Your final score is:3/3\n"
          ]
        }
      ]
    },
    {
      "cell_type": "markdown",
      "source": [
        "### 6. Simple Currency Converter"
      ],
      "metadata": {
        "id": "_jiAt4E_J7ys"
      }
    },
    {
      "cell_type": "markdown",
      "source": [
        "**Travel the world with ease! This converter instantly translates between currencies, ensuring you know exactly how much you're spending wherever you go. (Topics: User input, variables, operators, strings)**"
      ],
      "metadata": {
        "id": "_qXfr68eFAbg"
      }
    },
    {
      "cell_type": "code",
      "source": [
        "conversion_rates ={\n",
        "    'USD':1.0,\n",
        "    'EUR':0.85,\n",
        "    'GBP':0.73,\n",
        "    'JPY':111.07\n",
        "}\n",
        "amount=float(input(\"Enter amount to convert:\"))\n",
        "from_currency=input(\"Enter original currency (USD, EUR, GBP, JPY):\")\n",
        "to_currency=input(\"Enter target currency (USD, EUR, GBP, JPY):\")\n",
        "converted_amount=amount*(conversion_rates[to_currency]/conversion_rates[from_currency])\n",
        "print(f\"{amount} {from_currency} is equal to {converted_amount} {to_currency}\")"
      ],
      "metadata": {
        "colab": {
          "base_uri": "https://localhost:8080/"
        },
        "id": "NHav82haMWrb",
        "outputId": "ea0516d6-89a5-432f-abb8-715b1b2c29ad"
      },
      "execution_count": null,
      "outputs": [
        {
          "output_type": "stream",
          "name": "stdout",
          "text": [
            "Enter amount to convert:500\n",
            "Enter original currency (USD, EUR, GBP, JPY):USD\n",
            "Enter target currency (USD, EUR, GBP, JPY):EUR\n",
            "500.0 USD is equal to 425.0 EUR\n"
          ]
        }
      ]
    }
  ],
  "metadata": {
    "colab": {
      "provenance": [],
      "authorship_tag": "ABX9TyP+MvFwGud20GX92loai+Qf",
      "include_colab_link": true
    },
    "kernelspec": {
      "display_name": "Python 3",
      "name": "python3"
    },
    "language_info": {
      "name": "python"
    }
  },
  "nbformat": 4,
  "nbformat_minor": 0
}