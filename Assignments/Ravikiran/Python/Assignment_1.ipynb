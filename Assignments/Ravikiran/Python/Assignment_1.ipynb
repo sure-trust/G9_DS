{
  "nbformat": 4,
  "nbformat_minor": 0,
  "metadata": {
    "colab": {
      "provenance": []
    },
    "kernelspec": {
      "name": "python3",
      "display_name": "Python 3"
    },
    "language_info": {
      "name": "python"
    }
  },
  "cells": [
    {
      "cell_type": "code",
      "execution_count": null,
      "metadata": {
        "colab": {
          "base_uri": "https://localhost:8080/"
        },
        "id": "uNkOUC3dqdWJ",
        "outputId": "4878ad22-e41c-4b75-e7a7-5401c57ddf9c"
      },
      "outputs": [
        {
          "output_type": "stream",
          "name": "stdout",
          "text": [
            "_ _ _ _\n",
            "Guess a letter: a\n",
            "_ a _ _\n",
            "Guess a letter: s\n",
            "Incorrect guess!\n",
            "_ a _ _\n",
            "Guess a letter: prabhas\n",
            "Incorrect guess!\n",
            "_ a _ _\n",
            "Guess a letter: alluarjun\n",
            "Incorrect guess!\n",
            "_ a _ _\n",
            "Guess a letter: alluarjun\n",
            "Incorrect guess!\n",
            "_ a _ _\n",
            "Guess a letter: alluarjun\n",
            "Incorrect guess!\n",
            "_ a _ _\n",
            "Guess a letter: jrntr\n",
            "Incorrect guess!\n",
            "_ a _ _\n",
            "Guess a letter: jrntr\n",
            "Incorrect guess!\n",
            "_ a _ _\n",
            "Guess a letter: jrntr\n",
            "Incorrect guess!\n",
            "_ a _ _\n",
            "Guess a letter: jrntr\n",
            "Incorrect guess!\n",
            "Sorry, you did not guess the word: nani\n"
          ]
        }
      ],
      "source": [
        "import random\n",
        "def sword():\n",
        "    words = ['alluarjun', 'ramcharan', 'prabhas', 'jrntr', 'maheshbabu', 'pavankalyan', 'nani']\n",
        "    return random.choice(words)\n",
        "def hangman():\n",
        "    word =sword()\n",
        "    guessed_word = ['_'] * len(word)\n",
        "    tries = 0\n",
        "    while True:\n",
        "        print(' '.join(guessed_word))\n",
        "        letter = input('Guess a letter: ')\n",
        "        if letter in word:\n",
        "            for i in range(len(word)):\n",
        "                if word[i]==letter:\n",
        "                    guessed_word[i]=letter\n",
        "        else:\n",
        "            print('Incorrect guess!')\n",
        "        if '_' not in guessed_word:\n",
        "            print(f'Congratulations! You guessed the word: {word}')\n",
        "            break\n",
        "        tries+=1\n",
        "        if tries>=10:\n",
        "            print(f'Sorry, you did not guess the word: {word}')\n",
        "            break\n",
        "hangman()"
      ]
    },
    {
      "cell_type": "code",
      "source": [
        "def grocery_budget_tracker(budget):\n",
        "    total_spent = 0\n",
        "\n",
        "    while True:\n",
        "        item = input(\"Enter item name (or type 'done' to finish): \")\n",
        "        if item.lower() == 'done':\n",
        "            break\n",
        "\n",
        "        try:\n",
        "            price = float(input(\"Enter item price: $\"))\n",
        "        except ValueError:\n",
        "            print(\"Invalid input. Please enter a valid price.\")\n",
        "            continue\n",
        "\n",
        "        total_spent += price\n",
        "\n",
        "    print(\"\\nGrocery Budget Tracker\\n\")\n",
        "    print(f\"Budget: ${budget}\")\n",
        "    print(f\"Total Spent: ${total_spent}\")\n",
        "\n",
        "    if total_spent > budget:\n",
        "        print(\"Warning: You have exceeded your budget!\")\n",
        "    elif total_spent == budget:\n",
        "        print(\"You have used up your entire budget.\")\n",
        "    else:\n",
        "        print(f\"Remaining Budget: ${budget - total_spent}\")\n",
        "\n",
        "# Example usage\n",
        "budget = float(input(\"Enter your grocery budget for the month: $\"))\n",
        "grocery_budget_tracker(budget)"
      ],
      "metadata": {
        "colab": {
          "base_uri": "https://localhost:8080/"
        },
        "id": "qyYYK826qmCN",
        "outputId": "b61faa0d-07a9-4271-8291-a8f7dd2b800a"
      },
      "execution_count": null,
      "outputs": [
        {
          "output_type": "stream",
          "name": "stdout",
          "text": [
            "Enter your grocery budget for the month: $100\n",
            "Enter item name (or type 'done' to finish): rice\n",
            "Enter item price: $20\n",
            "Enter item name (or type 'done' to finish): dine\n",
            "Enter item price: $2\n",
            "Enter item name (or type 'done' to finish): done\n",
            "\n",
            "Grocery Budget Tracker\n",
            "\n",
            "Budget: $100.0\n",
            "Total Spent: $22.0\n",
            "Remaining Budget: $78.0\n"
          ]
        }
      ]
    },
    {
      "cell_type": "code",
      "source": [
        "def password_strength_checker(password):\n",
        "    length = len(password)\n",
        "    has_upper = any(char.isupper() for char in password)\n",
        "    has_lower = any(char.islower() for char in password)\n",
        "    has_digit = any(char.isdigit() for char in password)\n",
        "    has_special = any(char in '!@#$%^&*()-_=+[{]}|;:\",<.>/?' for char in password)\n",
        "\n",
        "    strength = 0\n",
        "    if length >= 8:\n",
        "        strength += 1\n",
        "    if has_upper and has_lower:\n",
        "        strength += 1\n",
        "    if has_digit:\n",
        "        strength += 1\n",
        "    if has_special:\n",
        "        strength += 1\n",
        "\n",
        "    if strength == 0:\n",
        "        return \"Very Weak\"\n",
        "    elif strength == 1:\n",
        "        return \"Weak\"\n",
        "    elif strength == 2:\n",
        "        return \"Moderate\"\n",
        "    elif strength == 3:\n",
        "        return \"Strong\"\n",
        "    else:\n",
        "        return \"Very Strong\"\n",
        "\n",
        "# Example usage\n",
        "password = input(\"Enter your password: \")\n",
        "strength = password_strength_checker(password)\n",
        "print(f\"Password Strength: {strength}\")"
      ],
      "metadata": {
        "colab": {
          "base_uri": "https://localhost:8080/"
        },
        "id": "5jeDwk7wql4s",
        "outputId": "017b5923-a53a-41e4-8516-7e7e6f0416ae"
      },
      "execution_count": null,
      "outputs": [
        {
          "output_type": "stream",
          "name": "stdout",
          "text": [
            "Enter your password: Gaganasri123..\n",
            "Password Strength: Very Strong\n"
          ]
        }
      ]
    },
    {
      "cell_type": "code",
      "source": [
        "def personal_budget_app():\n",
        "    income = float(input(\"Enter your monthly income: $\"))\n",
        "    expenses = 0\n",
        "\n",
        "    while True:\n",
        "        action = input(\"Would you like to add an expense (a) or view your current financial status (v)? (a/v): \")\n",
        "\n",
        "        if action.lower() == 'a':\n",
        "            expense_name = input(\"Enter expense name: \")\n",
        "            expense_cost = float(input(\"Enter expense amount: $\"))\n",
        "            expenses += expense_cost\n",
        "            print(f\"Expense '{expense_name}' of ${expense_cost} added successfully.\")\n",
        "        elif action.lower() == 'v':\n",
        "            print(\"\\nPersonal Budgeting App\\n\")\n",
        "            print(f\"Monthly Income: ${income}\")\n",
        "            print(f\"Total Expenses: ${expenses}\")\n",
        "            print(f\"Remaining Balance: ${income - expenses}\\n\")\n",
        "        else:\n",
        "            print(\"Invalid input. Please enter 'a' to add an expense or 'v' to view your current financial status.\")\n",
        "\n",
        "        if input(\"Would you like to perform another action? (y/n): \").lower() != 'y':\n",
        "            break\n",
        "\n",
        "# Example usage\n",
        "personal_budget_app()"
      ],
      "metadata": {
        "colab": {
          "base_uri": "https://localhost:8080/"
        },
        "id": "Gc8Ct8YWrXYH",
        "outputId": "83b01f66-791c-47a5-986b-d9578932206d"
      },
      "execution_count": null,
      "outputs": [
        {
          "name": "stdout",
          "output_type": "stream",
          "text": [
            "Enter your monthly income: $20000\n",
            "Would you like to add an expense (a) or view your current financial status (v)? (a/v): v\n",
            "\n",
            "Personal Budgeting App\n",
            "\n",
            "Monthly Income: $20000.0\n",
            "Total Expenses: $0\n",
            "Remaining Balance: $20000.0\n",
            "\n",
            "Would you like to perform another action? (y/n): n\n"
          ]
        }
      ]
    },
    {
      "cell_type": "code",
      "source": [
        "def quiz():\n",
        "    questions = [\n",
        "        {\"question\": \"What is the capital of France?\", \"answer\": \"Paris\"},\n",
        "        {\"question\": \"Which planet is known as the Red Planet?\", \"answer\": \"Mars\"},\n",
        "        {\"question\": \"Who wrote 'Romeo and Juliet'?\", \"answer\": \"William Shakespeare\"}\n",
        "    ]\n",
        "\n",
        "    score = 0\n",
        "\n",
        "    print(\"Welcome to the Interactive Quiz!\")\n",
        "\n",
        "    for q in questions:\n",
        "        print(\"\\nQuestion:\", q[\"question\"])\n",
        "        user_answer = input(\"Your answer: \")\n",
        "\n",
        "        if user_answer.lower() == q[\"answer\"].lower():\n",
        "            print(\"Correct!\")\n",
        "            score += 1\n",
        "        else:\n",
        "            print(\"Incorrect. The correct answer is:\", q[\"answer\"])\n",
        "\n",
        "    print(\"\\nQuiz Complete!\")\n",
        "    print(\"Your score:\", score, \"out of\", len(questions))\n",
        "\n",
        "# Example usage\n",
        "quiz()"
      ],
      "metadata": {
        "colab": {
          "base_uri": "https://localhost:8080/"
        },
        "id": "rNozC5cKrXO_",
        "outputId": "03d09179-150f-45d0-989c-54fd2127a816"
      },
      "execution_count": null,
      "outputs": [
        {
          "output_type": "stream",
          "name": "stdout",
          "text": [
            "Welcome to the Interactive Quiz!\n",
            "\n",
            "Question: What is the capital of France?\n",
            "Your answer: france\n",
            "Incorrect. The correct answer is: Paris\n",
            "\n",
            "Question: Which planet is known as the Red Planet?\n",
            "Your answer: mars\n",
            "Correct!\n",
            "\n",
            "Question: Who wrote 'Romeo and Juliet'?\n",
            "Your answer: william shakesphere\n",
            "Incorrect. The correct answer is: William Shakespeare\n",
            "\n",
            "Quiz Complete!\n",
            "Your score: 1 out of 3\n"
          ]
        }
      ]
    },
    {
      "cell_type": "code",
      "source": [
        "def currency_converter(amount, from_currency, to_currency):\n",
        "    # Conversion rates (as of February 2024)\n",
        "    conversion_rates = {\n",
        "        \"USD\": {\"EUR\": 0.88, \"GBP\": 0.73, \"JPY\": 109.25},\n",
        "        \"EUR\": {\"USD\": 1.14, \"GBP\": 0.83, \"JPY\": 124.31},\n",
        "        \"GBP\": {\"USD\": 1.37, \"EUR\": 1.21, \"JPY\": 149.69},\n",
        "        \"JPY\": {\"USD\": 0.0091, \"EUR\": 0.0080, \"GBP\": 0.0067}\n",
        "    }\n",
        "\n",
        "    if from_currency.upper() not in conversion_rates or to_currency.upper() not in conversion_rates:\n",
        "        print(\"Error: Invalid currency input.\")\n",
        "        return None\n",
        "\n",
        "    if from_currency.upper() == to_currency.upper():\n",
        "        print(\"Error: Conversion between the same currency is not possible.\")\n",
        "        return None\n",
        "\n",
        "    if amount <= 0:\n",
        "        print(\"Error: Amount must be a positive number.\")\n",
        "        return None\n",
        "\n",
        "    converted_amount = amount * conversion_rates[from_currency.upper()][to_currency.upper()]\n",
        "    return converted_amount\n",
        "\n",
        "# Example usage\n",
        "amount = float(input(\"Enter the amount: \"))\n",
        "from_currency = input(\"Enter the source currency (e.g., USD): \").upper()\n",
        "to_currency = input(\"Enter the target currency (e.g., EUR): \").upper()\n",
        "\n",
        "result = currency_converter(amount, from_currency, to_currency)\n",
        "if result is not None:\n",
        "    print(f\"{amount} {from_currency} is equal to {result} {to_currency}.\")"
      ],
      "metadata": {
        "colab": {
          "base_uri": "https://localhost:8080/"
        },
        "id": "csDBdpe_rsmT",
        "outputId": "367a23e5-27db-435c-dad2-e4f440188bed"
      },
      "execution_count": null,
      "outputs": [
        {
          "output_type": "stream",
          "name": "stdout",
          "text": [
            "Enter the amount: 100000\n",
            "Enter the source currency (e.g., USD): EUR\n",
            "Enter the target currency (e.g., EUR): USD\n",
            "100000.0 EUR is equal to 113999.99999999999 USD.\n"
          ]
        }
      ]
    },
    {
      "cell_type": "code",
      "source": [],
      "metadata": {
        "id": "5xfwGwMdrsjE"
      },
      "execution_count": null,
      "outputs": []
    }
  ]
}