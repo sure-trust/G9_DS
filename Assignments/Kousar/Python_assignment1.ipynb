{
  "nbformat": 4,
  "nbformat_minor": 0,
  "metadata": {
    "colab": {
      "provenance": []
    },
    "kernelspec": {
      "name": "python3",
      "display_name": "Python 3"
    },
    "language_info": {
      "name": "python"
    }
  },
  "cells": [
    {
      "cell_type": "markdown",
      "source": [
        "# Assignment : 01"
      ],
      "metadata": {
        "id": "GW9N2mixc0gB"
      }
    },
    {
      "cell_type": "markdown",
      "source": [
        "Submitted by : Tafseer Kousar"
      ],
      "metadata": {
        "id": "VbF7e0yhc-6_"
      }
    },
    {
      "cell_type": "markdown",
      "source": [
        "**1. Interactive Fiction Game(Hangman):**"
      ],
      "metadata": {
        "id": "56NO-_3FGbUy"
      }
    },
    {
      "cell_type": "code",
      "source": [
        "import random\n",
        "\n",
        "words = [\"python\", \"notebook\",\"google\",\"game\",\"laptop\",\"college\"]\n",
        "secret_word = random.choice(words)\n",
        "guesses = ''\n",
        "turns = 6\n",
        "\n",
        "while turns > 0:\n",
        "\n",
        "    failed = 0\n",
        "\n",
        "\n",
        "    for char in secret_word:\n",
        "        if char in guesses:\n",
        "            print(char, end=\" \")\n",
        "\n",
        "        else:\n",
        "            print(\"_\", end=\" \")\n",
        "            failed += 1\n",
        "\n",
        "    if failed == 0:\n",
        "        print(\"\\nYou won\")\n",
        "        break\n",
        "\n",
        "    guess = input(\"\\nGuess a character: \")\n",
        "    guesses += guess\n",
        "\n",
        "    if guess not in secret_word:\n",
        "        turns -= 1\n",
        "        print(\"Wrong\")\n",
        "        print(f\"You have {turns} more guesses\")\n",
        "\n",
        "        if turns == 0:\n",
        "            print(\"You Lose\")"
      ],
      "metadata": {
        "colab": {
          "base_uri": "https://localhost:8080/"
        },
        "id": "RAB_Wyw8NKfw",
        "outputId": "4f2170c1-e225-48cf-c131-737c2bc30e65"
      },
      "execution_count": 12,
      "outputs": [
        {
          "output_type": "stream",
          "name": "stdout",
          "text": [
            "_ _ _ _ _ _ \n",
            "Guess a character: n\n",
            "_ _ _ _ _ n \n",
            "Guess a character: p\n",
            "p _ _ _ _ n \n",
            "Guess a character: r\n",
            "Wrong\n",
            "You have 5 more guesses\n",
            "p _ _ _ _ n \n",
            "Guess a character: m\n",
            "Wrong\n",
            "You have 4 more guesses\n",
            "p _ _ _ _ n \n",
            "Guess a character: t\n",
            "p _ t _ _ n \n",
            "Guess a character: y\n",
            "p y t _ _ n \n",
            "Guess a character: h\n",
            "p y t h _ n \n",
            "Guess a character: o\n",
            "p y t h o n \n",
            "You won\n"
          ]
        }
      ]
    },
    {
      "cell_type": "markdown",
      "source": [
        " **2. Grocery Budget Tracker:**"
      ],
      "metadata": {
        "id": "-zz645GhP0_S"
      }
    },
    {
      "cell_type": "code",
      "source": [
        "budget = int(input(\"Enter your grocery budget for the month: \"))\n",
        "\n",
        "spent = 0\n",
        "over_budget = False\n",
        "\n",
        "while True:\n",
        "    item = input(\"Enter item purchased (or 'quit' to exit): \")\n",
        "\n",
        "    if item == 'quit':\n",
        "        break\n",
        "\n",
        "    cost = float(input(f\"How much did '{item}' cost? \"))\n",
        "\n",
        "    spent += cost\n",
        "\n",
        "    if spent > budget:\n",
        "        over_budget = True\n",
        "\n",
        "    print(f\"Total amount spent so far: {spent}\")\n",
        "    print(f\"Amount left in grocery budget: {budget-spent}\")\n",
        "\n",
        "    if over_budget:\n",
        "        print(\"WARNING: You have exceeded your grocery budget!\")\n",
        ""
      ],
      "metadata": {
        "colab": {
          "base_uri": "https://localhost:8080/"
        },
        "id": "qNZ18BNnbhpT",
        "outputId": "d601430d-f988-4402-a71a-2560a6bcb314"
      },
      "execution_count": 30,
      "outputs": [
        {
          "name": "stdout",
          "output_type": "stream",
          "text": [
            "Enter your grocery budget for the month: 5000\n",
            "Enter item purchased (or 'quit' to exit): bag\n",
            "How much did 'bag' cost? 3000\n",
            "Total amount spent so far: 3000.0\n",
            "Amount left in grocery budget: 2000.0\n",
            "Enter item purchased (or 'quit' to exit): shoes\n",
            "How much did 'shoes' cost? 2200\n",
            "Total amount spent so far: 5200.0\n",
            "Amount left in grocery budget: -200.0\n",
            "WARNING: You have exceeded your grocery budget!\n",
            "Enter item purchased (or 'quit' to exit): quit\n"
          ]
        }
      ]
    },
    {
      "cell_type": "markdown",
      "source": [
        "**3. Password Strength Checker:**"
      ],
      "metadata": {
        "id": "tmhySi0ocLrY"
      }
    },
    {
      "cell_type": "code",
      "source": [
        "password = input(\"Enter password: \")\n",
        "strength = 0\n",
        "\n",
        "if len(password) >= 8:\n",
        "    strength += 1\n",
        "\n",
        "if any(char.islower() for char in password):\n",
        "    strength += 1\n",
        "\n",
        "if any(char.isupper() for char in password):\n",
        "    strength += 1\n",
        "\n",
        "if any(char.isdigit() for char in password):\n",
        "    strength += 1\n",
        "\n",
        "print(\"Password Strength:\")\n",
        "\n",
        "if strength == 1:\n",
        "    print(\"Weak - improve by adding more characters\")\n",
        "elif strength == 2:\n",
        "    print(\"Medium - include uppercase, lowercase, numbers\")\n",
        "elif strength == 3:\n",
        "    print(\"Good\")\n",
        "else:\n",
        "    print(\"Strong Password\")"
      ],
      "metadata": {
        "colab": {
          "base_uri": "https://localhost:8080/"
        },
        "id": "4umEGgpATX8G",
        "outputId": "b2f32c80-2db4-4591-be96-c995bc1fa278"
      },
      "execution_count": 17,
      "outputs": [
        {
          "output_type": "stream",
          "name": "stdout",
          "text": [
            "Enter password: password\n",
            "Password Strength:\n",
            "Medium - include uppercase, lowercase, numbers\n"
          ]
        }
      ]
    },
    {
      "cell_type": "markdown",
      "source": [
        "**4. Personal Budgeting App:**"
      ],
      "metadata": {
        "id": "2C3gUDj4cJre"
      }
    },
    {
      "cell_type": "code",
      "source": [
        "budget = 0\n",
        "expenses = 0\n",
        "\n",
        "income = float(input(\"Enter your monthly income amount: \"))\n",
        "\n",
        "print(\"Enter your expenses one by one (-1 to stop):\")\n",
        "\n",
        "while True:\n",
        "    cost = float(input())\n",
        "\n",
        "    if cost == -1:\n",
        "        break\n",
        "    expenses += cost\n",
        "\n",
        "budget = income - expenses\n",
        "\n",
        "if budget > 0:\n",
        "    print(\"You are within the budget!\")\n",
        "else:\n",
        "    print(\"Over budget by\", abs(budget))\n",
        "\n",
        "print(\"Total Income:\", income)\n",
        "print(\"Total Expenses:\", expenses )\n",
        "print(\"Overall Budget:\", budget)"
      ],
      "metadata": {
        "colab": {
          "base_uri": "https://localhost:8080/"
        },
        "id": "b4BnCni4VPa-",
        "outputId": "1de6aa36-d2a3-4fdb-d6c6-575c92445ec7"
      },
      "execution_count": 19,
      "outputs": [
        {
          "output_type": "stream",
          "name": "stdout",
          "text": [
            "Enter your monthly income amount: 40000\n",
            "Enter your expenses one by one (-1 to stop):\n",
            "8000\n",
            "6000\n",
            "5000\n",
            "25000\n",
            "30000\n",
            "-1\n",
            "Over budget by 34000.0\n",
            "Total Income: 40000.0\n",
            "Total Expenses: 74000.0\n",
            "Overall Budget: -34000.0\n"
          ]
        }
      ]
    },
    {
      "cell_type": "markdown",
      "source": [
        "**5. Interactive Quiz with Feedback:**"
      ],
      "metadata": {
        "id": "PWlXidO_cbFf"
      }
    },
    {
      "cell_type": "code",
      "source": [
        "questions = [\n",
        "    \"What is the capital of India? \",\n",
        "    \"Which direction does the sun rise from? \",\n",
        "    \"Which month has only 28 days? \"\n",
        "]\n",
        "\n",
        "options = [\n",
        "    [\"Mumbai\", \"New Delhi\", \"Lucknow\"],\n",
        "    [\"East\", \"West\", \"North\"],\n",
        "    [\"May\", \"January\", \"February\"]\n",
        "]\n",
        "\n",
        "answers = [1, 0, 2]\n",
        "\n",
        "score = 0\n",
        "\n",
        "for i in range(len(questions)):\n",
        "    print(questions[i])\n",
        "\n",
        "    for j in range(len(options[i])):\n",
        "        print(str(j+1) + \". \" + options[i][j])\n",
        "\n",
        "    choice = int(input(\"Your choice (1/2/3): \"))\n",
        "    choice-= 1\n",
        "\n",
        "    if choice == answers[i]:\n",
        "        print(\"Correct!\")\n",
        "        score += 1\n",
        "    else:\n",
        "        print(\"Incorrect, try again.\")\n",
        "\n",
        "print(\"You scored\", score, \"out of\", len(questions))"
      ],
      "metadata": {
        "colab": {
          "base_uri": "https://localhost:8080/"
        },
        "id": "UcYXTy9hWDeD",
        "outputId": "04eee2db-4224-4b8d-ae86-3bb071a36500"
      },
      "execution_count": 22,
      "outputs": [
        {
          "output_type": "stream",
          "name": "stdout",
          "text": [
            "What is the capital of India? \n",
            "1. Mumbai\n",
            "2. New Delhi\n",
            "3. Lucknow\n",
            "Your choice (1/2/3): 2\n",
            "Correct!\n",
            "Which direction does the sun rise from? \n",
            "1. East\n",
            "2. West\n",
            "3. North\n",
            "Your choice (1/2/3): 3\n",
            "Incorrect, try again.\n",
            "Which month has only 28 days? \n",
            "1. May\n",
            "2. January\n",
            "3. February\n",
            "Your choice (1/2/3): 3\n",
            "Correct!\n",
            "You scored 2 out of 3\n"
          ]
        }
      ]
    },
    {
      "cell_type": "markdown",
      "source": [
        "**6. Simple Currency Converter:**"
      ],
      "metadata": {
        "id": "2-oUaIaTciYJ"
      }
    },
    {
      "cell_type": "code",
      "source": [
        "rates = {\"USD\": 1, \"INR\": 0.012, \"RUB\": 0.014, \"EUR\": 0.9, \"DIRHAM\": 0.27 }\n",
        "\n",
        "print(\"Enter currency using currency code:\")\n",
        "print(\"USD - US Dollar\")\n",
        "print(\"INR - Indian Rupee\")\n",
        "print(\"RUB - Russian Ruble\")\n",
        "print(\"EUR - Euro\")\n",
        "print(\"DIRHAM - UAE Dirham\")\n",
        "\n",
        "amount = float(input(\"Enter amount: \"))\n",
        "currency = input(\"Enter currency code: \").upper()\n",
        "\n",
        "if currency in rates:\n",
        "    converted = amount * rates[currency]\n",
        "    print(f\"{amount} {currency} is equal to {converted} USD\")\n",
        "else:\n",
        "    print(\"Invalid currency code\")"
      ],
      "metadata": {
        "colab": {
          "base_uri": "https://localhost:8080/"
        },
        "id": "IczejvnAY39Q",
        "outputId": "1dadfd5c-6733-4501-92f9-cfe98dfd9d9e"
      },
      "execution_count": 24,
      "outputs": [
        {
          "output_type": "stream",
          "name": "stdout",
          "text": [
            "Enter currency using currency code:\n",
            "USD - US Dollar\n",
            "INR - Indian Rupee\n",
            "RUB - Russian Ruble\n",
            "EUR - Euro\n",
            "DIRHAM - UAE Dirham\n",
            "Enter amount: 1000\n",
            "Enter currency code: INR\n",
            "1000.0 INR is equal to 12.0 USD\n"
          ]
        }
      ]
    }
  ]
}