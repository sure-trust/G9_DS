{
  "nbformat": 4,
  "nbformat_minor": 0,
  "metadata": {
    "colab": {
      "provenance": []
    },
    "kernelspec": {
      "name": "python3",
      "display_name": "Python 3"
    },
    "language_info": {
      "name": "python"
    }
  },
  "cells": [
    {
      "cell_type": "markdown",
      "source": [
        "**1.**\\\n",
        "x=\"Hello\" \\\n",
        "y=\"World\" \\\n",
        "z=x+y \\\n",
        "print(z) \\\n",
        "what is the output?"
      ],
      "metadata": {
        "id": "mqIcMIhTpyUe"
      }
    },
    {
      "cell_type": "code",
      "source": [
        "x=\"Hello\"\n",
        "y=\"World\"\n",
        "z=x+y\n",
        "print(z)"
      ],
      "metadata": {
        "colab": {
          "base_uri": "https://localhost:8080/"
        },
        "id": "wYyIkp4DqiT2",
        "outputId": "9a93de5c-4d1d-49fd-c824-a06da6c56501"
      },
      "execution_count": null,
      "outputs": [
        {
          "output_type": "stream",
          "name": "stdout",
          "text": [
            "HelloWorld\n"
          ]
        }
      ]
    },
    {
      "cell_type": "markdown",
      "source": [
        "**2.**\\\n",
        "a) x=y=z=\"Orange\" \\\n",
        "b) x,y,z=\"Orange\" \\\n",
        "c) x,y,z=\"Orange\",\"Banana\",\"Cherry\" \\\n",
        "d) None of the above \\\n",
        "which of the following will throw an error?\n"
      ],
      "metadata": {
        "id": "uaIwkVXKrEOc"
      }
    },
    {
      "cell_type": "code",
      "source": [
        "x=y=z=\"Orange\""
      ],
      "metadata": {
        "id": "4Z5eyrqariR5"
      },
      "execution_count": null,
      "outputs": []
    },
    {
      "cell_type": "code",
      "source": [
        "x,y,z=\"Orange\""
      ],
      "metadata": {
        "colab": {
          "base_uri": "https://localhost:8080/",
          "height": 141
        },
        "id": "QHtYAJU8rmhJ",
        "outputId": "fe4c9989-2f2a-4ab1-f060-66bf4bab3f55"
      },
      "execution_count": null,
      "outputs": [
        {
          "output_type": "error",
          "ename": "ValueError",
          "evalue": "too many values to unpack (expected 3)",
          "traceback": [
            "\u001b[0;31m---------------------------------------------------------------------------\u001b[0m",
            "\u001b[0;31mValueError\u001b[0m                                Traceback (most recent call last)",
            "\u001b[0;32m<ipython-input-5-1e09668183ca>\u001b[0m in \u001b[0;36m<cell line: 1>\u001b[0;34m()\u001b[0m\n\u001b[0;32m----> 1\u001b[0;31m \u001b[0mx\u001b[0m\u001b[0;34m,\u001b[0m\u001b[0my\u001b[0m\u001b[0;34m,\u001b[0m\u001b[0mz\u001b[0m\u001b[0;34m=\u001b[0m\u001b[0;34m\"Orange\"\u001b[0m\u001b[0;34m\u001b[0m\u001b[0;34m\u001b[0m\u001b[0m\n\u001b[0m",
            "\u001b[0;31mValueError\u001b[0m: too many values to unpack (expected 3)"
          ]
        }
      ]
    },
    {
      "cell_type": "code",
      "source": [
        "x,y,z=\"Orange\",\"Banana\",\"Cherry\""
      ],
      "metadata": {
        "id": "S2Yh_pD8ro2r"
      },
      "execution_count": null,
      "outputs": []
    },
    {
      "cell_type": "code",
      "source": [],
      "metadata": {
        "id": "BUqIBiPRrr8K"
      },
      "execution_count": null,
      "outputs": []
    },
    {
      "cell_type": "markdown",
      "source": [
        "**3.**\\\n",
        "x=True\\\n",
        "y=False\\\n",
        "z=False\\\n",
        "\\\n",
        "if not x or y:\\\n",
        "  print(1)\\\n",
        "elif not x or not y and z:\\\n",
        "  print(2)\\\n",
        "elif not x or y or not y and x:\\\n",
        "  print(3)\\\n",
        "else:\\\n",
        "  print(4)\\\n",
        "\\\n",
        "what is the output of the following Python code?"
      ],
      "metadata": {
        "id": "FwnHt2gqrtds"
      }
    },
    {
      "cell_type": "code",
      "source": [
        "x=True\n",
        "y=False\n",
        "z=False\n",
        "if not x or y:\n",
        "  print(1)\n",
        "elif not x or not y and z:\n",
        "  print(2)\n",
        "elif not x or y or not y and x:\n",
        "  print(3)\n",
        "else:\n",
        "  print(4)"
      ],
      "metadata": {
        "colab": {
          "base_uri": "https://localhost:8080/"
        },
        "id": "A0HKtCFssfTu",
        "outputId": "8bd8697f-514e-4e75-e36d-93870e91e270"
      },
      "execution_count": null,
      "outputs": [
        {
          "output_type": "stream",
          "name": "stdout",
          "text": [
            "3\n"
          ]
        }
      ]
    },
    {
      "cell_type": "markdown",
      "source": [
        "**4.**\\\n",
        "x=[1,2,3]\\\n",
        "y=x\\\n",
        "y.append(4)\\\n",
        "print(x)\n"
      ],
      "metadata": {
        "id": "skf5L3YntBgU"
      }
    },
    {
      "cell_type": "code",
      "source": [
        "x=[1,2,3]\n",
        "y=x\n",
        "y.append(4)\n",
        "print(x)"
      ],
      "metadata": {
        "colab": {
          "base_uri": "https://localhost:8080/"
        },
        "id": "YAepNV8XtRI9",
        "outputId": "32043d74-edf7-4e32-e83a-3da2b6d37865"
      },
      "execution_count": null,
      "outputs": [
        {
          "output_type": "stream",
          "name": "stdout",
          "text": [
            "[1, 2, 3, 4]\n"
          ]
        }
      ]
    },
    {
      "cell_type": "markdown",
      "source": [
        "**5.**\\\n",
        "x=(1,2,3)\\\n",
        "print(type(x))\\\n",
        "\\\n",
        "what is the output of the following Python code?"
      ],
      "metadata": {
        "id": "Fezxx_pjtYnh"
      }
    },
    {
      "cell_type": "code",
      "source": [
        "x=(1,2,3)\n",
        "print(type(x))"
      ],
      "metadata": {
        "colab": {
          "base_uri": "https://localhost:8080/"
        },
        "id": "36VVhmddtmOp",
        "outputId": "b00a5491-4a19-4585-d766-4c65eaf797ce"
      },
      "execution_count": null,
      "outputs": [
        {
          "output_type": "stream",
          "name": "stdout",
          "text": [
            "<class 'tuple'>\n"
          ]
        }
      ]
    },
    {
      "cell_type": "markdown",
      "source": [
        "**6.**\\\n",
        "x={1:\"one\",2:\"two\"}\\\n",
        "print(x[1])\\\n",
        "\\\n",
        "what is the output of the following Python code?"
      ],
      "metadata": {
        "id": "qnNuN4IFtp2i"
      }
    },
    {
      "cell_type": "code",
      "source": [
        "x={1:\"one\",2:\"two\"}\n",
        "print(x[1])"
      ],
      "metadata": {
        "colab": {
          "base_uri": "https://localhost:8080/"
        },
        "id": "rXy0ZNPmt6ZB",
        "outputId": "160ef4a0-00ef-4688-9942-7bc018713b81"
      },
      "execution_count": null,
      "outputs": [
        {
          "output_type": "stream",
          "name": "stdout",
          "text": [
            "one\n"
          ]
        }
      ]
    },
    {
      "cell_type": "markdown",
      "source": [
        "**7.**\\\n",
        "x=True+False\\\n",
        "print(x)\\\n",
        "\\\n",
        "what is the output of the following Python code?"
      ],
      "metadata": {
        "id": "G5dkoXjDt_ZN"
      }
    },
    {
      "cell_type": "code",
      "source": [
        "x=True+False\n",
        "print(x)"
      ],
      "metadata": {
        "colab": {
          "base_uri": "https://localhost:8080/"
        },
        "id": "oL0gkf7OuLTy",
        "outputId": "134af169-5caa-461a-f78f-4d6314c8993a"
      },
      "execution_count": null,
      "outputs": [
        {
          "output_type": "stream",
          "name": "stdout",
          "text": [
            "1\n"
          ]
        }
      ]
    },
    {
      "cell_type": "code",
      "source": [],
      "metadata": {
        "id": "GVKaWj9cuPbm"
      },
      "execution_count": null,
      "outputs": []
    },
    {
      "cell_type": "markdown",
      "source": [
        "**8.**\\\n",
        "x=\"123\"\\\n",
        "print(int(x)+1)\\\n",
        "\\\n",
        "what is the output of the following Python code?"
      ],
      "metadata": {
        "id": "kS70K3lduRlY"
      }
    },
    {
      "cell_type": "code",
      "source": [
        "x=\"123\"\n",
        "print(int(x)+1)"
      ],
      "metadata": {
        "colab": {
          "base_uri": "https://localhost:8080/"
        },
        "id": "YxNnO7ojuic6",
        "outputId": "93615623-15b3-493c-d4e7-58ab158af758"
      },
      "execution_count": null,
      "outputs": [
        {
          "output_type": "stream",
          "name": "stdout",
          "text": [
            "124\n"
          ]
        }
      ]
    },
    {
      "cell_type": "markdown",
      "source": [
        "**9.**\\\n",
        "x=\"Hello\"\\\n",
        "print(list(x))\\\n",
        "\\\n",
        "What is the output of the following Python code?"
      ],
      "metadata": {
        "id": "l8pi7FGSu5DI"
      }
    },
    {
      "cell_type": "code",
      "source": [
        "x=\"Hello\"\n",
        "print(list(x))"
      ],
      "metadata": {
        "colab": {
          "base_uri": "https://localhost:8080/"
        },
        "id": "iPPF2hdBuzd9",
        "outputId": "969d6560-8d63-42ca-c721-c24ced5ec6de"
      },
      "execution_count": null,
      "outputs": [
        {
          "output_type": "stream",
          "name": "stdout",
          "text": [
            "['H', 'e', 'l', 'l', 'o']\n"
          ]
        }
      ]
    },
    {
      "cell_type": "code",
      "source": [],
      "metadata": {
        "id": "Z3FwBEu9u-Ls"
      },
      "execution_count": null,
      "outputs": []
    },
    {
      "cell_type": "markdown",
      "source": [
        "**10.**\\\n",
        "x=123\\\n",
        "print(bool(x))\\\n",
        "\\\n",
        "What is the output of the following Python code?"
      ],
      "metadata": {
        "id": "D-x_AHfMu_Y-"
      }
    },
    {
      "cell_type": "code",
      "source": [
        "x=123\n",
        "print(bool(x))\n"
      ],
      "metadata": {
        "colab": {
          "base_uri": "https://localhost:8080/"
        },
        "id": "o3NWo50qvKfB",
        "outputId": "879a5bb0-0ca6-49d2-9f39-055e719b8870"
      },
      "execution_count": null,
      "outputs": [
        {
          "output_type": "stream",
          "name": "stdout",
          "text": [
            "True\n"
          ]
        }
      ]
    },
    {
      "cell_type": "code",
      "source": [],
      "metadata": {
        "id": "ynho8sskvMhi"
      },
      "execution_count": null,
      "outputs": []
    },
    {
      "cell_type": "markdown",
      "source": [
        "**11.**\\\n",
        "x=\"123\"\\\n",
        "y=\"456\"\\\n",
        "print(int(x+y))\\\n",
        "\\\n",
        "What is the output of the following Python code?"
      ],
      "metadata": {
        "id": "gWxovDpZvPKQ"
      }
    },
    {
      "cell_type": "code",
      "source": [
        "x=\"123\"\n",
        "y=\"456\"\n",
        "print(int(x+y))"
      ],
      "metadata": {
        "colab": {
          "base_uri": "https://localhost:8080/"
        },
        "id": "gJxRYXHRvcJz",
        "outputId": "d237cbb1-5277-4203-a50d-fdf87af6cc0d"
      },
      "execution_count": null,
      "outputs": [
        {
          "output_type": "stream",
          "name": "stdout",
          "text": [
            "123456\n"
          ]
        }
      ]
    },
    {
      "cell_type": "code",
      "source": [],
      "metadata": {
        "id": "l3Z2hfNmvd-C"
      },
      "execution_count": null,
      "outputs": []
    },
    {
      "cell_type": "markdown",
      "source": [
        "**12.**\\\n",
        "x=10\\\n",
        "y=20\\\n",
        "print(x==y)\\\n",
        "\\\n",
        "What is the output of the following Python code?"
      ],
      "metadata": {
        "id": "2lOyhlnEvjS4"
      }
    },
    {
      "cell_type": "code",
      "source": [
        "x=10\n",
        "y=20\n",
        "print(x==y)"
      ],
      "metadata": {
        "colab": {
          "base_uri": "https://localhost:8080/"
        },
        "id": "3Y29HzUtvvu8",
        "outputId": "ac514d63-1567-43b5-ba5f-814ad0ab79d9"
      },
      "execution_count": null,
      "outputs": [
        {
          "output_type": "stream",
          "name": "stdout",
          "text": [
            "False\n"
          ]
        }
      ]
    },
    {
      "cell_type": "code",
      "source": [],
      "metadata": {
        "id": "VEocARFDvxaF"
      },
      "execution_count": null,
      "outputs": []
    },
    {
      "cell_type": "markdown",
      "source": [
        "**13.**\\\n",
        "x=True\\\n",
        "y=False\\\n",
        "print(x and y)\\\n",
        "\\\n",
        "What is the output of the following Python code?"
      ],
      "metadata": {
        "id": "U7UYKzmMvynS"
      }
    },
    {
      "cell_type": "code",
      "source": [
        "x=True\n",
        "y=False\n",
        "print(x and y)"
      ],
      "metadata": {
        "colab": {
          "base_uri": "https://localhost:8080/"
        },
        "id": "eMiBb1uJv_UG",
        "outputId": "7a3f2c7e-6a58-48ee-e274-3c94125356e2"
      },
      "execution_count": null,
      "outputs": [
        {
          "output_type": "stream",
          "name": "stdout",
          "text": [
            "False\n"
          ]
        }
      ]
    },
    {
      "cell_type": "code",
      "source": [],
      "metadata": {
        "id": "i5oCf7mmwBKT"
      },
      "execution_count": null,
      "outputs": []
    },
    {
      "cell_type": "markdown",
      "source": [
        "**14.**\\\n",
        "x=10\\\n",
        "while x>5:\\\n",
        "  x-=1\\\n",
        "  print(x)\\\n",
        "  \\\n",
        "  What is the output of the following Python code?"
      ],
      "metadata": {
        "id": "ygRksrntwND9"
      }
    },
    {
      "cell_type": "code",
      "source": [
        "x=10\n",
        "while x>5:\n",
        "  x-=1\n",
        "print(x)\n"
      ],
      "metadata": {
        "colab": {
          "base_uri": "https://localhost:8080/"
        },
        "id": "9ZAltOMwwk9_",
        "outputId": "512faecf-7f1c-477f-d3e4-1defb1aefbb4"
      },
      "execution_count": null,
      "outputs": [
        {
          "output_type": "stream",
          "name": "stdout",
          "text": [
            "5\n"
          ]
        }
      ]
    },
    {
      "cell_type": "code",
      "source": [],
      "metadata": {
        "id": "7dFetK5YwqL9"
      },
      "execution_count": null,
      "outputs": []
    },
    {
      "cell_type": "markdown",
      "source": [
        "**15.**\\\n",
        "x=[1,2,3,4,5]\\\n",
        "for i in x:\\\n",
        "if i==3:\\\n",
        "break\\\n",
        "print(i,end=\" \")\\\n",
        "\\\n",
        "What is the output of the following Python code?"
      ],
      "metadata": {
        "id": "aAtyWVSAwtYY"
      }
    },
    {
      "cell_type": "markdown",
      "source": [],
      "metadata": {
        "id": "ap05H471xM1I"
      }
    },
    {
      "cell_type": "code",
      "source": [
        "x=[1,2,3,4,5]\n",
        "for i in x:\n",
        "  if i==3:\n",
        "    break\n",
        "  print(i,end=\" \")"
      ],
      "metadata": {
        "colab": {
          "base_uri": "https://localhost:8080/"
        },
        "id": "DBRlUs94w9N9",
        "outputId": "0a1ce1be-9a04-400f-bb31-abd4178f6444"
      },
      "execution_count": null,
      "outputs": [
        {
          "output_type": "stream",
          "name": "stdout",
          "text": [
            "1 2 "
          ]
        }
      ]
    },
    {
      "cell_type": "markdown",
      "source": [
        "**16.**\\\n",
        "x=[1,2,3,4,5]\\\n",
        "for i in x:\\\n",
        "if i==3:\\\n",
        "continue\\\n",
        "print(i,end=\" \")\\\n",
        "\\\n",
        "What is the output of the following Python code?"
      ],
      "metadata": {
        "id": "0XUxSKjHxQGL"
      }
    },
    {
      "cell_type": "code",
      "source": [
        "x=[1,2,3,4,5]\n",
        "for i in x:\n",
        "  if i==3:\n",
        "    continue\n",
        "  print(i,end=\" \")"
      ],
      "metadata": {
        "colab": {
          "base_uri": "https://localhost:8080/"
        },
        "id": "SvtyhPz7xTzl",
        "outputId": "5b4ffc52-04b2-479b-f42a-d2e5e6810326"
      },
      "execution_count": null,
      "outputs": [
        {
          "output_type": "stream",
          "name": "stdout",
          "text": [
            "1 2 4 5 "
          ]
        }
      ]
    },
    {
      "cell_type": "code",
      "source": [],
      "metadata": {
        "id": "F_gQc3CUxXwz"
      },
      "execution_count": null,
      "outputs": []
    },
    {
      "cell_type": "markdown",
      "source": [
        "**17.**\\\n",
        "x=[1,2,\"3\",\"4\",\"5\"]\\\n",
        "for i in x:\\\n",
        "if type(i)==int:\\\n",
        "continue\\\n",
        "print(i,end=\" \")\\\n",
        "\\\n",
        "What is the output of the following Python code?"
      ],
      "metadata": {
        "id": "MUy4-ZpDxfw-"
      }
    },
    {
      "cell_type": "code",
      "source": [
        "x=[1,2,\"3\",\"4\",\"5\"]\n",
        "for i in x:\n",
        "  if type(i)==int:\n",
        "    continue\n",
        "  print(i,end=\" \")"
      ],
      "metadata": {
        "colab": {
          "base_uri": "https://localhost:8080/"
        },
        "id": "GRG2uOX9xqZQ",
        "outputId": "649c8542-420a-40c9-bb9b-6a32f8dea8c1"
      },
      "execution_count": null,
      "outputs": [
        {
          "output_type": "stream",
          "name": "stdout",
          "text": [
            "3 4 5 "
          ]
        }
      ]
    },
    {
      "cell_type": "code",
      "source": [],
      "metadata": {
        "id": "wbYhrgeZxvio"
      },
      "execution_count": null,
      "outputs": []
    },
    {
      "cell_type": "markdown",
      "source": [
        "**18.**\\\n",
        "x=[1,2,3]\\\n",
        "y=[i**2 for i in x]\\\n",
        "print(y)\\\n",
        "\\\n",
        "What is the output of the following Python code?"
      ],
      "metadata": {
        "id": "bWCbYOXExz52"
      }
    },
    {
      "cell_type": "code",
      "source": [
        "x=[1,2,3]\n",
        "y=[i**2 for i in x]\n",
        "print(y)"
      ],
      "metadata": {
        "colab": {
          "base_uri": "https://localhost:8080/"
        },
        "id": "cb4roTx9yFZM",
        "outputId": "531b7b0d-23f4-48d9-a671-23b2a21787d0"
      },
      "execution_count": null,
      "outputs": [
        {
          "output_type": "stream",
          "name": "stdout",
          "text": [
            "[1, 4, 9]\n"
          ]
        }
      ]
    },
    {
      "cell_type": "markdown",
      "source": [
        "**19.**\\\n",
        "x=[i for i in range(10)]\\\n",
        "y=[i for i in x if i%2==0]\\\n",
        "print(y)\\\n",
        "\\\n",
        "What is the output of the following Python code?"
      ],
      "metadata": {
        "id": "0C9C2mBcyLaC"
      }
    },
    {
      "cell_type": "code",
      "source": [
        "x=[i for i in range(10)]\n",
        "y=[i for i in x if i%2==0]\n",
        "print(y)"
      ],
      "metadata": {
        "colab": {
          "base_uri": "https://localhost:8080/"
        },
        "id": "dRM1_-EsyIPn",
        "outputId": "36583bc3-5718-4fd5-9518-2ea6ceb45e80"
      },
      "execution_count": null,
      "outputs": [
        {
          "output_type": "stream",
          "name": "stdout",
          "text": [
            "[0, 2, 4, 6, 8]\n"
          ]
        }
      ]
    },
    {
      "cell_type": "code",
      "source": [],
      "metadata": {
        "id": "7lAmHEjQyaDu"
      },
      "execution_count": null,
      "outputs": []
    },
    {
      "cell_type": "markdown",
      "source": [
        "**20.**\\\n",
        "x=\"Hello\"\\\n",
        "print(x.strip())\\\n",
        "\\\n",
        "What is the output of the following Python code?"
      ],
      "metadata": {
        "id": "TYPzLor-ybRk"
      }
    },
    {
      "cell_type": "code",
      "source": [
        "x=\"Hello\"\n",
        "print(x.strip())\n"
      ],
      "metadata": {
        "colab": {
          "base_uri": "https://localhost:8080/"
        },
        "id": "fkJOr0CMyq2M",
        "outputId": "44342b81-062d-44d9-d3b6-7793eb6c01b3"
      },
      "execution_count": null,
      "outputs": [
        {
          "output_type": "stream",
          "name": "stdout",
          "text": [
            "Hello\n"
          ]
        }
      ]
    },
    {
      "cell_type": "markdown",
      "source": [
        "**21.**\\\n",
        "x=\"Hello\"\\\n",
        "print(x[-1])\\\n",
        "\\\n",
        "What is the output of the following Python code?"
      ],
      "metadata": {
        "id": "a2s4IMZjyxjH"
      }
    },
    {
      "cell_type": "code",
      "source": [
        "x=\"Hello\"\n",
        "print(x[-1])\n"
      ],
      "metadata": {
        "colab": {
          "base_uri": "https://localhost:8080/"
        },
        "id": "RSUAKolGyt2h",
        "outputId": "2bd808dc-47bb-41f7-a0fc-bfd5d1a9699b"
      },
      "execution_count": null,
      "outputs": [
        {
          "output_type": "stream",
          "name": "stdout",
          "text": [
            "o\n"
          ]
        }
      ]
    },
    {
      "cell_type": "markdown",
      "source": [
        "**22.**\\\n",
        "x={1:\"one\",2:\"two\",3:\"three\"}\\\n",
        "print(len(x))\\\n",
        "\\\n",
        "What is the output of the following Python code?"
      ],
      "metadata": {
        "id": "FST_qSqry-7k"
      }
    },
    {
      "cell_type": "code",
      "source": [
        "x={1:\"one\",2:\"two\",3:\"three\"}\n",
        "print(len(x))\n"
      ],
      "metadata": {
        "colab": {
          "base_uri": "https://localhost:8080/"
        },
        "id": "XkX-EPOLy36z",
        "outputId": "b038b290-1c5e-48b5-bf0e-1d20ab5a185f"
      },
      "execution_count": null,
      "outputs": [
        {
          "output_type": "stream",
          "name": "stdout",
          "text": [
            "3\n"
          ]
        }
      ]
    },
    {
      "cell_type": "markdown",
      "source": [
        "**23.**\\\n",
        "x=[1,2,3]\\\n",
        "y=x.pop()\\\n",
        "print(y)\\\n",
        "\\\n",
        "What is the output of the following Python code?"
      ],
      "metadata": {
        "id": "QWf099N2zTtX"
      }
    },
    {
      "cell_type": "code",
      "source": [
        "x=[1,2,3]\n",
        "y=x.pop()\n",
        "print(y)"
      ],
      "metadata": {
        "colab": {
          "base_uri": "https://localhost:8080/"
        },
        "id": "TIcg5wJIzPLV",
        "outputId": "1c99dc90-91e4-4e7a-cd2d-3aee9018a50c"
      },
      "execution_count": null,
      "outputs": [
        {
          "output_type": "stream",
          "name": "stdout",
          "text": [
            "3\n"
          ]
        }
      ]
    },
    {
      "cell_type": "markdown",
      "source": [
        "**24.**\\\n",
        "x={1,2,3}\\\n",
        "y=list(x)\\\n",
        "print(y)\\\n",
        "\\\n",
        "What is the output of the following Python code?"
      ],
      "metadata": {
        "id": "jPfpikZxzjgP"
      }
    },
    {
      "cell_type": "code",
      "source": [
        "x={1,2,3}\n",
        "y=list(x)\n",
        "print(y)"
      ],
      "metadata": {
        "colab": {
          "base_uri": "https://localhost:8080/"
        },
        "id": "wRKqxn8Wzf_H",
        "outputId": "0bea5d91-21c2-40b0-db4e-298b4d75c9de"
      },
      "execution_count": null,
      "outputs": [
        {
          "output_type": "stream",
          "name": "stdout",
          "text": [
            "[1, 2, 3]\n"
          ]
        }
      ]
    },
    {
      "cell_type": "markdown",
      "source": [
        "**25.**\\\n",
        "def greet(name):\\\n",
        "return \"Hello, \" + name\\\n",
        "print(greet(\"World\"))\\\n",
        "\\\n",
        "What is the output of the following Python code?"
      ],
      "metadata": {
        "id": "6-kL9winz1ZK"
      }
    },
    {
      "cell_type": "code",
      "source": [
        "def greet(name):\n",
        "  return \"Hello, \" + name\n",
        "print(greet(\"World\"))\n"
      ],
      "metadata": {
        "colab": {
          "base_uri": "https://localhost:8080/"
        },
        "id": "sllrpv3GzrRp",
        "outputId": "ef3907d6-0b0b-4659-e085-e100934e5c8d"
      },
      "execution_count": null,
      "outputs": [
        {
          "output_type": "stream",
          "name": "stdout",
          "text": [
            "Hello, World\n"
          ]
        }
      ]
    },
    {
      "cell_type": "markdown",
      "source": [
        "**26.**\\\n",
        "def add(x, y=2):\\\n",
        "return x+y\\\n",
        "print(add(1,3))\\\n",
        "\\\n",
        "What is the output of the following Python code?"
      ],
      "metadata": {
        "id": "ccXYwWy70YvZ"
      }
    },
    {
      "cell_type": "code",
      "source": [
        "def add(x, y=2):\n",
        "  return x+y\n",
        "print(add(1,3))"
      ],
      "metadata": {
        "colab": {
          "base_uri": "https://localhost:8080/"
        },
        "id": "IH1JGcp00M4I",
        "outputId": "09b36736-c3a2-445a-fcf6-99f416456d9d"
      },
      "execution_count": null,
      "outputs": [
        {
          "output_type": "stream",
          "name": "stdout",
          "text": [
            "4\n"
          ]
        }
      ]
    },
    {
      "cell_type": "markdown",
      "source": [
        "**27.**\\\n",
        "def add(x, y=2):\\\n",
        "return x+y\\\n",
        "print(add(1))\\\n",
        "\\\n",
        "What is the output of the following Python code?"
      ],
      "metadata": {
        "id": "4AOrpQCo0tid"
      }
    },
    {
      "cell_type": "code",
      "source": [
        "def add(x, y=2):\n",
        "  return x+y\n",
        "print(add(1))"
      ],
      "metadata": {
        "colab": {
          "base_uri": "https://localhost:8080/"
        },
        "id": "LojkG8LT0oKO",
        "outputId": "1f2d5261-051c-4470-a3f6-1e7faa0923d4"
      },
      "execution_count": null,
      "outputs": [
        {
          "output_type": "stream",
          "name": "stdout",
          "text": [
            "3\n"
          ]
        }
      ]
    },
    {
      "cell_type": "markdown",
      "source": [
        "**28.**\\\n",
        "x=lambda a: a+10\\\n",
        "print(x(5))\\\n",
        "\\\n",
        "What is the output of the following Python code?"
      ],
      "metadata": {
        "id": "8PYB4DDf085u"
      }
    },
    {
      "cell_type": "code",
      "source": [
        "x=lambda a: a+10\n",
        "print(x(5))"
      ],
      "metadata": {
        "colab": {
          "base_uri": "https://localhost:8080/"
        },
        "id": "dsVSNV6f01qA",
        "outputId": "e6627e50-7e96-48e7-81e4-ac61cbfb6781"
      },
      "execution_count": null,
      "outputs": [
        {
          "output_type": "stream",
          "name": "stdout",
          "text": [
            "15\n"
          ]
        }
      ]
    },
    {
      "cell_type": "markdown",
      "source": [
        "**29.**\\\n",
        "fun=lambda x: x*fun(x-1) if x>1 else 1\\\n",
        "\\\n",
        "What would be the output? If we call fun(4)?"
      ],
      "metadata": {
        "id": "cE89LUYD1ORF"
      }
    },
    {
      "cell_type": "code",
      "source": [
        "fun=lambda x: x*fun(x-1) if x>1 else 1\n",
        "fun(4)\n"
      ],
      "metadata": {
        "colab": {
          "base_uri": "https://localhost:8080/"
        },
        "id": "8159Sc4D1IGZ",
        "outputId": "767949f1-07b8-42cf-dbf7-44e2c62cff43"
      },
      "execution_count": null,
      "outputs": [
        {
          "output_type": "execute_result",
          "data": {
            "text/plain": [
              "24"
            ]
          },
          "metadata": {},
          "execution_count": 40
        }
      ]
    },
    {
      "cell_type": "markdown",
      "source": [
        "**30.**\\\n",
        "anagram=lambda x,y : sorted(x) == sorted(y)\\\n",
        "\\\n",
        "What would be the output If we call anagram(help,phel)?"
      ],
      "metadata": {
        "id": "v7eMAXoi2Wx5"
      }
    },
    {
      "cell_type": "code",
      "source": [
        "anagram=lambda x,y : sorted(x) == sorted(y)\n",
        "anagram(help,phel)"
      ],
      "metadata": {
        "colab": {
          "base_uri": "https://localhost:8080/",
          "height": 158
        },
        "id": "IHK8ahpQ1kEz",
        "outputId": "fe0d76c5-beff-4d7b-eed7-ca047b0ed5d1"
      },
      "execution_count": null,
      "outputs": [
        {
          "output_type": "error",
          "ename": "NameError",
          "evalue": "name 'phel' is not defined",
          "traceback": [
            "\u001b[0;31m---------------------------------------------------------------------------\u001b[0m",
            "\u001b[0;31mNameError\u001b[0m                                 Traceback (most recent call last)",
            "\u001b[0;32m<ipython-input-41-4235500f40b0>\u001b[0m in \u001b[0;36m<cell line: 2>\u001b[0;34m()\u001b[0m\n\u001b[1;32m      1\u001b[0m \u001b[0managram\u001b[0m\u001b[0;34m=\u001b[0m\u001b[0;32mlambda\u001b[0m \u001b[0mx\u001b[0m\u001b[0;34m,\u001b[0m\u001b[0my\u001b[0m \u001b[0;34m:\u001b[0m \u001b[0msorted\u001b[0m\u001b[0;34m(\u001b[0m\u001b[0mx\u001b[0m\u001b[0;34m)\u001b[0m \u001b[0;34m==\u001b[0m \u001b[0msorted\u001b[0m\u001b[0;34m(\u001b[0m\u001b[0my\u001b[0m\u001b[0;34m)\u001b[0m\u001b[0;34m\u001b[0m\u001b[0;34m\u001b[0m\u001b[0m\n\u001b[0;32m----> 2\u001b[0;31m \u001b[0managram\u001b[0m\u001b[0;34m(\u001b[0m\u001b[0mhelp\u001b[0m\u001b[0;34m,\u001b[0m\u001b[0mphel\u001b[0m\u001b[0;34m)\u001b[0m\u001b[0;34m\u001b[0m\u001b[0;34m\u001b[0m\u001b[0m\n\u001b[0m",
            "\u001b[0;31mNameError\u001b[0m: name 'phel' is not defined"
          ]
        }
      ]
    },
    {
      "cell_type": "markdown",
      "source": [
        "**31.**\\\n",
        "anagram=lambda x,y : sorted(x) == sorted(y)\\\n",
        "\\\n",
        "What would be the output If we call anagram('help','phel')?"
      ],
      "metadata": {
        "id": "oVExSain25ma"
      }
    },
    {
      "cell_type": "code",
      "source": [
        "anagram=lambda x,y : sorted(x) == sorted(y)\n",
        "anagram('help','phel')"
      ],
      "metadata": {
        "colab": {
          "base_uri": "https://localhost:8080/"
        },
        "id": "t8FgwhIX2tij",
        "outputId": "6f8f7020-99f0-40a3-e266-b4a395cefe87"
      },
      "execution_count": null,
      "outputs": [
        {
          "output_type": "execute_result",
          "data": {
            "text/plain": [
              "True"
            ]
          },
          "metadata": {},
          "execution_count": 42
        }
      ]
    },
    {
      "cell_type": "markdown",
      "source": [
        "**32.**\\\n",
        "class Test:\\\n",
        "def _ init _(self):\\\n",
        "self.x=1\\\n",
        "t1=Test()\\\n",
        "t2=Test()\\\n",
        "t1.x=2\\\n",
        "print(t2.x)\\\n",
        "\\\n",
        "What is the output of the following Python code?"
      ],
      "metadata": {
        "id": "izlpy5cA3Qu5"
      }
    },
    {
      "cell_type": "code",
      "source": [
        "class Test:\n",
        "  def __init__(self):\n",
        "    self.x=1\n",
        "t1=Test()\n",
        "t2=Test()\n",
        "t1.x=2\n",
        "print(t2.x)"
      ],
      "metadata": {
        "colab": {
          "base_uri": "https://localhost:8080/"
        },
        "id": "SXA6FIY_3EW4",
        "outputId": "e14812bf-5342-40a1-86fe-21c290f9ff4a"
      },
      "execution_count": null,
      "outputs": [
        {
          "output_type": "stream",
          "name": "stdout",
          "text": [
            "1\n"
          ]
        }
      ]
    },
    {
      "cell_type": "markdown",
      "source": [
        "**33.**\\\n",
        "class Test:\\\n",
        "def _ init _(self,x):\\\n",
        "self._x=x\\\n",
        "t=Test(10)\\\n",
        "print(t.__x)\\\n",
        "\\\n",
        "What is the output of the following Python code?"
      ],
      "metadata": {
        "id": "ALDNOJl24OcR"
      }
    },
    {
      "cell_type": "code",
      "source": [
        "class Test:\n",
        "  def __init__(self,x):\n",
        "    self.__x=x\n",
        "t=Test(10)\n",
        "print(t.__x)"
      ],
      "metadata": {
        "colab": {
          "base_uri": "https://localhost:8080/",
          "height": 176
        },
        "id": "eDZ3oc5M3yL7",
        "outputId": "da96d860-e0a3-4a08-cd6f-aa94900ab2b9"
      },
      "execution_count": null,
      "outputs": [
        {
          "output_type": "error",
          "ename": "AttributeError",
          "evalue": "'Test' object has no attribute '__x'",
          "traceback": [
            "\u001b[0;31m---------------------------------------------------------------------------\u001b[0m",
            "\u001b[0;31mAttributeError\u001b[0m                            Traceback (most recent call last)",
            "\u001b[0;32m<ipython-input-47-ad4218592c75>\u001b[0m in \u001b[0;36m<cell line: 5>\u001b[0;34m()\u001b[0m\n\u001b[1;32m      3\u001b[0m     \u001b[0mself\u001b[0m\u001b[0;34m.\u001b[0m\u001b[0m__x\u001b[0m\u001b[0;34m=\u001b[0m\u001b[0mx\u001b[0m\u001b[0;34m\u001b[0m\u001b[0;34m\u001b[0m\u001b[0m\n\u001b[1;32m      4\u001b[0m \u001b[0mt\u001b[0m\u001b[0;34m=\u001b[0m\u001b[0mTest\u001b[0m\u001b[0;34m(\u001b[0m\u001b[0;36m10\u001b[0m\u001b[0;34m)\u001b[0m\u001b[0;34m\u001b[0m\u001b[0;34m\u001b[0m\u001b[0m\n\u001b[0;32m----> 5\u001b[0;31m \u001b[0mprint\u001b[0m\u001b[0;34m(\u001b[0m\u001b[0mt\u001b[0m\u001b[0;34m.\u001b[0m\u001b[0m__x\u001b[0m\u001b[0;34m)\u001b[0m\u001b[0;34m\u001b[0m\u001b[0;34m\u001b[0m\u001b[0m\n\u001b[0m",
            "\u001b[0;31mAttributeError\u001b[0m: 'Test' object has no attribute '__x'"
          ]
        }
      ]
    },
    {
      "cell_type": "markdown",
      "source": [
        "**34.**\\\n",
        "class Parent:\\\n",
        "def func(self):\\\n",
        "print(\"This is parent function\")\\\n",
        "\\\n",
        "class Child(Parent):\\\n",
        "pass\\\n",
        "\\\n",
        "c=Child()\\\n",
        "c.func()\\\n",
        "\\\n",
        "What is the output of the following Python code?"
      ],
      "metadata": {
        "id": "A2lAOlJx5Fjn"
      }
    },
    {
      "cell_type": "code",
      "source": [
        "class Parent:\n",
        "  def func(self):\n",
        "    print(\"This is parent function\")\n",
        "\n",
        "class Child(Parent):\n",
        "  pass\n",
        "\n",
        "c=Child()\n",
        "c.func()\n"
      ],
      "metadata": {
        "colab": {
          "base_uri": "https://localhost:8080/"
        },
        "id": "7YYuO9FM5lr-",
        "outputId": "23dbdfdf-0f66-4112-ee97-17f00c0bae90"
      },
      "execution_count": null,
      "outputs": [
        {
          "output_type": "stream",
          "name": "stdout",
          "text": [
            "This is parent function\n"
          ]
        }
      ]
    },
    {
      "cell_type": "markdown",
      "source": [
        "**35.**\\\n",
        "class Parent:\\\n",
        "def func(self):\\\n",
        "print(\"This is parent function\")\\\n",
        "\\\n",
        "class Child(Parent):\\\n",
        "def func(self):\\\n",
        "super().func()\\\n",
        "print(\"This is child function\")\\\n",
        "\\\n",
        "c=Child()\\\n",
        "c.func()\\\n",
        "\\\n",
        "What is the output of the following Python code?"
      ],
      "metadata": {
        "id": "7o1RWMn_5zO3"
      }
    },
    {
      "cell_type": "code",
      "source": [
        "class Parent:\n",
        "  def func(self):\n",
        "    print(\"This is parent function\")\n",
        "\n",
        "class Child(Parent):\n",
        "  def func(self):\n",
        "    super().func()\n",
        "    print(\"This is child function\")\n",
        "\n",
        "c=Child()\n",
        "c.func()\n"
      ],
      "metadata": {
        "colab": {
          "base_uri": "https://localhost:8080/"
        },
        "id": "ct3GO6Kg5tSd",
        "outputId": "875b9c84-6397-4fb0-b160-d12827401087"
      },
      "execution_count": null,
      "outputs": [
        {
          "output_type": "stream",
          "name": "stdout",
          "text": [
            "This is parent function\n",
            "This is child function\n"
          ]
        }
      ]
    },
    {
      "cell_type": "markdown",
      "source": [
        "**36.**\\\n",
        "class Parent:\\\n",
        "def func(self):\\\n",
        "print(\"This is parent function\")\\\n",
        "\\\n",
        "class Child(Parent):\\\n",
        "def func(self):\\\n",
        "print(\"This is child function\")\\\n",
        "\\\n",
        "c=Child()\\\n",
        "c.func()\\\n",
        "\\\n",
        "What is the output of the following Python code?"
      ],
      "metadata": {
        "id": "OmZVXSaW6OeY"
      }
    },
    {
      "cell_type": "code",
      "source": [
        "class Parent:\n",
        "  def func(self):\n",
        "    print(\"This is parent function\")\n",
        "\n",
        "class Child(Parent):\n",
        "  def func(self):\n",
        "    print(\"This is child function\")\n",
        "\n",
        "c=Child()\n",
        "c.func()\n"
      ],
      "metadata": {
        "colab": {
          "base_uri": "https://localhost:8080/"
        },
        "id": "Yr8S3Pit6ILb",
        "outputId": "e908cd17-0226-49e7-d618-bf48e9472e00"
      },
      "execution_count": null,
      "outputs": [
        {
          "output_type": "stream",
          "name": "stdout",
          "text": [
            "This is child function\n"
          ]
        }
      ]
    },
    {
      "cell_type": "markdown",
      "source": [
        "**37.**\\\n",
        "What function is used to open a file in Python?\\\n",
        "\\\n",
        "open\n"
      ],
      "metadata": {
        "id": "SeBKwYxQ6iiK"
      }
    },
    {
      "cell_type": "markdown",
      "source": [
        "**38.**\\\n",
        "How do yo create a new directory in Python?\\\n",
        "\\\n",
        "os.mkdir()"
      ],
      "metadata": {
        "id": "KsLyXGHs7j5L"
      }
    },
    {
      "cell_type": "markdown",
      "source": [
        "**39.**\\\n",
        "try:\\\n",
        "x=1/0\\\n",
        "except ZeroDivisionError:\\\n",
        "x=0\\\n",
        "finally:\\\n",
        "x=1\\\n",
        "print(x)\\\n",
        "\\\n",
        "What is the output of the following Python code?"
      ],
      "metadata": {
        "id": "U0sGAVJu73rr"
      }
    },
    {
      "cell_type": "code",
      "source": [
        "try:\n",
        "  x=1/0\n",
        "except ZeroDivisionError:\n",
        "  x=0\n",
        "finally:\n",
        "  x=1\n",
        "print(x)"
      ],
      "metadata": {
        "id": "cAEejp-36Zzp",
        "colab": {
          "base_uri": "https://localhost:8080/"
        },
        "outputId": "33d1222d-e956-4028-c251-90f2a5da1b40"
      },
      "execution_count": 52,
      "outputs": [
        {
          "output_type": "stream",
          "name": "stdout",
          "text": [
            "1\n"
          ]
        }
      ]
    },
    {
      "cell_type": "markdown",
      "source": [
        "**40.**\\\n",
        "try:\\\n",
        "x=1/0\\\n",
        "except ValueError:\\\n",
        "x=0\\\n",
        "print(x)\\\n",
        "\\\n",
        "What is the output of the following Python code?"
      ],
      "metadata": {
        "id": "rZYJkHoc8WiF"
      }
    },
    {
      "cell_type": "code",
      "source": [
        "try:\n",
        "  x=1/0\n",
        "except ValueError:\n",
        "  x=0\n",
        "print(x)"
      ],
      "metadata": {
        "colab": {
          "base_uri": "https://localhost:8080/",
          "height": 211
        },
        "id": "uMlByINU8Svd",
        "outputId": "3fb1ce90-a654-47da-ac1d-bb28288052fb"
      },
      "execution_count": 53,
      "outputs": [
        {
          "output_type": "error",
          "ename": "ZeroDivisionError",
          "evalue": "division by zero",
          "traceback": [
            "\u001b[0;31m---------------------------------------------------------------------------\u001b[0m",
            "\u001b[0;31mZeroDivisionError\u001b[0m                         Traceback (most recent call last)",
            "\u001b[0;32m<ipython-input-53-7d5bddf5c9c7>\u001b[0m in \u001b[0;36m<cell line: 1>\u001b[0;34m()\u001b[0m\n\u001b[1;32m      1\u001b[0m \u001b[0;32mtry\u001b[0m\u001b[0;34m:\u001b[0m\u001b[0;34m\u001b[0m\u001b[0;34m\u001b[0m\u001b[0m\n\u001b[0;32m----> 2\u001b[0;31m   \u001b[0mx\u001b[0m\u001b[0;34m=\u001b[0m\u001b[0;36m1\u001b[0m\u001b[0;34m/\u001b[0m\u001b[0;36m0\u001b[0m\u001b[0;34m\u001b[0m\u001b[0;34m\u001b[0m\u001b[0m\n\u001b[0m\u001b[1;32m      3\u001b[0m \u001b[0;32mexcept\u001b[0m \u001b[0mValueError\u001b[0m\u001b[0;34m:\u001b[0m\u001b[0;34m\u001b[0m\u001b[0;34m\u001b[0m\u001b[0m\n\u001b[1;32m      4\u001b[0m   \u001b[0mx\u001b[0m\u001b[0;34m=\u001b[0m\u001b[0;36m0\u001b[0m\u001b[0;34m\u001b[0m\u001b[0;34m\u001b[0m\u001b[0m\n\u001b[1;32m      5\u001b[0m \u001b[0mprint\u001b[0m\u001b[0;34m(\u001b[0m\u001b[0mx\u001b[0m\u001b[0;34m)\u001b[0m\u001b[0;34m\u001b[0m\u001b[0;34m\u001b[0m\u001b[0m\n",
            "\u001b[0;31mZeroDivisionError\u001b[0m: division by zero"
          ]
        }
      ]
    },
    {
      "cell_type": "markdown",
      "source": [
        "**41.**\\\n",
        "try:\\\n",
        "x=1/0\\\n",
        "except ZeroDivisionError:\\\n",
        "x=0\\\n",
        "print(x)\\\n",
        "\\\n",
        "What is the output of the following Python code?"
      ],
      "metadata": {
        "id": "xia0z9bK8shF"
      }
    },
    {
      "cell_type": "code",
      "source": [
        "try:\n",
        "  x=1/0\n",
        "except ZeroDivisionError:\n",
        "  x=0\n",
        "print(x)"
      ],
      "metadata": {
        "colab": {
          "base_uri": "https://localhost:8080/"
        },
        "id": "7eL-vyME8i3_",
        "outputId": "ab9b9fdd-628c-4b51-8e7d-433ee76c18d7"
      },
      "execution_count": 54,
      "outputs": [
        {
          "output_type": "stream",
          "name": "stdout",
          "text": [
            "0\n"
          ]
        }
      ]
    },
    {
      "cell_type": "markdown",
      "source": [
        "**42.**\\\n",
        "What keyword is used to raise exceptions in Python?\\\n",
        "\\\n",
        "try"
      ],
      "metadata": {
        "id": "DWudlbhE82_B"
      }
    },
    {
      "cell_type": "markdown",
      "source": [
        "**43.**\\\n",
        "What keyword is used to handle exceptions in Python?\\\n",
        "\\\n",
        "except"
      ],
      "metadata": {
        "id": "SQMlQUVW9PB9"
      }
    },
    {
      "cell_type": "markdown",
      "source": [
        "**44.**\\\n",
        "What mode is used to open a file for reading in Python?\\\n",
        "\\\n",
        "r"
      ],
      "metadata": {
        "id": "rKwdYlzi9WgF"
      }
    },
    {
      "cell_type": "markdown",
      "source": [
        "**45.**\\\n",
        "x=\"Hello\"\\\n",
        "print(x[1:4])\\\n",
        "\\\n",
        "What is the output of the following Python code?"
      ],
      "metadata": {
        "id": "u57qpXQY9gc3"
      }
    },
    {
      "cell_type": "code",
      "source": [
        "x=\"Hello\"\n",
        "print(x[1:4])\n"
      ],
      "metadata": {
        "colab": {
          "base_uri": "https://localhost:8080/"
        },
        "id": "AwwYeoXN80uD",
        "outputId": "19a7574e-cc1f-4d0b-de55-22822251ae23"
      },
      "execution_count": 55,
      "outputs": [
        {
          "output_type": "stream",
          "name": "stdout",
          "text": [
            "ell\n"
          ]
        }
      ]
    },
    {
      "cell_type": "code",
      "source": [],
      "metadata": {
        "id": "gl7gGoNo9xwN"
      },
      "execution_count": null,
      "outputs": []
    }
  ]
}