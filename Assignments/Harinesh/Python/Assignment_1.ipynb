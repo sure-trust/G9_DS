{
  "nbformat": 4,
  "nbformat_minor": 0,
  "metadata": {
    "colab": {
      "provenance": []
    },
    "kernelspec": {
      "name": "python3",
      "display_name": "Python 3"
    },
    "language_info": {
      "name": "python"
    }
  },
  "cells": [
    {
      "cell_type": "markdown",
      "source": [
        "Interactive Fiction Game"
      ],
      "metadata": {
        "id": "Y5KHIuTkPAHL"
      }
    },
    {
      "cell_type": "code",
      "execution_count": null,
      "metadata": {
        "id": "s-cmcvigoB5-",
        "colab": {
          "base_uri": "https://localhost:8080/"
        },
        "outputId": "a3610e94-5510-4161-e05f-8e72ec75196c"
      },
      "outputs": [
        {
          "output_type": "stream",
          "name": "stdout",
          "text": [
            "_ _ _ _ _ _\n",
            "Guess a letter: n\n",
            "Incorrect guess!\n",
            "_ _ _ _ _ _\n",
            "Guess a letter: a\n",
            "Incorrect guess!\n",
            "_ _ _ _ _ _\n",
            "Guess a letter: r\n",
            "_ _ _ r r _\n",
            "Guess a letter: y\n",
            "_ _ _ r r y\n",
            "Guess a letter: c\n",
            "c _ _ r r y\n",
            "Guess a letter: h\n",
            "Sorry, you did not guess the word: cherry\n"
          ]
        }
      ],
      "source": [
        "import random\n",
        "def rword():\n",
        "    words = ['apple', 'banana', 'cherry', 'dates', 'elderberry', 'fig', 'grapefruit']\n",
        "    return random.choice(words)\n",
        "def hangman():\n",
        "    word =rword()\n",
        "    guessed_word = ['_'] * len(word)\n",
        "    tries = 0\n",
        "    while True:\n",
        "        print(' '.join(guessed_word))\n",
        "        letter = input('Guess a letter: ')\n",
        "        if letter in word:\n",
        "            for i in range(len(word)):\n",
        "                if word[i]==letter:\n",
        "                    guessed_word[i]=letter\n",
        "        else:\n",
        "            print('Incorrect guess!')\n",
        "        if '_' not in guessed_word:\n",
        "            print(f'Congratulations! You guessed the word: {word}')\n",
        "            break\n",
        "        tries+=1\n",
        "        if tries>=6:\n",
        "            print(f'Sorry, you did not guess the word: {word}')\n",
        "            break\n",
        "hangman()"
      ]
    },
    {
      "cell_type": "markdown",
      "source": [
        "Grocery Budget Tracker"
      ],
      "metadata": {
        "id": "tfMfD_uFPKbG"
      }
    },
    {
      "cell_type": "code",
      "source": [
        "budget=float(input(\"Enter your grocery budget for the month: \"))\n",
        "expenses=0\n",
        "while True:\n",
        "    item=input(\"Enter the name of the grocery item (or type 'done' to finish): \")\n",
        "    if item=='done':\n",
        "        break\n",
        "    price=float(input(\"Enter the price of the item: \"))\n",
        "    expenses+=price\n",
        "    if expenses>budget:\n",
        "        print(\"You have exceeded your budget!\")\n",
        "        break\n",
        "remaining_budget=budget-expenses\n",
        "print(f\"Total expenses for the month:{expenses}\")\n",
        "print(f\"Remaining budget:{remaining_budget}\")"
      ],
      "metadata": {
        "colab": {
          "base_uri": "https://localhost:8080/"
        },
        "id": "grQ0IH9d-IL_",
        "outputId": "73cdc019-f23c-4724-cbf8-6b35d4060a8e"
      },
      "execution_count": null,
      "outputs": [
        {
          "output_type": "stream",
          "name": "stdout",
          "text": [
            "Enter your grocery budget for the month: 5000\n",
            "Enter the name of the grocery item (or type 'done' to finish): pen\n",
            "Enter the price of the item: 50\n",
            "Enter the name of the grocery item (or type 'done' to finish): dress\n",
            "Enter the price of the item: 1500\n",
            "Enter the name of the grocery item (or type 'done' to finish): grocery items\n",
            "Enter the price of the item: 550\n",
            "Enter the name of the grocery item (or type 'done' to finish): snacks\n",
            "Enter the price of the item: 400\n",
            "Enter the name of the grocery item (or type 'done' to finish): done\n",
            "Total expenses for the month:2500.0\n",
            "Remaining budget:2500.0\n"
          ]
        }
      ]
    },
    {
      "cell_type": "markdown",
      "source": [
        "Password Strength Checker"
      ],
      "metadata": {
        "id": "lRA36gUTPQwc"
      }
    },
    {
      "cell_type": "code",
      "source": [
        "def check_password(password):\n",
        "    if len(password)<8:\n",
        "        return \"Weak password. Password should be at least 8 characters long.\"\n",
        "    elif len(password)<12:\n",
        "        return \"Moderate password. Consider adding special characters and numbers.\"\n",
        "    else:\n",
        "        return \"Strong password. Good job!\"\n",
        "password=input(\"Enter your password:\")\n",
        "strength=check_password(password)\n",
        "print(strength)"
      ],
      "metadata": {
        "colab": {
          "base_uri": "https://localhost:8080/"
        },
        "id": "ghORSDuO-zJw",
        "outputId": "19453c50-fd39-4a2f-aaa5-7129f46d6250"
      },
      "execution_count": null,
      "outputs": [
        {
          "output_type": "stream",
          "name": "stdout",
          "text": [
            "Enter your password: helloworld\n",
            "Moderate password. Consider adding special characters and numbers.\n"
          ]
        }
      ]
    },
    {
      "cell_type": "markdown",
      "source": [
        "Personal Budgeting App"
      ],
      "metadata": {
        "id": "mlzqjNqnPWuS"
      }
    },
    {
      "cell_type": "code",
      "source": [
        "total_income=float(input(\"Enter your total income:\"))\n",
        "total_expenses=0\n",
        "while True:\n",
        "    expense=float(input(\"Enter your expense amount (or type '1' to finish): \"))\n",
        "    if expense==0:\n",
        "        print(\"Expense amount cannot be zero. Please enter a valid amount.\")\n",
        "    elif expense<0:\n",
        "        print(\"Expense amount cannot be negative. Please enter a valid amount.\")\n",
        "    elif expense==1:\n",
        "        break\n",
        "    total_expenses+=expense\n",
        "savings=total_income-total_expenses\n",
        "print(f\"Total income:{total_income}\")\n",
        "print(f\"Total expenses:{total_expenses}\")\n",
        "print(f\"Savings:{savings}\")"
      ],
      "metadata": {
        "colab": {
          "base_uri": "https://localhost:8080/"
        },
        "id": "A0CKFuwX_GWy",
        "outputId": "3939bc27-6334-459d-f348-f82d723cd448"
      },
      "execution_count": null,
      "outputs": [
        {
          "output_type": "stream",
          "name": "stdout",
          "text": [
            "Enter your total income: 50000\n",
            "Enter your expense amount (or type '1' to finish): 6000\n",
            "Enter your expense amount (or type '1' to finish): 5000\n",
            "Enter your expense amount (or type '1' to finish): 11000\n",
            "Enter your expense amount (or type '1' to finish): 8000\n",
            "Enter your expense amount (or type '1' to finish): 10000\n",
            "Enter your expense amount (or type '1' to finish): 1\n",
            "Total income:50000.0\n",
            "Total expenses:40000.0\n",
            "Savings:10000.0\n"
          ]
        }
      ]
    },
    {
      "cell_type": "markdown",
      "source": [
        "Interactive Quiz with Feedback"
      ],
      "metadata": {
        "id": "bYVs4qjaPdBn"
      }
    },
    {
      "cell_type": "code",
      "source": [
        "questions = {\n",
        "    \"What is the capital of India?\":\"Delhi\",\n",
        "    \"Who is the prime Pinister of India?\":\"Narendra Modi\",\n",
        "    \"What is the powerhouse of the cell?\":\"Mitochondria\",\n",
        "    \"How many teams are there in IPL\":\"10\",\n",
        "    \"Who is captain of Indian cricket team\":\"Rohit Sharma\"\n",
        "}\n",
        "score=0\n",
        "for question,answer in questions.items():\n",
        "    user_answer=input(question)\n",
        "    if user_answer.lower()==answer.lower():\n",
        "        print(\"Correct!\")\n",
        "        score+=1\n",
        "    else:\n",
        "        print(f\"Wrong! The correct answer is {answer}\")\n",
        "print(f\"Your final score is:{score}/{len(questions)}\")"
      ],
      "metadata": {
        "colab": {
          "base_uri": "https://localhost:8080/"
        },
        "id": "z9bI1OULAtcj",
        "outputId": "909a07cf-14a9-4227-b8a8-342e39b1f891"
      },
      "execution_count": null,
      "outputs": [
        {
          "output_type": "stream",
          "name": "stdout",
          "text": [
            "What is the capital of India?delhi\n",
            "Correct!\n",
            "Who is the prime Pinister of India?narendra modi\n",
            "Correct!\n",
            "What is the powerhouse of the cell?mitochondria\n",
            "Correct!\n",
            "How many teams are there in IPL10\n",
            "Correct!\n",
            "Who is captain of Indian cricket teamrohit sharma\n",
            "Correct!\n",
            "Your final score is:5/5\n"
          ]
        }
      ]
    },
    {
      "cell_type": "markdown",
      "source": [
        "Simple Currency Converter"
      ],
      "metadata": {
        "id": "7Giq9vYOPhTf"
      }
    },
    {
      "cell_type": "code",
      "source": [
        "conversion_rates ={\n",
        "    'USD':1.0,\n",
        "    'EUR':0.85,\n",
        "    'GBP':0.73,\n",
        "    'JPY':111.07\n",
        "}\n",
        "amount=float(input(\"Enter amount to convert:\"))\n",
        "from_currency=input(\"Enter original currency (USD, EUR, GBP, JPY):\")\n",
        "to_currency=input(\"Enter target currency (USD, EUR, GBP, JPY):\")\n",
        "converted_amount=amount*(conversion_rates[to_currency]/conversion_rates[from_currency])\n",
        "print(f\"{amount} {from_currency} is equal to {converted_amount} {to_currency}\")"
      ],
      "metadata": {
        "id": "87Rqq9_2C8iS",
        "colab": {
          "base_uri": "https://localhost:8080/"
        },
        "outputId": "8f66e2ed-95b5-4994-f7a4-da02f04954b8"
      },
      "execution_count": 2,
      "outputs": [
        {
          "output_type": "stream",
          "name": "stdout",
          "text": [
            "Enter amount to convert:5000\n",
            "Enter original currency (USD, EUR, GBP, JPY):USD\n",
            "Enter target currency (USD, EUR, GBP, JPY):JPY\n",
            "5000.0 USD is equal to 555350.0 JPY\n"
          ]
        }
      ]
    }
  ]
}