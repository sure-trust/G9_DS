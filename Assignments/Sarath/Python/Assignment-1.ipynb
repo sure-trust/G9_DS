{
  "cells": [
    {
      "cell_type": "code",
      "execution_count": null,
      "metadata": {
        "colab": {
          "base_uri": "https://localhost:8080/"
        },
        "id": "5aRmFSo2DoCu",
        "outputId": "11e25bbd-8ba2-4a3a-c088-fbcb5659ceac"
      },
      "outputs": [
        {
          "name": "stdout",
          "output_type": "stream",
          "text": [
            "There are three braces in a word and for every braces consists of 3 chances to answer\n",
            "The word is: s_r_t_\n",
            "1==> first brace\n",
            "2==>second brace\n",
            "3==>third brace\n",
            "enter the brace number to answer:1\n",
            "enter the letter:a\n",
            "you entered correct letter\n",
            "enter the brace number to answer:2\n",
            "enter the letter:a\n",
            "you entered correct letter\n",
            "enter the brace number to answer:3\n",
            "enter the letter:h\n",
            "you entered correct letter\n",
            "the word is: sarath\n"
          ]
        }
      ],
      "source": [
        "#Question-01\n",
        "hangman=\"s_r_t_\"\n",
        "hangman1=\"sarath\"\n",
        "y=\"c\"\n",
        "print(\"There are three braces in a word and for every braces consists of 3 chances to answer\")\n",
        "print(\"The word is:\",hangman)\n",
        "print(\"1==> first brace\\n2==>second brace\\n3==>third brace\")\n",
        "for i in range(3):\n",
        "    n=int(input(\"enter the brace number to answer:\"))\n",
        "    match n:\n",
        "        case 1:\n",
        "            for i in range(3):\n",
        "                brace=input(\"enter the letter:\")\n",
        "                if brace==\"a\":\n",
        "                    print(\"you entered correct letter\")\n",
        "                    break\n",
        "                elif i!=2:\n",
        "                    print(\"you entered a wrong letter\")\n",
        "                else:\n",
        "                    print(\"your limit is over\")\n",
        "\n",
        "        case 2:\n",
        "            for i in range(3):\n",
        "                brace=input(\"enter the letter:\")\n",
        "                if brace==\"a\":\n",
        "                    print(\"you entered correct letter\")\n",
        "                    break\n",
        "                elif i!=2:\n",
        "                    print(\"you entered a wrong letter\")\n",
        "                else:\n",
        "                    print(\"your limit is over\")\n",
        "        case 3:\n",
        "            for i in range(3):\n",
        "                brace=input(\"enter the letter:\")\n",
        "                if brace==\"h\":\n",
        "                    print(\"you entered correct letter\")\n",
        "                    break\n",
        "                elif i!=2:\n",
        "                    print(\"you entered a wrong letter\")\n",
        "                else:\n",
        "                    print(\"your limit is over\")\n",
        "print(\"the word is:\",hangman1)\n",
        "\n",
        "\n",
        "\n",
        "\n",
        "\n",
        "\n"
      ]
    },
    {
      "cell_type": "code",
      "execution_count": null,
      "metadata": {
        "colab": {
          "base_uri": "https://localhost:8080/"
        },
        "id": "s3Ih0lC8EoxP",
        "outputId": "91e9c9e6-e98d-41c0-a8c5-3cfb30dd5744"
      },
      "outputs": [
        {
          "name": "stdout",
          "output_type": "stream",
          "text": [
            "enter your budget for your groceries:300\n",
            "enter your grocery name:tomato\n",
            "enter your grocery_amount:50\n",
            "enter your grocery name:oil\n",
            "enter your grocery_amount:150\n",
            "enter your grocery name:carrot\n",
            "enter your grocery_amount:50\n",
            "enter your grocery name:onions\n",
            "enter your grocery_amount:100\n",
            "you are crossing the budget limit\n",
            "spending amount: 250\n",
            "remaining_amount: 50\n",
            "groceries: {'tomato': 50, 'oil': 150, 'carrot': 50}\n"
          ]
        }
      ],
      "source": [
        "#Question-02\n",
        "budget=int(input(\"enter your budget for your groceries:\"))\n",
        "groceries={}\n",
        "sum=0\n",
        "sum1=0\n",
        "remaining_amount=0\n",
        "while(True):\n",
        "    if(sum<budget):\n",
        "        grocery_name=input(\"enter your grocery name:\")\n",
        "        grocery_amount=int(input(\"enter your grocery_amount:\"))\n",
        "        sum=sum+grocery_amount\n",
        "        groceries[grocery_name]=grocery_amount\n",
        "    else:\n",
        "        print(\"you are crossing the budget limit\")\n",
        "        sum1=sum-grocery_amount\n",
        "        remaining_amount=budget-sum1\n",
        "        del groceries[grocery_name]\n",
        "        break\n",
        "print(\"spending amount:\",sum1)\n",
        "print(\"remaining_amount:\",remaining_amount)\n",
        "print(\"groceries:\",groceries)\n"
      ]
    },
    {
      "cell_type": "code",
      "execution_count": null,
      "metadata": {
        "colab": {
          "base_uri": "https://localhost:8080/"
        },
        "id": "3S4TQ_ARE0pY",
        "outputId": "f598b3c8-3a85-4b81-928b-aedba28d59d0"
      },
      "outputs": [
        {
          "name": "stdout",
          "output_type": "stream",
          "text": [
            "enter the password:Bsa5349@!\n",
            "your password strenghth is 70%\n"
          ]
        }
      ],
      "source": [
        "#Question-03\n",
        "sc=\"!@#$%^&*()_-+=:<>'?;.,/|\\\"\"\n",
        "cl=\"ABCDEFGHIJKLMNOPQRSTUVWXYZ\"\n",
        "sl=\"abcdefghijklmnopqrstuvwxyz\"\n",
        "countsc=0\n",
        "countcq=0\n",
        "countsq=0\n",
        "password=input(\"enter the password:\")\n",
        "for i in range(len(password)):\n",
        "    for j in range(len(cl)):\n",
        "        if(password[i]==cl[j]):\n",
        "            countcq+=1\n",
        "        elif(password[i]==sl[j]):\n",
        "             countsq+=1\n",
        "    for k in range(len(sc)):\n",
        "        if(password[i]==sc[k]):\n",
        "            countsc+=1\n",
        "numbers=len(password)-(countsc+countcq+countsq)\n",
        "if(countsc>=3 and countcq>=2 and numbers>1):\n",
        "    print(\"your password strenghth is 90%\")\n",
        "elif(countsc>=2 and countcq>=2 and numbers>1):\n",
        "    print(\"your password strenghth is 80%\")\n",
        "elif(countsc>=1 and countcq>=1 and numbers>3):\n",
        "    print(\"your password strenghth is 70%\")\n",
        "elif(countsc>1 and countcq>=2 and numbers>4):\n",
        "    print(\"your password strenghth is 60%\")\n",
        "elif(countsc==0 and countcq>=1 and numbers>1):\n",
        "    print(\"your password strenghth is 50%\")\n",
        "else:\n",
        "    print(\"your password strength is low and try to add special characters and numbers\")\n"
      ]
    },
    {
      "cell_type": "code",
      "execution_count": null,
      "metadata": {
        "colab": {
          "base_uri": "https://localhost:8080/"
        },
        "id": "R2LiTqPyFgo8",
        "outputId": "cd7490e4-a248-4938-b67f-4d645d160342"
      },
      "outputs": [
        {
          "name": "stdout",
          "output_type": "stream",
          "text": [
            "enter your total income:10000\n",
            "enter your expensive name:market\n",
            "enter the amount you spend for this expensive:1000\n",
            "expensies are incomplete to note (1=yes or 0=no):1\n",
            "enter your expensive name:medical\n",
            "enter the amount you spend for this expensive:1000\n",
            "expensies are incomplete to note (1=yes or 0=no):1\n",
            "enter your expensive name:movies\n",
            "enter the amount you spend for this expensive:500\n",
            "expensies are incomplete to note (1=yes or 0=no):1\n",
            "enter your expensive name:petrol\n",
            "enter the amount you spend for this expensive:500\n",
            "expensies are incomplete to note (1=yes or 0=no):0\n",
            "enter your habit name:pub\n",
            "enter the amount you spend for this habit:1000\n",
            "expensies are incomplete to note (1=yes or 0=no):1\n",
            "enter your habit name:unwanted trips\n",
            "enter the amount you spend for this habit:1000\n",
            "expensies are incomplete to note (1=yes or 0=no):0\n",
            "Total income: 10000\n",
            "Normal expenses: 3000\n",
            "spending habits expenses: 2000\n",
            "total_savings: 5000\n",
            "FEEDBACK\n",
            "you have a good finance skill and you definitely reach your success\n",
            "\n"
          ]
        }
      ],
      "source": [
        "#Question-04\n",
        "expenses={}\n",
        "spending_habits={}\n",
        "n=m=1\n",
        "income=int(input(\"enter your total income:\"))\n",
        "sum_expenses=0\n",
        "sum_spending_habits=0\n",
        "while(n):\n",
        "    i=input(\"enter your expensive name:\")\n",
        "    j=int(input(\"enter the amount you spend for this expensive:\"))\n",
        "    expenses[i]=j\n",
        "    n=int(input(\"expensies are incomplete to note (1=yes or 0=no):\"))\n",
        "while(m):\n",
        "    l=input(\"enter your habit name:\")\n",
        "    m=int(input(\"enter the amount you spend for this habit:\"))\n",
        "    spending_habits[l]=m\n",
        "    m=int(input(\"expensies are incomplete to note (1=yes or 0=no):\"))\n",
        "\n",
        "for q in expenses:\n",
        "    sum_expenses=expenses[q]+sum_expenses\n",
        "for w in spending_habits:\n",
        "    sum_spending_habits=spending_habits[w]+sum_spending_habits\n",
        "total_savings=income-(sum_spending_habits+sum_expenses)\n",
        "print(\"Total income:\",income)\n",
        "print(\"Normal expenses:\",sum_expenses)\n",
        "print(\"spending habits expenses:\",sum_spending_habits)\n",
        "print(\"total_savings:\",total_savings)\n",
        "\n",
        "if sum_spending_habits>(income/2):\n",
        "    print(\"FEEDBACK:\\nit is better to decrease your spending habits\\n\")\n",
        "elif total_savings>(income/3):\n",
        "    print(\"FEEDBACK\\nyou have a good finance skill and you definitely reach your success\\n\")\n",
        "elif total_savings<(income/3):\n",
        "    print(\"FEEDBACK\\nyou must learn the finance skill\\n\")\n",
        "\n"
      ]
    },
    {
      "cell_type": "code",
      "execution_count": null,
      "metadata": {
        "colab": {
          "base_uri": "https://localhost:8080/"
        },
        "id": "-f6HyUaWGfcr",
        "outputId": "ac42f69a-8fbc-410c-cd05-e74340bb9d73"
      },
      "outputs": [
        {
          "name": "stdout",
          "output_type": "stream",
          "text": [
            "1.what is the capital of india?\n",
            "\n",
            "delhi\n",
            "2.who is the prime minister of india?\n",
            "\n",
            "modhi\n",
            "3.who is the cm of andhra pradesh?\n",
            "\n",
            "ys jagan\n",
            "4.who is the richest person in india?\n",
            "\n",
            "ambani\n",
            "5.who is the father of our nation\n",
            "\n",
            "gandhi\n",
            "you are excellent at general knowledge\n",
            " score=5/5\n"
          ]
        }
      ],
      "source": [
        "correct_answers=[\"delhi\",\"modhi\",\"ys jagan\",\"ambani\",\"gandhi\"]\n",
        "answers=[]\n",
        "count=0\n",
        "print(\"1.what is the capital of india?\\n\")\n",
        "A1=input()\n",
        "answers.append(A1)\n",
        "print(\"2.who is the prime minister of india?\\n\")\n",
        "A2=input()\n",
        "answers.append(A2)\n",
        "print(\"3.who is the cm of andhra pradesh?\\n\")\n",
        "A3=input()\n",
        "answers.append(A3)\n",
        "print(\"4.who is the richest person in india?\\n\")\n",
        "A4=input()\n",
        "answers.append(A4)\n",
        "print(\"5.who is the father of our nation\\n\")\n",
        "A5=input()\n",
        "answers.append(A5)\n",
        "\n",
        "for i in correct_answers:\n",
        "    for j in answers:\n",
        "        if(i==j):\n",
        "            count=count+1\n",
        "if count>3:\n",
        "    print(f\"you are excellent at general knowledge\\n score={count}/5\")\n",
        "elif count>2:\n",
        "    print(f\"you are good at general knowledge\\n score={count}/5\")\n",
        "elif count<=1:\n",
        "    print(f\"\\n you must improve your general knowledge\\n your score={count}/5\")\n",
        "\n",
        "\n",
        "\n"
      ]
    },
    {
      "cell_type": "code",
      "execution_count": null,
      "metadata": {
        "colab": {
          "background_save": true,
          "base_uri": "https://localhost:8080/"
        },
        "id": "UvvrlcBhLAV_",
        "outputId": "39226127-c0ae-4c4d-eb76-6aa3cb2012cf"
      },
      "outputs": [
        {
          "name": "stdout",
          "output_type": "stream",
          "text": [
            "1.america\n",
            "2.africa\n",
            "3.saudhi_arabia\n",
            "4.europe\n",
            "5.australia\n",
            "6.australia\n",
            "your spending amount in america is: 165900.0\n"
          ]
        }
      ],
      "source": [
        "# simple currency translator\n",
        "america=82.95\n",
        "africa=4.37\n",
        "britain=104.61\n",
        "saudhi_arabia=22.12\n",
        "europe=89.63\n",
        "australia=54.41\n",
        "print(\"1.america\\n2.africa\\n3.saudhi_arabia\\n4.europe\\n5.australia\\n6.australia\")\n",
        "amount=int(input(\"enter the spending amount:\"))\n",
        "country=int(input(\"select the country by choosing number:\"))\n",
        "match country:\n",
        "    case 1:\n",
        "        america1=america*amount\n",
        "        print(\"your spending amount in america is:\",america1)\n",
        "    case 2:\n",
        "        africa1=africa*amount\n",
        "        print(\"your spending amount in africa is:\",africa1)\n",
        "    case 3:\n",
        "        britain1=britain*amount\n",
        "        print(\"your spending amount in britain is:\",britain1)\n",
        "    case 4:\n",
        "        saudhi_arabia1=saudhi_arabia*amount\n",
        "        print(\"you spending amount in saudhi arabia is:\",saudhi_arabia1)\n",
        "    case 5:\n",
        "        europe1=europe*amount\n",
        "        print(\"your spending amount in europe is:\",europe1)\n",
        "    case 6:\n",
        "        australia1=australia*amount\n",
        "        print(\"your spending amount in australia is:\",australia1)\n"
      ]
    },
    {
      "cell_type": "code",
      "execution_count": 1,
      "metadata": {
        "id": "WGSUgH8HPHSG",
        "colab": {
          "base_uri": "https://localhost:8080/"
        },
        "outputId": "18450131-a26d-4f8c-fffc-ebac90588809"
      },
      "outputs": [
        {
          "output_type": "stream",
          "name": "stdout",
          "text": [
            "[29, 23, 17]\n",
            "[80, 65, 50]\n",
            "[114, 93, 72]\n"
          ]
        }
      ],
      "source": [
        "a=[[1,2,3],[4,5,6],[6,7,8]]\n",
        "b=[[8,7,6],[6,5,4],[3,2,1]]\n",
        "result=[[0,0,0],[0,0,0],[0,0,0]]\n",
        "if(len(a)==len(b)):\n",
        "    for i in range(len(a)):\n",
        "        if((len(a[i])==len(b[i]))):\n",
        "            pass\n",
        "        else:\n",
        "            print(\"we cannot perform multiplication for above data\")\n",
        "else:\n",
        "    print(\"we cannot perform multiplication for above data\")\n",
        "for k in range(len(a)):\n",
        "    for l in range(len(b[0])):\n",
        "        for m in range((len(b))):\n",
        "            result[k][l]+=a[k][m]*b[m][l]\n",
        "for r in result:\n",
        "    print(r)\n"
      ]
    },
    {
      "cell_type": "code",
      "source": [],
      "metadata": {
        "id": "OYw5sqY4gypD"
      },
      "execution_count": null,
      "outputs": []
    }
  ],
  "metadata": {
    "colab": {
      "provenance": []
    },
    "kernelspec": {
      "display_name": "Python 3",
      "name": "python3"
    },
    "language_info": {
      "name": "python"
    }
  },
  "nbformat": 4,
  "nbformat_minor": 0
}