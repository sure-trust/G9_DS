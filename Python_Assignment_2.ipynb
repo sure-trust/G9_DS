{
  "nbformat": 4,
  "nbformat_minor": 0,
  "metadata": {
    "colab": {
      "provenance": [],
      "authorship_tag": "ABX9TyNGpGZG4IB6748CpruQlPh/",
      "include_colab_link": true
    },
    "kernelspec": {
      "name": "python3",
      "display_name": "Python 3"
    },
    "language_info": {
      "name": "python"
    }
  },
  "cells": [
    {
      "cell_type": "markdown",
      "metadata": {
        "id": "view-in-github",
        "colab_type": "text"
      },
      "source": [
        "<a href=\"https://colab.research.google.com/github/Praveen767599/G9_DS/blob/patch-3/Python_Assignment_2.ipynb\" target=\"_parent\"><img src=\"https://colab.research.google.com/assets/colab-badge.svg\" alt=\"Open In Colab\"/></a>"
      ]
    },
    {
      "cell_type": "markdown",
      "source": [
        "PYTHON ASSIGNMENT-2 (FINAL QUIZ)\n",
        "\n",
        "NAME : CHINNA PRAVEEN\n",
        "\n",
        "GROUP : G9 DS\n",
        "\n",
        "TOTAL QUESTIONS: 45\n",
        "\n",
        "INSTRUCTOR NAME: BHARGAVESH DAKKA"
      ],
      "metadata": {
        "id": "xlaqr2-hPsY7"
      }
    },
    {
      "cell_type": "markdown",
      "source": [
        "1. What is the output ?"
      ],
      "metadata": {
        "id": "rao1cLW2P5Xm"
      }
    },
    {
      "cell_type": "code",
      "source": [
        "x = \"Hello\"\n",
        "y = \"World\"\n",
        "z = x + y\n",
        "print(z)"
      ],
      "metadata": {
        "colab": {
          "base_uri": "https://localhost:8080/"
        },
        "id": "N6eUTKi9QERu",
        "outputId": "2a03958a-e4f8-4b9c-a545-e1b642733ea0"
      },
      "execution_count": null,
      "outputs": [
        {
          "output_type": "stream",
          "name": "stdout",
          "text": [
            "HelloWorld\n"
          ]
        }
      ]
    },
    {
      "cell_type": "markdown",
      "source": [
        "2. Which of the following will throw an error?"
      ],
      "metadata": {
        "id": "25myCotFQryP"
      }
    },
    {
      "cell_type": "markdown",
      "source": [
        "a) x=y=z= \"Orange\"\n",
        "\n",
        "b) x,y,z = \"Orange\"\n",
        "\n",
        "c) x,y,z= \"Orange\", \"Banana\", \"Cherry\"\n",
        "\n",
        "d) None of the above"
      ],
      "metadata": {
        "id": "u8Rob3ZJSxKJ"
      }
    },
    {
      "cell_type": "markdown",
      "source": [
        "\n",
        "Ans: b) x,y,z = \"Orange\"\n",
        "\n",
        "Because of ValueError."
      ],
      "metadata": {
        "id": "6vR1hGePTMYa"
      }
    },
    {
      "cell_type": "markdown",
      "source": [
        "3. What is the output of the following Python code?"
      ],
      "metadata": {
        "id": "w01vkxf4TfNM"
      }
    },
    {
      "cell_type": "code",
      "source": [
        "x= True\n",
        "y = False\n",
        "z = False\n",
        "\n",
        "if not x or y:\n",
        " print(1)\n",
        "\n",
        "elif not x or not y and z:\n",
        " print(2)\n",
        "\n",
        "elif not x or y or not y and x:\n",
        " print(3)\n",
        "\n",
        "else:\n",
        " print(4)"
      ],
      "metadata": {
        "colab": {
          "base_uri": "https://localhost:8080/"
        },
        "id": "mNcwJmzuVI0H",
        "outputId": "f086298e-7ef7-437c-89e6-9243a32db603"
      },
      "execution_count": null,
      "outputs": [
        {
          "output_type": "stream",
          "name": "stdout",
          "text": [
            "3\n"
          ]
        }
      ]
    },
    {
      "cell_type": "markdown",
      "source": [
        "4. What is the output of the following Python code?"
      ],
      "metadata": {
        "id": "2ElNYqS3V2D8"
      }
    },
    {
      "cell_type": "code",
      "source": [
        "x = [1, 2, 3]\n",
        "y = x\n",
        "y.append(4)\n",
        "print(x)"
      ],
      "metadata": {
        "colab": {
          "base_uri": "https://localhost:8080/"
        },
        "id": "QQd0yFlEV9Wf",
        "outputId": "0f382f4f-cccf-4c59-f238-f3b5761643a8"
      },
      "execution_count": null,
      "outputs": [
        {
          "output_type": "stream",
          "name": "stdout",
          "text": [
            "[1, 2, 3, 4]\n"
          ]
        }
      ]
    },
    {
      "cell_type": "markdown",
      "source": [
        "5. What is the output of the following Python code?"
      ],
      "metadata": {
        "id": "TPlGJ54fWOV3"
      }
    },
    {
      "cell_type": "code",
      "source": [
        "x = (1, 2, 3)\n",
        "print(type(x))"
      ],
      "metadata": {
        "colab": {
          "base_uri": "https://localhost:8080/"
        },
        "id": "7_5X8eMgWVxb",
        "outputId": "95a1dcb5-d512-419d-fba7-fd949e609956"
      },
      "execution_count": null,
      "outputs": [
        {
          "output_type": "stream",
          "name": "stdout",
          "text": [
            "<class 'tuple'>\n"
          ]
        }
      ]
    },
    {
      "cell_type": "markdown",
      "source": [
        "6. What is the output of the following Python code?"
      ],
      "metadata": {
        "id": "rbQMK0EDWdI2"
      }
    },
    {
      "cell_type": "code",
      "source": [
        "x = {1: \"one\", 2: \"two\"}\n",
        "print(x[1])"
      ],
      "metadata": {
        "colab": {
          "base_uri": "https://localhost:8080/"
        },
        "id": "Ybgok-ABWmPK",
        "outputId": "aa8665a5-e504-4d36-f2a2-fe54654e5a33"
      },
      "execution_count": null,
      "outputs": [
        {
          "output_type": "stream",
          "name": "stdout",
          "text": [
            "one\n"
          ]
        }
      ]
    },
    {
      "cell_type": "markdown",
      "source": [
        "7. What is the output of the following Python code?"
      ],
      "metadata": {
        "id": "cGFbEOQQWtNV"
      }
    },
    {
      "cell_type": "code",
      "source": [
        "x = True + False\n",
        "print(x)"
      ],
      "metadata": {
        "colab": {
          "base_uri": "https://localhost:8080/"
        },
        "id": "dusfTWjSWzDa",
        "outputId": "d89d0251-4808-4e77-f130-739d7fd6aa06"
      },
      "execution_count": null,
      "outputs": [
        {
          "output_type": "stream",
          "name": "stdout",
          "text": [
            "1\n"
          ]
        }
      ]
    },
    {
      "cell_type": "markdown",
      "source": [
        "8. What is the output of the following Python code?"
      ],
      "metadata": {
        "id": "ABblO-M6XC5R"
      }
    },
    {
      "cell_type": "code",
      "source": [
        "x = \"123\"\n",
        "print(int(x) + 1)"
      ],
      "metadata": {
        "colab": {
          "base_uri": "https://localhost:8080/"
        },
        "id": "hVEv5zvjXEte",
        "outputId": "4897ee9c-533c-471d-ac84-f9287bc0da19"
      },
      "execution_count": null,
      "outputs": [
        {
          "output_type": "stream",
          "name": "stdout",
          "text": [
            "124\n"
          ]
        }
      ]
    },
    {
      "cell_type": "markdown",
      "source": [
        "9. What is the output of the following Python code?"
      ],
      "metadata": {
        "id": "9PaC1-6yXLp2"
      }
    },
    {
      "cell_type": "code",
      "source": [
        "x = \"Hello\"\n",
        "print(list(x))"
      ],
      "metadata": {
        "colab": {
          "base_uri": "https://localhost:8080/"
        },
        "id": "o-IlgyhGXUgT",
        "outputId": "cb90284f-dccb-439b-b52a-48064d60f1a9"
      },
      "execution_count": null,
      "outputs": [
        {
          "output_type": "stream",
          "name": "stdout",
          "text": [
            "['H', 'e', 'l', 'l', 'o']\n"
          ]
        }
      ]
    },
    {
      "cell_type": "markdown",
      "source": [
        "10. What is the output of the following Python code?"
      ],
      "metadata": {
        "id": "NcQgsEdyXb2s"
      }
    },
    {
      "cell_type": "code",
      "source": [
        "x = 123\n",
        "print(bool(x))"
      ],
      "metadata": {
        "colab": {
          "base_uri": "https://localhost:8080/"
        },
        "id": "nVC5gYBeXhTU",
        "outputId": "34411ba5-ebd7-417e-a68e-1ed51c5e52ea"
      },
      "execution_count": null,
      "outputs": [
        {
          "output_type": "stream",
          "name": "stdout",
          "text": [
            "True\n"
          ]
        }
      ]
    },
    {
      "cell_type": "markdown",
      "source": [
        "11. What is the output of the following Python code?"
      ],
      "metadata": {
        "id": "QtDn4Ct8XnmZ"
      }
    },
    {
      "cell_type": "code",
      "source": [
        "x = \"123\"\n",
        "y = \"456\"\n",
        "print(int(x + y))"
      ],
      "metadata": {
        "colab": {
          "base_uri": "https://localhost:8080/"
        },
        "id": "WwEkV2SCX0Zp",
        "outputId": "39e5a906-69ac-4735-cec4-11014ca9aa7d"
      },
      "execution_count": null,
      "outputs": [
        {
          "output_type": "stream",
          "name": "stdout",
          "text": [
            "123456\n"
          ]
        }
      ]
    },
    {
      "cell_type": "markdown",
      "source": [
        "12. What is the output of the following Python code?"
      ],
      "metadata": {
        "id": "g6DesHxIYIjZ"
      }
    },
    {
      "cell_type": "code",
      "source": [
        "x = 10\n",
        "y = 20\n",
        "print(x == y)"
      ],
      "metadata": {
        "colab": {
          "base_uri": "https://localhost:8080/"
        },
        "id": "5SgNWrC4YLDY",
        "outputId": "d59bba0b-7d22-46de-e51a-624e24b64489"
      },
      "execution_count": null,
      "outputs": [
        {
          "output_type": "stream",
          "name": "stdout",
          "text": [
            "False\n"
          ]
        }
      ]
    },
    {
      "cell_type": "markdown",
      "source": [
        "13. What is the output of the following Python code?"
      ],
      "metadata": {
        "id": "c1n9KhoSYSAw"
      }
    },
    {
      "cell_type": "code",
      "source": [
        "x = True\n",
        "y = False\n",
        "print(x and y)"
      ],
      "metadata": {
        "colab": {
          "base_uri": "https://localhost:8080/"
        },
        "id": "vH547da-YY9n",
        "outputId": "419ea6f3-a9e4-4240-9c62-91d67b83410f"
      },
      "execution_count": null,
      "outputs": [
        {
          "output_type": "stream",
          "name": "stdout",
          "text": [
            "False\n"
          ]
        }
      ]
    },
    {
      "cell_type": "markdown",
      "source": [
        "14. What is the output of the following Python code?"
      ],
      "metadata": {
        "id": "aDsrMOXOZCvx"
      }
    },
    {
      "cell_type": "code",
      "source": [
        "x = 10\n",
        "while x > 5:\n",
        " x -= 1\n",
        "print(x)"
      ],
      "metadata": {
        "colab": {
          "base_uri": "https://localhost:8080/"
        },
        "id": "V2Fxt2hMZPGk",
        "outputId": "bb176e89-0d2c-439b-b42b-ca50aa458663"
      },
      "execution_count": null,
      "outputs": [
        {
          "output_type": "stream",
          "name": "stdout",
          "text": [
            "5\n"
          ]
        }
      ]
    },
    {
      "cell_type": "markdown",
      "source": [
        "15. What is the output of the following Python code?"
      ],
      "metadata": {
        "id": "PmnSRk-ZZrnQ"
      }
    },
    {
      "cell_type": "code",
      "source": [
        "x = [1, 2, 3, 4, 5]\n",
        "for i in x:\n",
        " if i == 3:\n",
        "  break\n",
        " print(i, end=\" \")"
      ],
      "metadata": {
        "colab": {
          "base_uri": "https://localhost:8080/"
        },
        "id": "Ogdoz0_cZtjY",
        "outputId": "49e838e1-5c54-4bf0-ea01-c54de7221ad6"
      },
      "execution_count": null,
      "outputs": [
        {
          "output_type": "stream",
          "name": "stdout",
          "text": [
            "1 2 "
          ]
        }
      ]
    },
    {
      "cell_type": "markdown",
      "source": [
        "16. What is the output of the following Python code?"
      ],
      "metadata": {
        "id": "8kneGbBMaUpP"
      }
    },
    {
      "cell_type": "code",
      "source": [
        "\n",
        "x = [1, 2, 3, 4, 5]\n",
        "for i in x:\n",
        " if i == 3:\n",
        "  continue\n",
        " print(i, end=\" \")"
      ],
      "metadata": {
        "colab": {
          "base_uri": "https://localhost:8080/"
        },
        "id": "8R3LyoOAaWbt",
        "outputId": "269e8e7a-69d6-42d3-a3a0-17a44d36dd6b"
      },
      "execution_count": null,
      "outputs": [
        {
          "output_type": "stream",
          "name": "stdout",
          "text": [
            "1 2 4 5 "
          ]
        }
      ]
    },
    {
      "cell_type": "markdown",
      "source": [
        "17. What is the output of the following Python code?"
      ],
      "metadata": {
        "id": "8gocbn0GawDj"
      }
    },
    {
      "cell_type": "code",
      "source": [
        "x = [1, 2, \"3\", \"4\", \"5\"]\n",
        "for i in x:\n",
        " if type(i) == int:\n",
        "  continue\n",
        " print(i, end=\" \")"
      ],
      "metadata": {
        "colab": {
          "base_uri": "https://localhost:8080/"
        },
        "id": "shYaq1Kxa0bM",
        "outputId": "6e171696-e0f1-4e1c-a121-4eb7fe4517ce"
      },
      "execution_count": null,
      "outputs": [
        {
          "output_type": "stream",
          "name": "stdout",
          "text": [
            "3 4 5 "
          ]
        }
      ]
    },
    {
      "cell_type": "markdown",
      "source": [
        "18. What is the output of the following Python code?"
      ],
      "metadata": {
        "id": "5yQjNmgebQSH"
      }
    },
    {
      "cell_type": "code",
      "source": [
        "x = [1,2,3]\n",
        "y = [i**2 for i in x]\n",
        "print(y)"
      ],
      "metadata": {
        "colab": {
          "base_uri": "https://localhost:8080/"
        },
        "id": "LuPf4e9kbSCe",
        "outputId": "c3ddc27a-9141-490a-f66f-1d2d14ac668c"
      },
      "execution_count": null,
      "outputs": [
        {
          "output_type": "stream",
          "name": "stdout",
          "text": [
            "[1, 4, 9]\n"
          ]
        }
      ]
    },
    {
      "cell_type": "markdown",
      "source": [
        "19. What is the output of the following Python code?"
      ],
      "metadata": {
        "id": "ya5YAeiebtZr"
      }
    },
    {
      "cell_type": "code",
      "source": [
        "x = [i for i in range(10)]\n",
        "y = [i for i in x if i%2==0]\n",
        "print(y)"
      ],
      "metadata": {
        "colab": {
          "base_uri": "https://localhost:8080/"
        },
        "id": "_KMkYIcLb039",
        "outputId": "cc8e27c4-c4d3-41cb-9289-1b40c10b7388"
      },
      "execution_count": null,
      "outputs": [
        {
          "output_type": "stream",
          "name": "stdout",
          "text": [
            "[0, 2, 4, 6, 8]\n"
          ]
        }
      ]
    },
    {
      "cell_type": "markdown",
      "source": [
        "20. What is the output of the following Python code?"
      ],
      "metadata": {
        "id": "tbfHcxFYcG_Q"
      }
    },
    {
      "cell_type": "code",
      "source": [
        "x  = \"Hello\"\n",
        "print(x.strip())"
      ],
      "metadata": {
        "colab": {
          "base_uri": "https://localhost:8080/"
        },
        "id": "fwgdjnr2cNK1",
        "outputId": "c60b9e8e-a04c-4004-8fe1-f5978dc7f19e"
      },
      "execution_count": null,
      "outputs": [
        {
          "output_type": "stream",
          "name": "stdout",
          "text": [
            "Hello\n"
          ]
        }
      ]
    },
    {
      "cell_type": "markdown",
      "source": [
        "21. What is the output of the following Python code?"
      ],
      "metadata": {
        "id": "CWos8RUwcriy"
      }
    },
    {
      "cell_type": "code",
      "source": [
        "\n",
        "x = \"Hello\"\n",
        "print(x[-1])"
      ],
      "metadata": {
        "colab": {
          "base_uri": "https://localhost:8080/"
        },
        "id": "8KbC_9IEcyXK",
        "outputId": "12fc486b-0316-4b9c-94fa-c6149fda08f4"
      },
      "execution_count": null,
      "outputs": [
        {
          "output_type": "stream",
          "name": "stdout",
          "text": [
            "o\n"
          ]
        }
      ]
    },
    {
      "cell_type": "markdown",
      "source": [
        "22. What is the output of the following Python code?"
      ],
      "metadata": {
        "id": "hdK10JuYdG7b"
      }
    },
    {
      "cell_type": "code",
      "source": [
        "x = {1:\"one\",2:\"two\",3:\"three\"}\n",
        "print(len(x))"
      ],
      "metadata": {
        "colab": {
          "base_uri": "https://localhost:8080/"
        },
        "id": "pcWRuXfvdV3M",
        "outputId": "50beced5-e955-492c-b565-dbbec0ba799f"
      },
      "execution_count": null,
      "outputs": [
        {
          "output_type": "stream",
          "name": "stdout",
          "text": [
            "3\n"
          ]
        }
      ]
    },
    {
      "cell_type": "markdown",
      "source": [
        "23. What is the output of the following Python code?"
      ],
      "metadata": {
        "id": "2jJMNjkJdp2a"
      }
    },
    {
      "cell_type": "code",
      "source": [
        "x = [1, 2, 3]\n",
        "y = x.pop()\n",
        "print(y)"
      ],
      "metadata": {
        "colab": {
          "base_uri": "https://localhost:8080/"
        },
        "id": "mufxykmWdunF",
        "outputId": "5186003d-b5ef-44e7-d15b-fe1e8fdaffcf"
      },
      "execution_count": null,
      "outputs": [
        {
          "output_type": "stream",
          "name": "stdout",
          "text": [
            "3\n"
          ]
        }
      ]
    },
    {
      "cell_type": "markdown",
      "source": [
        "24. What is the output of the following Python code?"
      ],
      "metadata": {
        "id": "PShy4gRZd6jm"
      }
    },
    {
      "cell_type": "code",
      "source": [
        "x = {1,2,3}\n",
        "y = list(x)\n",
        "print(y)"
      ],
      "metadata": {
        "colab": {
          "base_uri": "https://localhost:8080/"
        },
        "id": "jgnXIqLOeDka",
        "outputId": "655875ab-3392-47d4-fe72-f04f34b7796f"
      },
      "execution_count": null,
      "outputs": [
        {
          "output_type": "stream",
          "name": "stdout",
          "text": [
            "[1, 2, 3]\n"
          ]
        }
      ]
    },
    {
      "cell_type": "markdown",
      "source": [
        "25. What is the output of the following Python code?"
      ],
      "metadata": {
        "id": "mJ8lddA-eb5J"
      }
    },
    {
      "cell_type": "code",
      "source": [
        "def greet(name):\n",
        " return \"Hello,\" + name\n",
        "print(greet(\"World\"))"
      ],
      "metadata": {
        "colab": {
          "base_uri": "https://localhost:8080/"
        },
        "id": "R8UWmNv9egJO",
        "outputId": "6a02332d-a137-4689-9778-8bb26bdfb451"
      },
      "execution_count": null,
      "outputs": [
        {
          "output_type": "stream",
          "name": "stdout",
          "text": [
            "Hello,World\n"
          ]
        }
      ]
    },
    {
      "cell_type": "markdown",
      "source": [
        "26. What is the output of the following Python code?"
      ],
      "metadata": {
        "id": "LAn_4Xtme6OW"
      }
    },
    {
      "cell_type": "code",
      "source": [
        "def add(x, y=2):\n",
        " return x + y\n",
        "print(add(1, 3))"
      ],
      "metadata": {
        "colab": {
          "base_uri": "https://localhost:8080/"
        },
        "id": "S7_zgazbe_q3",
        "outputId": "a448e0c4-7454-43a5-a904-5766ffecd080"
      },
      "execution_count": null,
      "outputs": [
        {
          "output_type": "stream",
          "name": "stdout",
          "text": [
            "4\n"
          ]
        }
      ]
    },
    {
      "cell_type": "markdown",
      "source": [
        "27. What is the output of the following Python code?"
      ],
      "metadata": {
        "id": "nmsIdSMNfQrd"
      }
    },
    {
      "cell_type": "code",
      "source": [
        "def add(x, y=2):\n",
        " return x + y\n",
        "print(add(1))"
      ],
      "metadata": {
        "colab": {
          "base_uri": "https://localhost:8080/"
        },
        "id": "4ixBHw2GfV2A",
        "outputId": "73ad9a76-91ef-466f-c7b1-7f4ada67adea"
      },
      "execution_count": null,
      "outputs": [
        {
          "output_type": "stream",
          "name": "stdout",
          "text": [
            "3\n"
          ]
        }
      ]
    },
    {
      "cell_type": "markdown",
      "source": [
        "28. What is the output of the following Python code?"
      ],
      "metadata": {
        "id": "FLI6gMYFfjem"
      }
    },
    {
      "cell_type": "code",
      "source": [
        "x = lambda a: a + 10\n",
        "print(x(5))"
      ],
      "metadata": {
        "colab": {
          "base_uri": "https://localhost:8080/"
        },
        "id": "glj-LFlUfptE",
        "outputId": "d88f5ae2-a4f5-4200-a3d3-139cc97a8d32"
      },
      "execution_count": null,
      "outputs": [
        {
          "output_type": "stream",
          "name": "stdout",
          "text": [
            "15\n"
          ]
        }
      ]
    },
    {
      "cell_type": "markdown",
      "source": [
        "29. What would be the output?\n",
        "If we call fun(4) ?"
      ],
      "metadata": {
        "id": "BZOiLAvggGNz"
      }
    },
    {
      "cell_type": "code",
      "source": [
        "fun = lambda x: x*fun(x-1) if x>1 else 1\n",
        "fun(4)"
      ],
      "metadata": {
        "colab": {
          "base_uri": "https://localhost:8080/"
        },
        "id": "Qc81gkdfgIus",
        "outputId": "7c4378d8-bd5c-449e-bd17-b48741c2232d"
      },
      "execution_count": null,
      "outputs": [
        {
          "output_type": "execute_result",
          "data": {
            "text/plain": [
              "24"
            ]
          },
          "metadata": {},
          "execution_count": 68
        }
      ]
    },
    {
      "cell_type": "markdown",
      "source": [
        "30. What would you be the output if we call\n",
        "anagram(help, phel)"
      ],
      "metadata": {
        "id": "0LcxHfebhZZh"
      }
    },
    {
      "cell_type": "code",
      "source": [
        "anagram = lambda x,y: sorted(x) == sorted(y)\n",
        "anagram(help,phel)"
      ],
      "metadata": {
        "id": "L_9GDhOphfyR"
      },
      "execution_count": null,
      "outputs": []
    },
    {
      "cell_type": "markdown",
      "source": [
        "Ans: Error\n",
        "\n",
        "NameError: name 'phel' is not defined"
      ],
      "metadata": {
        "id": "28OjyksQikB3"
      }
    },
    {
      "cell_type": "markdown",
      "source": [
        "31. What would you be the output if we call\n",
        "anagram('help', 'phel')"
      ],
      "metadata": {
        "id": "hSLNvbKCiyc7"
      }
    },
    {
      "cell_type": "code",
      "source": [
        "anagram = lambda x,y: sorted(x) == sorted(y)\n",
        "anagram('help', 'phel')"
      ],
      "metadata": {
        "colab": {
          "base_uri": "https://localhost:8080/"
        },
        "id": "kiWDbgawi4zG",
        "outputId": "41685242-a30e-4d0a-9b63-772f0821cb1f"
      },
      "execution_count": null,
      "outputs": [
        {
          "output_type": "execute_result",
          "data": {
            "text/plain": [
              "True"
            ]
          },
          "metadata": {},
          "execution_count": 75
        }
      ]
    },
    {
      "cell_type": "markdown",
      "source": [
        "32. What is the output of the following Python code?"
      ],
      "metadata": {
        "id": "e4kWiPg6jap9"
      }
    },
    {
      "cell_type": "code",
      "source": [
        "class Test:\n",
        " def __init__(self):\n",
        "  self.x = 1\n",
        "t1 = Test()\n",
        "t2 = Test()\n",
        "t1.x = 2\n",
        "print(t2.x)"
      ],
      "metadata": {
        "colab": {
          "base_uri": "https://localhost:8080/"
        },
        "id": "f9pIzs7AjfVb",
        "outputId": "2800423f-dbe2-455f-ac4b-b5d77ff34102"
      },
      "execution_count": null,
      "outputs": [
        {
          "output_type": "stream",
          "name": "stdout",
          "text": [
            "1\n"
          ]
        }
      ]
    },
    {
      "cell_type": "markdown",
      "source": [
        "33. What is the output of the following Python code?"
      ],
      "metadata": {
        "id": "DmB9hvtmkF9z"
      }
    },
    {
      "cell_type": "code",
      "source": [
        "class Test:\n",
        " def __init__(self, x):\n",
        "  self._x = x\n",
        "t = Test(10)\n",
        "print(t._x)"
      ],
      "metadata": {
        "colab": {
          "base_uri": "https://localhost:8080/"
        },
        "id": "jRZtOUnDkIA5",
        "outputId": "2bef6714-d4bd-4a41-f934-1b4a4435848c"
      },
      "execution_count": null,
      "outputs": [
        {
          "output_type": "stream",
          "name": "stdout",
          "text": [
            "10\n"
          ]
        }
      ]
    },
    {
      "cell_type": "markdown",
      "source": [
        "34. What is the output of the following Python code?"
      ],
      "metadata": {
        "id": "sAtpyDZDkpVn"
      }
    },
    {
      "cell_type": "code",
      "source": [
        "class Parent:\n",
        " def func(self):\n",
        "  print(\"This is parent function\")\n",
        "\n",
        "class Child(Parent):\n",
        " pass\n",
        "\n",
        "c = Child()\n",
        "c.func()"
      ],
      "metadata": {
        "colab": {
          "base_uri": "https://localhost:8080/"
        },
        "id": "DadRemdhktnK",
        "outputId": "7634166a-2708-4d7e-9a9f-2cbc23180181"
      },
      "execution_count": null,
      "outputs": [
        {
          "output_type": "stream",
          "name": "stdout",
          "text": [
            "This is parent function\n"
          ]
        }
      ]
    },
    {
      "cell_type": "markdown",
      "source": [
        "35. What is the output of the following Python code?"
      ],
      "metadata": {
        "id": "hM6pqMG3lY3q"
      }
    },
    {
      "cell_type": "code",
      "source": [
        "class Parent:\n",
        " def func(self):\n",
        "  print(\"This is parent function\")\n",
        "\n",
        "class Child(Parent):\n",
        " def func(self):\n",
        "  super().func()\n",
        "  print(\"This is child function\")\n",
        "\n",
        "c = Child()\n",
        "c.func()"
      ],
      "metadata": {
        "colab": {
          "base_uri": "https://localhost:8080/"
        },
        "id": "yFg00J37laWJ",
        "outputId": "6f153f5a-89b7-40d2-cee5-38c3bdbd3996"
      },
      "execution_count": null,
      "outputs": [
        {
          "output_type": "stream",
          "name": "stdout",
          "text": [
            "This is parent function\n",
            "This is child function\n"
          ]
        }
      ]
    },
    {
      "cell_type": "markdown",
      "source": [
        "36. What is the output of the following Python code?"
      ],
      "metadata": {
        "id": "QUU4IZFomJnO"
      }
    },
    {
      "cell_type": "code",
      "source": [
        "class Parent:\n",
        " def func(self):\n",
        "  print(\"This is parent function\")\n",
        "\n",
        "class Child(Parent):\n",
        " def func(self):\n",
        "  print(\"This is child function\")\n",
        "\n",
        "c = Child()\n",
        "c.func()"
      ],
      "metadata": {
        "colab": {
          "base_uri": "https://localhost:8080/"
        },
        "id": "JzKc6iPgmK_R",
        "outputId": "6b2d407b-9066-422e-96d4-fc4aceb4995e"
      },
      "execution_count": null,
      "outputs": [
        {
          "output_type": "stream",
          "name": "stdout",
          "text": [
            "This is child function\n"
          ]
        }
      ]
    },
    {
      "cell_type": "markdown",
      "source": [
        "37. What function is used to open a file in Python?\n",
        "\n",
        "a)open\n",
        "\n",
        "b)file_open\n",
        "\n",
        "c)f_open  \n",
        "\n",
        "d)fopen"
      ],
      "metadata": {
        "id": "ePcBdO22mfX5"
      }
    },
    {
      "cell_type": "markdown",
      "source": [
        "Ans: a) open"
      ],
      "metadata": {
        "id": "CauIqSIhnnCG"
      }
    },
    {
      "cell_type": "markdown",
      "source": [
        "38. How do you create a new directory in Python?\n",
        "\n",
        "a) os.create_directory()  \n",
        "\n",
        "b)os.make_directory()\n",
        "\n",
        "c) os.mkdir()\n",
        "\n",
        "d) os.new_directory()"
      ],
      "metadata": {
        "id": "p6Il3P3Kn2jZ"
      }
    },
    {
      "cell_type": "markdown",
      "source": [
        "Ans: c) os.mkdir()"
      ],
      "metadata": {
        "id": "41i5vY_woIrO"
      }
    },
    {
      "cell_type": "markdown",
      "source": [
        "39. What is the output of the following Python code?"
      ],
      "metadata": {
        "id": "9gIxChGZoeWW"
      }
    },
    {
      "cell_type": "code",
      "source": [
        "try:\n",
        " x = 1/0\n",
        "except ZeroDivisionError:\n",
        " x = 0\n",
        "finally:\n",
        " x = 1\n",
        "print(x)"
      ],
      "metadata": {
        "colab": {
          "base_uri": "https://localhost:8080/"
        },
        "id": "7vqY5SWnoqJJ",
        "outputId": "fa7b989b-b638-42f5-ff78-05f41bf5a38a"
      },
      "execution_count": null,
      "outputs": [
        {
          "output_type": "stream",
          "name": "stdout",
          "text": [
            "1\n"
          ]
        }
      ]
    },
    {
      "cell_type": "markdown",
      "source": [
        "40. What is the output of the following Python code?"
      ],
      "metadata": {
        "id": "iovU9LvapG6d"
      }
    },
    {
      "cell_type": "code",
      "source": [
        "try:\n",
        " x = 1/0\n",
        "except ValueError:\n",
        " x = 0\n",
        "print(x)"
      ],
      "metadata": {
        "id": "3ePuz4g2pIeD"
      },
      "execution_count": null,
      "outputs": []
    },
    {
      "cell_type": "markdown",
      "source": [
        "Ans: b) Error\n",
        "\n",
        "Because of ZeroDivisionError: division by zero"
      ],
      "metadata": {
        "id": "RA8Srd_QpiS0"
      }
    },
    {
      "cell_type": "markdown",
      "source": [
        "41. What is the output of the following Python code?"
      ],
      "metadata": {
        "id": "R1uWCcE1p5Mq"
      }
    },
    {
      "cell_type": "code",
      "source": [
        "try:\n",
        " x = 1/0\n",
        "except ZeroDivisionError:\n",
        " x = 0\n",
        "print(x)"
      ],
      "metadata": {
        "colab": {
          "base_uri": "https://localhost:8080/"
        },
        "id": "ZBpqCJybp9vc",
        "outputId": "e60d1209-1377-40eb-947c-2c609f9ca1a5"
      },
      "execution_count": null,
      "outputs": [
        {
          "output_type": "stream",
          "name": "stdout",
          "text": [
            "0\n"
          ]
        }
      ]
    },
    {
      "cell_type": "markdown",
      "source": [
        "42. What keyword is used to raise exceptions in Python?\n",
        "\n",
        "a) throw\n",
        "  \n",
        "b) raise\n",
        "\n",
        "c) try  \n",
        "d) catch"
      ],
      "metadata": {
        "id": "7CEqsnKoqomN"
      }
    },
    {
      "cell_type": "markdown",
      "source": [
        "Ans: b) raise"
      ],
      "metadata": {
        "id": "Hr0Xm6FNq6mW"
      }
    },
    {
      "cell_type": "markdown",
      "source": [
        "43. What keyword is used to handle exceptions in Python?\n",
        "\n",
        "a)except  \n",
        "\n",
        "b)handle  \n",
        "\n",
        "c)catch  \n",
        "\n",
        "d)try"
      ],
      "metadata": {
        "id": "k_NSapSbreZE"
      }
    },
    {
      "cell_type": "markdown",
      "source": [
        "Ans: a) except"
      ],
      "metadata": {
        "id": "B15e6JRgrs94"
      }
    },
    {
      "cell_type": "markdown",
      "source": [
        "44. What mode is used to open a file for reading in Python?\n",
        "\n",
        "a) r  \n",
        "\n",
        "b) x  \n",
        "\n",
        "c) w\n",
        "\n",
        "d) a"
      ],
      "metadata": {
        "id": "waKvrB2Ur7QQ"
      }
    },
    {
      "cell_type": "markdown",
      "source": [
        "Ans: a) r"
      ],
      "metadata": {
        "id": "W2s_QuNrsHEW"
      }
    },
    {
      "cell_type": "markdown",
      "source": [
        "45. What is the output of the following Python code?"
      ],
      "metadata": {
        "id": "oAUqiqzDshC1"
      }
    },
    {
      "cell_type": "code",
      "source": [
        "x = \"Hello\"\n",
        "print(x[1:4])"
      ],
      "metadata": {
        "colab": {
          "base_uri": "https://localhost:8080/"
        },
        "id": "m_hboM0gspT8",
        "outputId": "c516af59-c5d9-4ad6-da84-0593f9fc99c1"
      },
      "execution_count": null,
      "outputs": [
        {
          "output_type": "stream",
          "name": "stdout",
          "text": [
            "ell\n"
          ]
        }
      ]
    }
  ]
}